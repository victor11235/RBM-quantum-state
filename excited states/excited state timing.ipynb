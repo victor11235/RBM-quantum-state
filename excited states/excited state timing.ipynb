{
 "cells": [
  {
   "cell_type": "code",
   "execution_count": 1,
   "id": "43b36e39",
   "metadata": {},
   "outputs": [],
   "source": [
    "import multiprocessing as mp\n",
    "import netket as nk\n",
    "import os\n",
    "import json\n",
    "from qutip import *\n",
    "import numpy as np\n",
    "import scipy\n",
    "import cmath\n",
    "import matplotlib.pyplot as plt\n",
    "plt.style.use('seaborn')\n",
    "import itertools\n",
    "from numpy.random import seed\n",
    "from numpy.random import rand\n",
    "from itertools import product\n",
    "from scipy.misc import derivative\n",
    "from scipy import optimize\n",
    "from functools import wraps\n",
    "from functools import reduce\n",
    "from time import time\n",
    "from scipy.optimize import minimize\n",
    "from matplotlib import gridspec\n",
    "import copy\n",
    "import pickle\n",
    "import optax\n",
    "import excited "
   ]
  },
  {
   "cell_type": "code",
   "execution_count": 5,
   "id": "21751354",
   "metadata": {},
   "outputs": [],
   "source": [
    "def CSHam(N, B, Ak):\n",
    "    # Make graph with of length N with no periodic boundary conditions\n",
    "    g = nk.graph.Hypercube(length=N, n_dim=1, pbc=False)\n",
    "    # Spin based Hilbert Space\n",
    "    hilbertSpace = nk.hilbert.Spin(s=0.5, N=g.n_nodes)\n",
    "    # Define spin operators with \\hbar set to 1\n",
    "    sz = 0.5 * np.array([[1, 0], [0, -1]])\n",
    "    sx = 0.5 * np.array([[0, 1], [1, 0]])\n",
    "    sy = 0.5 * np.array([[0, -1j], [1j, 0]])\n",
    "    operators = []\n",
    "    sites = []\n",
    "    # Central spin term\n",
    "    operators.append((B * sz).tolist()) #array to list(ordered and changeable)\n",
    "    sites.append([0])\n",
    "    # Interaction term\n",
    "    itOp = np.kron(sz, sz) + np.kron(sx, sx) + np.kron(sy, sy) #kronecker product here\n",
    "    for i in range(N - 1):\n",
    "        operators.append((Ak[i] * itOp).tolist())\n",
    "        sites.append([0, (i+1)])  #pretty convoluted indexing, but ok\n",
    "    # Create hamiltonian\n",
    "    hamiltonian = excited.LocalOperator_e(hilbertSpace, operators=operators, acting_on=sites, dtype=complex)\n",
    "    #acting_on specifier necessary as this is a central spin model\n",
    "    return hamiltonian, hilbertSpace\n",
    "\n",
    "def exactDiagonalization_full(hamiltonian):\n",
    "    # Changes Hamiltonian to matrix form\n",
    "    haMatrix = hamiltonian.to_dense()\n",
    "    # Gets eigenvalues and vectors\n",
    "    eigenValues, v = np.linalg.eigh(haMatrix)\n",
    "    # Orders from smallest to largest\n",
    "    eigenVectors = [v[:, i] for i in range(len(eigenValues))]\n",
    "    return eigenValues, eigenVectors\n",
    "\n",
    "#input_basis directly from output of exact_diagnolization, input_vec as np array object\n",
    "def basis_trans(input_vec, input_basis, N):\n",
    "    vec_new = np.linalg.inv(np.array(v).reshape(2**N, 2**N).T).dot(input_vec.reshape(2**N, 1))\n",
    "    return vec_new\n"
   ]
  },
  {
   "cell_type": "code",
   "execution_count": 6,
   "id": "b518cd84",
   "metadata": {},
   "outputs": [],
   "source": [
    "# functions for excited states\n",
    "\n",
    "def CSHam_ex(N, B, Ak, state_list, Filling):\n",
    "    # Make graph with of length N with no periodic boundary conditions\n",
    "    g = nk.graph.Hypercube(length=N, n_dim=1, pbc=False)\n",
    "    # Spin based Hilbert Space\n",
    "    hilbertSpace = nk.hilbert.Spin(s=0.5, N=g.n_nodes)\n",
    "    # Define spin operators with \\hbar set to 1\n",
    "    sz = 0.5 * np.array([[1, 0], [0, -1]])\n",
    "    sx = 0.5 * np.array([[0, 1], [1, 0]])\n",
    "    sy = 0.5 * np.array([[0, -1j], [1j, 0]])\n",
    "    operators = []\n",
    "    sites = []\n",
    "    # Central spin term\n",
    "    operators.append((B * sz).tolist()) #array to list(ordered and changeable)\n",
    "    sites.append([0])\n",
    "    # Interaction term\n",
    "    itOp = np.kron(sz, sz) + np.kron(sx, sx) + np.kron(sy, sy) #kronecker product here\n",
    "    for i in range(N - 1):\n",
    "        operators.append((Ak[i] * itOp).tolist())\n",
    "        sites.append([0, (i+1)])  #pretty convoluted indexing, but ok\n",
    "    # now we add the extra gap filler\n",
    "    fill_Op = scipy.sparse.csr_matrix((2**N, 2**N), dtype = 'complex128')\n",
    "    for j in range(len(Filling)):\n",
    "        fill_Op += Filling[j] * scipy.sparse.kron(state_list[j], scipy.sparse.spmatrix.getH(state_list[j])) \n",
    "        \n",
    "    #operators.append(fill_Op)\n",
    "    ex_site = np.arange(0,N).tolist()\n",
    "    # Create hamiltonian\n",
    "    hamiltonian = excited.LocalOperator_e(hilbertSpace, operators=operators, acting_on=sites, dtype='complex128')\n",
    "    hamiltonian._add_operator(fill_Op, ex_site)\n",
    "    #acting_on specifier necessary as this is a central spin model\n",
    "    return hamiltonian, hilbertSpace\n",
    "\n",
    "# Error Calculation (Input: the found state, the state from exact diagonalization, the found energy, the energy from exact diagonalization)\n",
    "def err_sta(state, edState,N):\n",
    "    overlap = np.dot(state.conj().reshape(2**N, 1).T, edState.reshape(2**N, 1))\n",
    "    waveFunctionErr = 1 - (np.linalg.norm(overlap))**2\n",
    "    return waveFunctionErr\n",
    "\n",
    "# NetKet RBM with stochastic reconfiguration descent\n",
    "class RBM:\n",
    "    def __init__(self, N, hamiltonian, hilbertSpace, machine):\n",
    "        # Assign inputsv[:, i]\n",
    "        self.hamiltonian, self.hilbertSpace, self.machine, self.N = hamiltonian, hilbertSpace, machine, N\n",
    "        # Define sampler\n",
    "        self.sampler = nk.sampler.MetropolisLocal(hilbert=hilbertSpace)\n",
    "        # Define optimizer\n",
    "        #self.optimizer = nk.optimizer.Sgd(learning_rate=0.02,decay = 0.96)\n",
    "        #self.optimizer = nk.optimizer.AdaGrad(learning_rate=0.3, epscut = 10**-2, initial_accumulator_value = 0.005)\n",
    "        #self.optimizer = nk.optimizer.RmsProp(learning_rate=0.03, epscut = 10**-2, beta = 0.85)\n",
    "        #self.optimizer = nk.optimizer.Momentum(learning_rate=0.1, nesterov = False, beta = 0.8)\n",
    "        #self.optimizer = optax.adam(learning_rate=0.01, eps = 10**-2 ,b1=0.85,b2=0.99, eps_root=0.01)\n",
    "        #self.optimizer = optax.fromage(0.005,0.0005)\n",
    "        self.optimizer = optax.rmsprop(learning_rate = 0.01, decay = 0.95, eps = 10**-2, initial_scale = 0.01)\n",
    "        \n",
    "        # Define Stochastic reconfiguration\n",
    "        self.sr = nk.optimizer.SR(diag_shift=0.0001) #diagnol shift, its role as regularizer? seems to take a different form as \n",
    "        #compared to the version I have seen\n",
    "        # Variational state\n",
    "        self.vs = nk.variational.MCState(self.sampler, self.machine, n_samples=8000, n_discard=800) #discarded number of samples \n",
    "        #at the beginning of the MC chain\n",
    "\n",
    "    # Output is the name of the output file in which the descent data is stored\n",
    "    def __call__(self, output):\n",
    "        self.vs.init_parameters(nk.nn.initializers.normal(stddev=0.25))\n",
    "        gs = nk.VMC(hamiltonian=self.hamiltonian, optimizer=self.optimizer, variational_state=self.vs, precondioner=self.sr)\n",
    "        # Set the output files as well as number of iterations in the descent\n",
    "        gs.run(n_iter=10000, out=output)\n",
    "        # Import the data from log file\n",
    "        data = json.load(open(output + '.log'))\n",
    "        # Extract the relevant information\n",
    "        # iters = data[\"Energy\"][\"iters\"]\n",
    "        energy_RBM = data[\"Energy\"][\"Mean\"][\"real\"] #get the real part of the mean energy\n",
    "       \n",
    "        # finalEng = energy_RBM[-1]\n",
    "        finalEng = reduce(lambda x, y: x if y is None else y, energy_RBM)\n",
    "        # Get machine statethe state of the machine as an array\n",
    "        state = self.vs.to_array()\n",
    "        # Outputs the final energy, the final state, and the runtime\n",
    "        return finalEng, state\n",
    "\n",
    "\n",
    "def runDescentCS_ex(N,B,Ak,alpha,state_list, Filling, i):\n",
    "    np.random.seed()\n",
    "    # Define hamiltonian and hibert space (need to do this here cause can't use netket objects as input to use multiprocessing functions)\n",
    "    ha, hi = CSHam_ex(N,B,Ak,state_list, Filling)\n",
    "    # RBM Spin Machine\n",
    "    ma = nk.models.RBM(alpha=1, dtype='complex128',use_visible_bias=True, use_hidden_bias=True)\n",
    "    # Initialize RBM\n",
    "    rbm = RBM(N, ha, hi, ma) #an instance of class RBM\n",
    "    # Run RBM\n",
    "    eng, state = rbm(\"2021_summer_data/dynamics_ex_log/ex_con_Logs\"+str(N)+str(i)) #where _call_ will be invoked\n",
    "    return eng, state\n",
    "\n",
    "def combined(N,B,Ak,alpha):\n",
    "    eng = []\n",
    "    state = []\n",
    "    \n",
    "    zeros = np.zeros(2**N)\n",
    "    state_list_0 = [zeros, zeros, zeros, zeros]\n",
    "    Filling_0 = [0, 0, 0, 0]\n",
    "    \n",
    "    e_0, v_0 = runDescentCS_ex(N, B, Ak, alpha, state_list_0, Filling_0, 0)\n",
    "    fill = 2 * np.abs(e_0)\n",
    "    eng.append(e_0)\n",
    "    state.append(v_0)\n",
    "    \n",
    "    state_list_1 = [v_0, zeros, zeros, zeros]\n",
    "    Filling_1 = [fill, 0, 0, 0]\n",
    "    e_1, v_1 = runDescentCS_ex(N, B, Ak, alpha, state_list_1, Filling_1, 1)\n",
    "    eng.append(e_1)\n",
    "    state.append(v_1)\n",
    "    \n",
    "    state_list_2 = [v_0, v_1, zeros, zeros]\n",
    "    Filling_2 = [fill, fill, 0, 0]\n",
    "    e_2, v_2 = runDescentCS_ex(N, B, Ak, alpha, state_list_2, Filling_2, 2)\n",
    "    eng.append(e_2)\n",
    "    state.append(v_2)\n",
    "    \n",
    "    state_list_3 = [v_0, v_1, v_2, zeros]\n",
    "    Filling_3 = [fill, fill, fill, 0]\n",
    "    e_3, v_3 = runDescentCS_ex(N, B, Ak, alpha, state_list_3, Filling_3, 3)\n",
    "    eng.append(e_3)\n",
    "    state.append(v_3)\n",
    "    \n",
    "    state_list_4 = [v_0, v_1, v_2, v_3]\n",
    "    Filling_4 = [fill, fill, fill, fill]\n",
    "    e_4, v_4 = runDescentCS_ex(N, B, Ak, alpha, state_list_4, Filling_4, 4)\n",
    "    eng.append(e_4)\n",
    "    state.append(v_4)\n",
    "    \n",
    "    return eng, state\n",
    "\n",
    "def state_error(state_list, ex_state_list, N):\n",
    "    state_er = []\n",
    "    for i in range(len(state_list)):\n",
    "        state_er_temp = err_sta(state_list[i], ex_state_list[i], N)\n",
    "        state_er.append(state_er_temp)\n",
    "    return state_er\n",
    "\n",
    "def eng_error(eng_list, ex_energy):\n",
    "    eng_er = []\n",
    "    for i in range(len(eng_list)):\n",
    "        eng_er_temp = np.abs(eng_list[i] - ex_energy[i])\n",
    "        eng_er.append(eng_er_temp)\n",
    "    return eng_er\n",
    "\n",
    "def exactDiagonalization(hamiltonian):\n",
    "    # Changes Hamiltonian to matrix form, where hamiltonian of interest is sparse in matrix form\n",
    "    #haMatrix = hamiltonian.to_sparse()\n",
    "    # Gets eigenvalues and vectors, where the built-in function uses \n",
    "    eigenValues, v = nk.exact.lanczos_ed(hamiltonian, compute_eigenvectors=True)\n",
    "\n",
    "    # Orders from smallest to largest\n",
    "    eigenVectors = [v[:, i] for i in range(len(eigenValues))]\n",
    "    return eigenValues, eigenVectors"
   ]
  },
  {
   "cell_type": "code",
   "execution_count": 7,
   "id": "da746299",
   "metadata": {},
   "outputs": [
    {
     "name": "stdout",
     "output_type": "stream",
     "text": [
      "[-1.41524943] [array([-9.08381657e-17-1.97746318e-19j, -2.92931148e-02-4.14350458e-02j,\n",
      "       -4.17620662e-02-5.90723499e-02j, -1.33471327e-16+3.56289706e-16j,\n",
      "       -6.00892863e-02-8.49961621e-02j,  2.38046078e-17+5.21620995e-16j,\n",
      "       -4.04269963e-16+3.75068592e-16j, -3.57762935e-17-1.70431231e-18j,\n",
      "       -8.76510418e-02-1.23982204e-01j, -4.45100802e-17+6.69150133e-16j,\n",
      "       -6.33749925e-16+4.62956402e-16j, -4.32502948e-17+3.53408570e-17j,\n",
      "       -1.74387194e-16+5.91518277e-16j, -4.55422849e-17-1.81494566e-18j,\n",
      "        7.53298862e-17-5.42992161e-17j, -1.45779110e-16+4.84885219e-17j,\n",
      "       -1.30561056e-01-1.84678323e-01j,  1.90114982e-17+9.73913230e-16j,\n",
      "       -8.65164430e-16+6.33028496e-16j, -1.11276276e-16+2.71544643e-17j,\n",
      "       -1.58504036e-16+7.63880076e-16j, -8.03645405e-17-8.55949570e-17j,\n",
      "        1.46870794e-17-1.26397843e-16j, -1.63360532e-16+4.81328257e-17j,\n",
      "       -4.03905660e-16+7.04816591e-16j, -9.88590547e-17-4.86005770e-17j,\n",
      "        8.62501610e-17-8.17671462e-17j, -2.17249345e-16+1.24658449e-16j,\n",
      "        4.35592368e-17-4.13920772e-17j, -7.24255270e-17+9.71639243e-17j,\n",
      "       -1.76960931e-17+1.44007096e-16j,  1.10274798e-16-2.21171200e-17j,\n",
      "        5.49820201e-01+7.77719454e-01j, -1.51505814e-16-3.35789873e-15j,\n",
      "        2.90052674e-15-1.95392234e-15j,  2.50361008e-16-1.16542797e-16j,\n",
      "        3.11021723e-16-1.99264520e-15j,  2.14082204e-16+1.51959285e-16j,\n",
      "       -2.69044412e-17+2.68272793e-16j,  2.84872503e-16-4.65613643e-17j,\n",
      "        8.84730310e-16-1.41501389e-15j,  1.95154909e-16-1.66309944e-18j,\n",
      "       -1.95425948e-16+1.27842569e-16j,  3.09952862e-16-1.42596926e-16j,\n",
      "       -9.27219693e-17+3.81458436e-17j,  7.14760210e-17-1.38352889e-16j,\n",
      "        3.55576177e-17-1.05558357e-16j, -9.06033386e-17+5.04671750e-19j,\n",
      "        4.61391201e-16-1.19935994e-15j,  1.61051368e-16+1.64057804e-16j,\n",
      "        3.78116387e-20+1.30345709e-16j,  1.83997759e-16-8.47852613e-17j,\n",
      "       -1.00501176e-17+1.26173828e-16j,  5.54393929e-17-5.53409834e-17j,\n",
      "        5.15580225e-17-1.02021423e-16j, -2.66938035e-17+2.86540921e-17j,\n",
      "       -1.53447289e-17+7.77901786e-17j,  5.33441008e-17-1.41820726e-17j,\n",
      "       -2.16690080e-17-8.14690717e-17j, -2.03176501e-17+1.49747470e-17j,\n",
      "        1.15443223e-17-6.67890572e-17j, -4.01858660e-17+8.01415338e-18j,\n",
      "        3.50189345e-17+9.02229877e-18j,  1.74903210e-17-3.11800960e-17j])]\n"
     ]
    }
   ],
   "source": [
    "N = 6\n",
    "Ak = []\n",
    "\n",
    "alpha = 1   #density of RBM\n",
    "M = alpha*N\n",
    "# Constant A\n",
    "B = 0.95\n",
    "# Variable A\n",
    "A = N/2\n",
    "N0 = N/2\n",
    "for i in range(N-1):\n",
    "    # Constant A\n",
    "    #Ak_i = 1\n",
    "    # Variable A\n",
    "    Ak_i = A / (N0) * np.exp(-i / N0)\n",
    "    Ak.append(Ak_i)\n",
    "    \n",
    "# Define hamiltonian and hilbert space\n",
    "ha, hi = CSHam(N,B,Ak)\n",
    "\n",
    "\n",
    "#Exact Diagonalization\n",
    "e, v = exactDiagonalization(ha)\n",
    "print(e,v)\n",
    "#eng_list, state_list = combined(N,B,Ak,alpha)\n",
    "\n",
    "#print(state_error(state_list, v, N))\n",
    "#print(eng_error(eng_list, e))"
   ]
  },
  {
   "cell_type": "code",
   "execution_count": 8,
   "id": "0eb08d9a",
   "metadata": {},
   "outputs": [
    {
     "data": {
      "text/plain": [
       "'/home/victor/Dynamics'"
      ]
     },
     "execution_count": 8,
     "metadata": {},
     "output_type": "execute_result"
    }
   ],
   "source": [
    "import os\n",
    "os.chdir('/home/victor/Dynamics')\n",
    "os.getcwd()"
   ]
  },
  {
   "cell_type": "code",
   "execution_count": 20,
   "id": "0b6da8e9",
   "metadata": {},
   "outputs": [
    {
     "name": "stdout",
     "output_type": "stream",
     "text": [
      "5.8602951919617396e-05\n",
      "1.1820290633846042e-05\n"
     ]
    }
   ],
   "source": [
    "eng_list = []\n",
    "state_list = []\n",
    "\n",
    "eng_list.append(np.loadtxt(\"2021_summer_data/0.01%_error_excited_eng.json\"))\n",
    "state_list.append(np.loadtxt(\"2021_summer_data/0.01%_error_excited_state.json\", dtype = complex))\n",
    "v_0 = state_list[0].reshape(2**N,1) \n",
    "e_0 = eng_list[0]\n",
    "\n",
    "\n",
    "zeros = np.zeros(2**N)\n",
    "state_list_0 = [zeros, zeros, zeros, zeros]\n",
    "Filling_0 = [0, 0, 0, 0]\n",
    "fill = 2 * np.abs(e_0)\n",
    "\n",
    "\n",
    "print(err_sta(v_0,v[0],N))\n",
    "print(np.abs(e_0-e[0]))\n",
    "\n"
   ]
  },
  {
   "cell_type": "code",
   "execution_count": 9,
   "id": "d7fcf7ac",
   "metadata": {},
   "outputs": [
    {
     "name": "stdout",
     "output_type": "stream",
     "text": [
      "  (1, 0)\t(-0.02929311478093805-0.041435045846167425j)\n",
      "  (2, 0)\t(-0.04176206616367755-0.05907234990417227j)\n",
      "  (4, 0)\t(-0.06008928632290202-0.08499616214500733j)\n",
      "  (8, 0)\t(-0.08765104175369129-0.12398220403286941j)\n",
      "  (16, 0)\t(-0.13056105552690853-0.18467832328304584j)\n",
      "  (32, 0)\t(0.5498202012351714+0.7777194544075288j)\n"
     ]
    }
   ],
   "source": [
    "v_0 = np.array(v[0]).reshape(2**N,1)\n",
    "v_0[np.abs(v_0) < 10**-10] = 0\n",
    "v_0 = scipy.sparse.csr_matrix(v_0)\n",
    "\n",
    "print(v_0)"
   ]
  },
  {
   "cell_type": "code",
   "execution_count": 11,
   "id": "c825dfb3",
   "metadata": {},
   "outputs": [
    {
     "name": "stderr",
     "output_type": "stream",
     "text": [
      "  1%|          | 63/10000 [00:08<22:04,  7.50it/s, Energy=-1.061-0.003j ± 0.014 [σ²=1.532, R̂=1.0000]]    \n"
     ]
    },
    {
     "ename": "KeyboardInterrupt",
     "evalue": "",
     "output_type": "error",
     "traceback": [
      "\u001b[0;31m---------------------------------------------------------------------------\u001b[0m",
      "\u001b[0;31mKeyboardInterrupt\u001b[0m                         Traceback (most recent call last)",
      "\u001b[0;32m<ipython-input-11-4ead03a2c279>\u001b[0m in \u001b[0;36m<module>\u001b[0;34m\u001b[0m\n\u001b[1;32m      5\u001b[0m \u001b[0mstate_list_1\u001b[0m \u001b[0;34m=\u001b[0m \u001b[0;34m[\u001b[0m\u001b[0mv_0\u001b[0m\u001b[0;34m,\u001b[0m \u001b[0mzeros\u001b[0m\u001b[0;34m,\u001b[0m \u001b[0mzeros\u001b[0m\u001b[0;34m,\u001b[0m \u001b[0mzeros\u001b[0m\u001b[0;34m]\u001b[0m\u001b[0;34m\u001b[0m\u001b[0;34m\u001b[0m\u001b[0m\n\u001b[1;32m      6\u001b[0m \u001b[0mFilling_1\u001b[0m \u001b[0;34m=\u001b[0m \u001b[0;34m[\u001b[0m\u001b[0mfill\u001b[0m\u001b[0;34m,\u001b[0m \u001b[0;36m0\u001b[0m\u001b[0;34m,\u001b[0m \u001b[0;36m0\u001b[0m\u001b[0;34m,\u001b[0m \u001b[0;36m0\u001b[0m\u001b[0;34m]\u001b[0m\u001b[0;34m\u001b[0m\u001b[0;34m\u001b[0m\u001b[0m\n\u001b[0;32m----> 7\u001b[0;31m \u001b[0me_1\u001b[0m\u001b[0;34m,\u001b[0m \u001b[0mv_1\u001b[0m \u001b[0;34m=\u001b[0m \u001b[0mrunDescentCS_ex\u001b[0m\u001b[0;34m(\u001b[0m\u001b[0mN\u001b[0m\u001b[0;34m,\u001b[0m \u001b[0mB\u001b[0m\u001b[0;34m,\u001b[0m \u001b[0mAk\u001b[0m\u001b[0;34m,\u001b[0m \u001b[0malpha\u001b[0m\u001b[0;34m,\u001b[0m \u001b[0mstate_list_1\u001b[0m\u001b[0;34m,\u001b[0m \u001b[0mFilling_1\u001b[0m\u001b[0;34m,\u001b[0m \u001b[0;36m1\u001b[0m\u001b[0;34m)\u001b[0m\u001b[0;34m\u001b[0m\u001b[0;34m\u001b[0m\u001b[0m\n\u001b[0m",
      "\u001b[0;32m<ipython-input-6-396170ee6dcb>\u001b[0m in \u001b[0;36mrunDescentCS_ex\u001b[0;34m(N, B, Ak, alpha, state_list, Filling, i)\u001b[0m\n\u001b[1;32m     91\u001b[0m     \u001b[0mrbm\u001b[0m \u001b[0;34m=\u001b[0m \u001b[0mRBM\u001b[0m\u001b[0;34m(\u001b[0m\u001b[0mN\u001b[0m\u001b[0;34m,\u001b[0m \u001b[0mha\u001b[0m\u001b[0;34m,\u001b[0m \u001b[0mhi\u001b[0m\u001b[0;34m,\u001b[0m \u001b[0mma\u001b[0m\u001b[0;34m)\u001b[0m \u001b[0;31m#an instance of class RBM\u001b[0m\u001b[0;34m\u001b[0m\u001b[0;34m\u001b[0m\u001b[0m\n\u001b[1;32m     92\u001b[0m     \u001b[0;31m# Run RBM\u001b[0m\u001b[0;34m\u001b[0m\u001b[0;34m\u001b[0m\u001b[0;34m\u001b[0m\u001b[0m\n\u001b[0;32m---> 93\u001b[0;31m     \u001b[0meng\u001b[0m\u001b[0;34m,\u001b[0m \u001b[0mstate\u001b[0m \u001b[0;34m=\u001b[0m \u001b[0mrbm\u001b[0m\u001b[0;34m(\u001b[0m\u001b[0;34m\"2021_summer_data/dynamics_ex_log/ex_con_Logs\"\u001b[0m\u001b[0;34m+\u001b[0m\u001b[0mstr\u001b[0m\u001b[0;34m(\u001b[0m\u001b[0mN\u001b[0m\u001b[0;34m)\u001b[0m\u001b[0;34m+\u001b[0m\u001b[0mstr\u001b[0m\u001b[0;34m(\u001b[0m\u001b[0mi\u001b[0m\u001b[0;34m)\u001b[0m\u001b[0;34m)\u001b[0m \u001b[0;31m#where _call_ will be invoked\u001b[0m\u001b[0;34m\u001b[0m\u001b[0;34m\u001b[0m\u001b[0m\n\u001b[0m\u001b[1;32m     94\u001b[0m     \u001b[0;32mreturn\u001b[0m \u001b[0meng\u001b[0m\u001b[0;34m,\u001b[0m \u001b[0mstate\u001b[0m\u001b[0;34m\u001b[0m\u001b[0;34m\u001b[0m\u001b[0m\n\u001b[1;32m     95\u001b[0m \u001b[0;34m\u001b[0m\u001b[0m\n",
      "\u001b[0;32m<ipython-input-6-396170ee6dcb>\u001b[0m in \u001b[0;36m__call__\u001b[0;34m(self, output)\u001b[0m\n\u001b[1;32m     67\u001b[0m         \u001b[0mgs\u001b[0m \u001b[0;34m=\u001b[0m \u001b[0mnk\u001b[0m\u001b[0;34m.\u001b[0m\u001b[0mVMC\u001b[0m\u001b[0;34m(\u001b[0m\u001b[0mhamiltonian\u001b[0m\u001b[0;34m=\u001b[0m\u001b[0mself\u001b[0m\u001b[0;34m.\u001b[0m\u001b[0mhamiltonian\u001b[0m\u001b[0;34m,\u001b[0m \u001b[0moptimizer\u001b[0m\u001b[0;34m=\u001b[0m\u001b[0mself\u001b[0m\u001b[0;34m.\u001b[0m\u001b[0moptimizer\u001b[0m\u001b[0;34m,\u001b[0m \u001b[0mvariational_state\u001b[0m\u001b[0;34m=\u001b[0m\u001b[0mself\u001b[0m\u001b[0;34m.\u001b[0m\u001b[0mvs\u001b[0m\u001b[0;34m,\u001b[0m \u001b[0mprecondioner\u001b[0m\u001b[0;34m=\u001b[0m\u001b[0mself\u001b[0m\u001b[0;34m.\u001b[0m\u001b[0msr\u001b[0m\u001b[0;34m)\u001b[0m\u001b[0;34m\u001b[0m\u001b[0;34m\u001b[0m\u001b[0m\n\u001b[1;32m     68\u001b[0m         \u001b[0;31m# Set the output files as well as number of iterations in the descent\u001b[0m\u001b[0;34m\u001b[0m\u001b[0;34m\u001b[0m\u001b[0;34m\u001b[0m\u001b[0m\n\u001b[0;32m---> 69\u001b[0;31m         \u001b[0mgs\u001b[0m\u001b[0;34m.\u001b[0m\u001b[0mrun\u001b[0m\u001b[0;34m(\u001b[0m\u001b[0mn_iter\u001b[0m\u001b[0;34m=\u001b[0m\u001b[0;36m10000\u001b[0m\u001b[0;34m,\u001b[0m \u001b[0mout\u001b[0m\u001b[0;34m=\u001b[0m\u001b[0moutput\u001b[0m\u001b[0;34m)\u001b[0m\u001b[0;34m\u001b[0m\u001b[0;34m\u001b[0m\u001b[0m\n\u001b[0m\u001b[1;32m     70\u001b[0m         \u001b[0;31m# Import the data from log file\u001b[0m\u001b[0;34m\u001b[0m\u001b[0;34m\u001b[0m\u001b[0;34m\u001b[0m\u001b[0m\n\u001b[1;32m     71\u001b[0m         \u001b[0mdata\u001b[0m \u001b[0;34m=\u001b[0m \u001b[0mjson\u001b[0m\u001b[0;34m.\u001b[0m\u001b[0mload\u001b[0m\u001b[0;34m(\u001b[0m\u001b[0mopen\u001b[0m\u001b[0;34m(\u001b[0m\u001b[0moutput\u001b[0m \u001b[0;34m+\u001b[0m \u001b[0;34m'.log'\u001b[0m\u001b[0;34m)\u001b[0m\u001b[0;34m)\u001b[0m\u001b[0;34m\u001b[0m\u001b[0;34m\u001b[0m\u001b[0m\n",
      "\u001b[0;32m~/.local/lib/python3.8/site-packages/netket/driver/abstract_variational_driver.py\u001b[0m in \u001b[0;36mrun\u001b[0;34m(self, n_iter, out, obs, show_progress, save_params_every, write_every, step_size, callback)\u001b[0m\n\u001b[1;32m    256\u001b[0m                 \u001b[0;31m# if the cost-function is defined then report it in the progress bar\u001b[0m\u001b[0;34m\u001b[0m\u001b[0;34m\u001b[0m\u001b[0;34m\u001b[0m\u001b[0m\n\u001b[1;32m    257\u001b[0m                 \u001b[0;32mif\u001b[0m \u001b[0mself\u001b[0m\u001b[0;34m.\u001b[0m\u001b[0m_loss_stats\u001b[0m \u001b[0;32mis\u001b[0m \u001b[0;32mnot\u001b[0m \u001b[0;32mNone\u001b[0m\u001b[0;34m:\u001b[0m\u001b[0;34m\u001b[0m\u001b[0;34m\u001b[0m\u001b[0m\n\u001b[0;32m--> 258\u001b[0;31m                     \u001b[0mitr\u001b[0m\u001b[0;34m.\u001b[0m\u001b[0mset_postfix_str\u001b[0m\u001b[0;34m(\u001b[0m\u001b[0mself\u001b[0m\u001b[0;34m.\u001b[0m\u001b[0m_loss_name\u001b[0m \u001b[0;34m+\u001b[0m \u001b[0;34m\"=\"\u001b[0m \u001b[0;34m+\u001b[0m \u001b[0mstr\u001b[0m\u001b[0;34m(\u001b[0m\u001b[0mself\u001b[0m\u001b[0;34m.\u001b[0m\u001b[0m_loss_stats\u001b[0m\u001b[0;34m)\u001b[0m\u001b[0;34m)\u001b[0m\u001b[0;34m\u001b[0m\u001b[0;34m\u001b[0m\u001b[0m\n\u001b[0m\u001b[1;32m    259\u001b[0m                     \u001b[0mlog_data\u001b[0m\u001b[0;34m[\u001b[0m\u001b[0mself\u001b[0m\u001b[0;34m.\u001b[0m\u001b[0m_loss_name\u001b[0m\u001b[0;34m]\u001b[0m \u001b[0;34m=\u001b[0m \u001b[0mself\u001b[0m\u001b[0;34m.\u001b[0m\u001b[0m_loss_stats\u001b[0m\u001b[0;34m\u001b[0m\u001b[0;34m\u001b[0m\u001b[0m\n\u001b[1;32m    260\u001b[0m \u001b[0;34m\u001b[0m\u001b[0m\n",
      "\u001b[0;32m~/.local/lib/python3.8/site-packages/netket/stats/mc_stats.py\u001b[0m in \u001b[0;36m__repr__\u001b[0;34m(self)\u001b[0m\n\u001b[1;32m     86\u001b[0m \u001b[0;34m\u001b[0m\u001b[0m\n\u001b[1;32m     87\u001b[0m     \u001b[0;32mdef\u001b[0m \u001b[0m__repr__\u001b[0m\u001b[0;34m(\u001b[0m\u001b[0mself\u001b[0m\u001b[0;34m)\u001b[0m\u001b[0;34m:\u001b[0m\u001b[0;34m\u001b[0m\u001b[0;34m\u001b[0m\u001b[0m\n\u001b[0;32m---> 88\u001b[0;31m         \u001b[0mmean\u001b[0m\u001b[0;34m,\u001b[0m \u001b[0merr\u001b[0m\u001b[0;34m,\u001b[0m \u001b[0mvar\u001b[0m \u001b[0;34m=\u001b[0m \u001b[0m_format_decimal\u001b[0m\u001b[0;34m(\u001b[0m\u001b[0mself\u001b[0m\u001b[0;34m.\u001b[0m\u001b[0mmean\u001b[0m\u001b[0;34m,\u001b[0m \u001b[0mself\u001b[0m\u001b[0;34m.\u001b[0m\u001b[0merror_of_mean\u001b[0m\u001b[0;34m,\u001b[0m \u001b[0mself\u001b[0m\u001b[0;34m.\u001b[0m\u001b[0mvariance\u001b[0m\u001b[0;34m)\u001b[0m\u001b[0;34m\u001b[0m\u001b[0;34m\u001b[0m\u001b[0m\n\u001b[0m\u001b[1;32m     89\u001b[0m         \u001b[0;32mif\u001b[0m \u001b[0;32mnot\u001b[0m \u001b[0mmath\u001b[0m\u001b[0;34m.\u001b[0m\u001b[0misnan\u001b[0m\u001b[0;34m(\u001b[0m\u001b[0mself\u001b[0m\u001b[0;34m.\u001b[0m\u001b[0mR_hat\u001b[0m\u001b[0;34m)\u001b[0m\u001b[0;34m:\u001b[0m\u001b[0;34m\u001b[0m\u001b[0;34m\u001b[0m\u001b[0m\n\u001b[1;32m     90\u001b[0m             \u001b[0mext\u001b[0m \u001b[0;34m=\u001b[0m \u001b[0;34m\", R̂={:.4f}\"\u001b[0m\u001b[0;34m.\u001b[0m\u001b[0mformat\u001b[0m\u001b[0;34m(\u001b[0m\u001b[0mself\u001b[0m\u001b[0;34m.\u001b[0m\u001b[0mR_hat\u001b[0m\u001b[0;34m)\u001b[0m\u001b[0;34m\u001b[0m\u001b[0;34m\u001b[0m\u001b[0m\n",
      "\u001b[0;32m~/.local/lib/python3.8/site-packages/netket/stats/mc_stats.py\u001b[0m in \u001b[0;36m_format_decimal\u001b[0;34m(value, std, var)\u001b[0m\n\u001b[1;32m     34\u001b[0m \u001b[0;34m\u001b[0m\u001b[0m\n\u001b[1;32m     35\u001b[0m \u001b[0;32mdef\u001b[0m \u001b[0m_format_decimal\u001b[0m\u001b[0;34m(\u001b[0m\u001b[0mvalue\u001b[0m\u001b[0;34m,\u001b[0m \u001b[0mstd\u001b[0m\u001b[0;34m,\u001b[0m \u001b[0mvar\u001b[0m\u001b[0;34m)\u001b[0m\u001b[0;34m:\u001b[0m\u001b[0;34m\u001b[0m\u001b[0;34m\u001b[0m\u001b[0m\n\u001b[0;32m---> 36\u001b[0;31m     \u001b[0;32mif\u001b[0m \u001b[0mmath\u001b[0m\u001b[0;34m.\u001b[0m\u001b[0misfinite\u001b[0m\u001b[0;34m(\u001b[0m\u001b[0mstd\u001b[0m\u001b[0;34m)\u001b[0m \u001b[0;32mand\u001b[0m \u001b[0mstd\u001b[0m \u001b[0;34m>\u001b[0m \u001b[0;36m1e-7\u001b[0m\u001b[0;34m:\u001b[0m\u001b[0;34m\u001b[0m\u001b[0;34m\u001b[0m\u001b[0m\n\u001b[0m\u001b[1;32m     37\u001b[0m         \u001b[0mdecimals\u001b[0m \u001b[0;34m=\u001b[0m \u001b[0mmax\u001b[0m\u001b[0;34m(\u001b[0m\u001b[0mint\u001b[0m\u001b[0;34m(\u001b[0m\u001b[0mnp\u001b[0m\u001b[0;34m.\u001b[0m\u001b[0mceil\u001b[0m\u001b[0;34m(\u001b[0m\u001b[0;34m-\u001b[0m\u001b[0mnp\u001b[0m\u001b[0;34m.\u001b[0m\u001b[0mlog10\u001b[0m\u001b[0;34m(\u001b[0m\u001b[0mstd\u001b[0m\u001b[0;34m)\u001b[0m\u001b[0;34m)\u001b[0m\u001b[0;34m)\u001b[0m\u001b[0;34m,\u001b[0m \u001b[0;36m0\u001b[0m\u001b[0;34m)\u001b[0m\u001b[0;34m\u001b[0m\u001b[0;34m\u001b[0m\u001b[0m\n\u001b[1;32m     38\u001b[0m         return (\n",
      "\u001b[0;32m~/.local/lib/python3.8/site-packages/jax/interpreters/xla.py\u001b[0m in \u001b[0;36m<lambda>\u001b[0;34m(self)\u001b[0m\n\u001b[1;32m   1272\u001b[0m   \u001b[0msetattr\u001b[0m\u001b[0;34m(\u001b[0m\u001b[0mdevice_array\u001b[0m\u001b[0;34m,\u001b[0m \u001b[0;34m\"__bool__\"\u001b[0m\u001b[0;34m,\u001b[0m \u001b[0mpartialmethod\u001b[0m\u001b[0;34m(\u001b[0m\u001b[0m_forward_to_value\u001b[0m\u001b[0;34m,\u001b[0m \u001b[0mbool\u001b[0m\u001b[0;34m)\u001b[0m\u001b[0;34m)\u001b[0m\u001b[0;34m\u001b[0m\u001b[0;34m\u001b[0m\u001b[0m\n\u001b[1;32m   1273\u001b[0m   \u001b[0msetattr\u001b[0m\u001b[0;34m(\u001b[0m\u001b[0mdevice_array\u001b[0m\u001b[0;34m,\u001b[0m \u001b[0;34m\"__nonzero__\"\u001b[0m\u001b[0;34m,\u001b[0m \u001b[0mpartialmethod\u001b[0m\u001b[0;34m(\u001b[0m\u001b[0m_forward_to_value\u001b[0m\u001b[0;34m,\u001b[0m \u001b[0mbool\u001b[0m\u001b[0;34m)\u001b[0m\u001b[0;34m)\u001b[0m\u001b[0;34m\u001b[0m\u001b[0;34m\u001b[0m\u001b[0m\n\u001b[0;32m-> 1274\u001b[0;31m   \u001b[0msetattr\u001b[0m\u001b[0;34m(\u001b[0m\u001b[0mdevice_array\u001b[0m\u001b[0;34m,\u001b[0m \u001b[0;34m\"__float__\"\u001b[0m\u001b[0;34m,\u001b[0m \u001b[0;32mlambda\u001b[0m \u001b[0mself\u001b[0m\u001b[0;34m:\u001b[0m \u001b[0mself\u001b[0m\u001b[0;34m.\u001b[0m\u001b[0m_value\u001b[0m\u001b[0;34m.\u001b[0m\u001b[0m__float__\u001b[0m\u001b[0;34m(\u001b[0m\u001b[0;34m)\u001b[0m\u001b[0;34m)\u001b[0m\u001b[0;34m\u001b[0m\u001b[0;34m\u001b[0m\u001b[0m\n\u001b[0m\u001b[1;32m   1275\u001b[0m   \u001b[0msetattr\u001b[0m\u001b[0;34m(\u001b[0m\u001b[0mdevice_array\u001b[0m\u001b[0;34m,\u001b[0m \u001b[0;34m\"__int__\"\u001b[0m\u001b[0;34m,\u001b[0m \u001b[0;32mlambda\u001b[0m \u001b[0mself\u001b[0m\u001b[0;34m:\u001b[0m \u001b[0mself\u001b[0m\u001b[0;34m.\u001b[0m\u001b[0m_value\u001b[0m\u001b[0;34m.\u001b[0m\u001b[0m__int__\u001b[0m\u001b[0;34m(\u001b[0m\u001b[0;34m)\u001b[0m\u001b[0;34m)\u001b[0m\u001b[0;34m\u001b[0m\u001b[0;34m\u001b[0m\u001b[0m\n\u001b[1;32m   1276\u001b[0m   \u001b[0msetattr\u001b[0m\u001b[0;34m(\u001b[0m\u001b[0mdevice_array\u001b[0m\u001b[0;34m,\u001b[0m \u001b[0;34m\"__complex__\"\u001b[0m\u001b[0;34m,\u001b[0m \u001b[0;32mlambda\u001b[0m \u001b[0mself\u001b[0m\u001b[0;34m:\u001b[0m \u001b[0mself\u001b[0m\u001b[0;34m.\u001b[0m\u001b[0m_value\u001b[0m\u001b[0;34m.\u001b[0m\u001b[0m__complex__\u001b[0m\u001b[0;34m(\u001b[0m\u001b[0;34m)\u001b[0m\u001b[0;34m)\u001b[0m\u001b[0;34m\u001b[0m\u001b[0;34m\u001b[0m\u001b[0m\n",
      "\u001b[0;31mKeyboardInterrupt\u001b[0m: "
     ]
    }
   ],
   "source": [
    "zeros = np.zeros(2**N)\n",
    "fill = 2 * np.abs(e[0])\n",
    "\n",
    "zeros = scipy.sparse.csr_matrix(zeros)\n",
    "state_list_1 = [v_0, zeros, zeros, zeros]\n",
    "Filling_1 = [fill, 0, 0, 0]\n",
    "e_1, v_1 = runDescentCS_ex(N, B, Ak, alpha, state_list_1, Filling_1, 1)"
   ]
  },
  {
   "cell_type": "code",
   "execution_count": 11,
   "id": "3b43de00",
   "metadata": {},
   "outputs": [
    {
     "name": "stdout",
     "output_type": "stream",
     "text": [
      "[[ 0.+0.j]\n",
      " [ 0.+0.j]\n",
      " [ 0.+0.j]\n",
      " [ 4.+0.j]\n",
      " [10.+2.j]]\n"
     ]
    }
   ],
   "source": [
    "a = np.array([1+1j,2,3,4,10+2j]).reshape(5,1)\n",
    "a[np.abs(a) < 4] = 0\n",
    "print(a)"
   ]
  },
  {
   "cell_type": "code",
   "execution_count": 17,
   "id": "e94b3262",
   "metadata": {},
   "outputs": [
    {
     "name": "stdout",
     "output_type": "stream",
     "text": [
      "169\n"
     ]
    }
   ],
   "source": [
    "c = 2 * scipy.sparse.kron(v_0, scipy.sparse.spmatrix.getH(v_0))\n",
    "print(c.getnnz())"
   ]
  },
  {
   "cell_type": "code",
   "execution_count": null,
   "id": "c60433e3",
   "metadata": {},
   "outputs": [],
   "source": [
    "\n",
    "e, v = exactDiagonalization(ha)\n"
   ]
  },
  {
   "cell_type": "code",
   "execution_count": null,
   "id": "5828bb95",
   "metadata": {},
   "outputs": [],
   "source": []
  }
 ],
 "metadata": {
  "kernelspec": {
   "display_name": "Python 3",
   "language": "python",
   "name": "python3"
  },
  "language_info": {
   "codemirror_mode": {
    "name": "ipython",
    "version": 3
   },
   "file_extension": ".py",
   "mimetype": "text/x-python",
   "name": "python",
   "nbconvert_exporter": "python",
   "pygments_lexer": "ipython3",
   "version": "3.8.5"
  }
 },
 "nbformat": 4,
 "nbformat_minor": 5
}
