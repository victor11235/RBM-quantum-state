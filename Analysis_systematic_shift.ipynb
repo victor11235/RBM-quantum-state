{
 "cells": [
  {
   "cell_type": "code",
   "execution_count": 1,
   "id": "d13ca30e",
   "metadata": {},
   "outputs": [],
   "source": [
    "import netket as nk\n",
    "import json\n",
    "from qutip import *\n",
    "import numpy as np\n",
    "import time\n",
    "import multiprocessing as mp\n",
    "from collections import OrderedDict\n",
    "from pickle import dump\n",
    "import os\n",
    "import matplotlib.pyplot as plt\n",
    "import scipy\n",
    "from matplotlib import gridspec\n",
    "from functools import reduce\n",
    "plt.style.use('seaborn')\n",
    "from scipy.stats import norm"
   ]
  },
  {
   "cell_type": "code",
   "execution_count": 2,
   "id": "d02b8f8e",
   "metadata": {},
   "outputs": [],
   "source": [
    "#data extraction for average energy error, normalized by the energy gap.\n",
    "def e_norm (eng_er, gap):\n",
    "    norm = eng_er/gap\n",
    "    return norm\n",
    "\n",
    "#we get gap from full_diag\n",
    "gap = 1.3015197184914418-1.1997767746588515\n",
    "\n",
    "#load data and get average energy error\n",
    "N5_001_var = []\n",
    "with open('2021_summer_data/N5M5_0.01_systematic_var.json') as f:\n",
    "    for line in f:\n",
    "        N5_001_var.append(json.loads(line))\n",
    "er_001 = e_norm(np.average(N5_001_var[0]),gap)\n",
    "\n",
    "N5_005_var = []\n",
    "with open('2021_summer_data/N5M5_0.05_systematic_var.json') as f:\n",
    "    for line in f:\n",
    "        N5_005_var.append(json.loads(line))\n",
    "er_005 = e_norm(np.average(N5_005_var[0]),gap)\n",
    "\n",
    "N5_010_var = []\n",
    "with open('2021_summer_data/N5M5_0.1_systematic_var.json') as f:\n",
    "    for line in f:\n",
    "        N5_010_var.append(json.loads(line))\n",
    "er_010 = e_norm(np.average(N5_010_var[0]),gap)\n",
    "\n",
    "N5_020_var = []\n",
    "with open('2021_summer_data/N5M5_0.2_systematic_var.json') as f:\n",
    "    for line in f:\n",
    "        N5_020_var.append(json.loads(line))\n",
    "er_020 = e_norm(np.average(N5_020_var[0]),gap)\n",
    "\n",
    "N5_050_var = []\n",
    "with open('2021_summer_data/N5M5_0.5_systematic_var.json') as f:\n",
    "    for line in f:\n",
    "        N5_050_var.append(json.loads(line))\n",
    "er_050 = e_norm(np.average(N5_050_var[0]),gap)\n",
    "\n",
    "N5_100_var = []\n",
    "with open('2021_summer_data/N5M5_1.0_systematic_var.json') as f:\n",
    "    for line in f:\n",
    "        N5_100_var.append(json.loads(line))\n",
    "er_100 = e_norm(np.average(N5_100_var[0]),gap)\n"
   ]
  },
  {
   "cell_type": "code",
   "execution_count": 3,
   "id": "739e4012",
   "metadata": {},
   "outputs": [],
   "source": [
    "#we get gap_con from full_diag\n",
    "gap_con = 1.8313364600868471-1.673244532749028\n",
    "\n",
    "#load data and get average energy error\n",
    "N5_001_con = []\n",
    "with open('2021_summer_data/N5M5_0.01_systematic_con.json') as f:\n",
    "    for line in f:\n",
    "        N5_001_con.append(json.loads(line))\n",
    "er_con_001 = e_norm(np.average(N5_001_con[0]),gap_con)\n",
    "\n",
    "N5_005_con = []\n",
    "with open('2021_summer_data/N5M5_0.05_systematic_con.json') as f:\n",
    "    for line in f:\n",
    "        N5_005_con.append(json.loads(line))\n",
    "er_con_005 = e_norm(np.average(N5_005_con[0]),gap_con)\n",
    "\n",
    "N5_010_con = []\n",
    "with open('2021_summer_data/N5M5_0.1_systematic_con.json') as f:\n",
    "    for line in f:\n",
    "        N5_010_con.append(json.loads(line))\n",
    "er_con_010 = e_norm(np.average(N5_010_con[0]),gap_con)\n",
    "\n",
    "N5_020_con = []\n",
    "with open('2021_summer_data/N5M5_0.2_systematic_con.json') as f:\n",
    "    for line in f:\n",
    "        N5_020_con.append(json.loads(line))\n",
    "er_con_020 = e_norm(np.average(N5_020_con[0]),gap_con)\n",
    "\n",
    "N5_050_con = []\n",
    "with open('2021_summer_data/N5M5_0.5_systematic_con.json') as f:\n",
    "    for line in f:\n",
    "        N5_050_con.append(json.loads(line))\n",
    "er_con_050 = e_norm(np.average(N5_050_con[0]),gap_con)\n",
    "\n",
    "N5_100_con = []\n",
    "with open('2021_summer_data/N5M5_1.0_systematic_con.json') as f:\n",
    "    for line in f:\n",
    "        N5_100_con.append(json.loads(line))\n",
    "er_con_100 = e_norm(np.average(N5_100_con[0]),gap_con)\n"
   ]
  },
  {
   "cell_type": "code",
   "execution_count": 4,
   "id": "b4a2b14e",
   "metadata": {},
   "outputs": [
    {
     "name": "stdout",
     "output_type": "stream",
     "text": [
      "[0.013706434592438277, 0.031559632494932814, 0.06171666727447793, 0.04927215907435294, 0.1372153394751049, 0.5277647332072181] [0.023164738405283585, 0.012962892057725748, 0.015279595269898293, 0.04102206895146291, 0.1270349383872148, 0.2215722007343825]\n"
     ]
    }
   ],
   "source": [
    "#here we check the data\n",
    "er_norm = [er_001, er_005, er_010, er_020, er_050, er_100]\n",
    "er_con_norm = [er_con_001, er_con_005, er_con_010, er_con_020, er_con_050, er_con_100]\n",
    "shift = [0.01, 0.05, 0.1, 0.2, 0.5, 1]\n",
    "print(er_norm, er_con_norm)"
   ]
  },
  {
   "cell_type": "code",
   "execution_count": 5,
   "id": "034bae0a",
   "metadata": {},
   "outputs": [
    {
     "data": {
      "image/png": "[encoded data removed]",
      "text/plain": [
       "<Figure size 576x396 with 1 Axes>"
      ]
     },
     "metadata": {},
     "output_type": "display_data"
    }
   ],
   "source": [
    "#finally, plot them\n",
    "plt.plot(shift,er_norm,'b>',markersize=8,label='N=5, varying A')\n",
    "plt.plot(shift,er_con_norm,'g>', markersize=8, label='N=5, constant A' )\n",
    "plt.ylabel('Normed average Energy error')\n",
    "plt.xlabel('Diagnol shift')\n",
    "plt.legend()\n",
    "plt.show()"
   ]
  },
  {
   "cell_type": "code",
   "execution_count": null,
   "id": "7a305a85",
   "metadata": {},
   "outputs": [],
   "source": []
  }
 ],
 "metadata": {
  "kernelspec": {
   "display_name": "Python 3",
   "language": "python",
   "name": "python3"
  },
  "language_info": {
   "codemirror_mode": {
    "name": "ipython",
    "version": 3
   },
   "file_extension": ".py",
   "mimetype": "text/x-python",
   "name": "python",
   "nbconvert_exporter": "python",
   "pygments_lexer": "ipython3",
   "version": "3.8.5"
  }
 },
 "nbformat": 4,
 "nbformat_minor": 5
}
