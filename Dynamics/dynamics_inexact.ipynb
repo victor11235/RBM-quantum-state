{
 "cells": [
  {
   "cell_type": "code",
   "execution_count": 1,
   "id": "dc9cf94e",
   "metadata": {},
   "outputs": [],
   "source": [
    "import multiprocessing as mp\n",
    "import netket as nk\n",
    "import os\n",
    "import json\n",
    "from qutip import *\n",
    "import numpy as np\n",
    "import scipy\n",
    "import cmath\n",
    "import matplotlib.pyplot as plt\n",
    "plt.style.use('seaborn')\n",
    "import itertools\n",
    "from numpy.random import seed\n",
    "from numpy.random import rand\n",
    "from itertools import product\n",
    "from scipy.misc import derivative\n",
    "from scipy import optimize\n",
    "from functools import wraps\n",
    "from time import time\n",
    "from scipy.optimize import minimize\n",
    "from matplotlib import gridspec\n",
    "import copy"
   ]
  },
  {
   "cell_type": "code",
   "execution_count": 2,
   "id": "7aca4100",
   "metadata": {},
   "outputs": [],
   "source": [
    "#basis transfer fuction, from a basis of eigenstates to a basis of \"basis states\"\n",
    "def transfer(state_eig, sta_list, eng_list, N):\n",
    "    state_basis = np.zeros(2**N, dtype= 'complex128')\n",
    "    for i in range(len(eng_list)):\n",
    "        state_basis += state_eig[i] * sta_list[i]\n",
    "    return state_basis #/ np.linalg.norm(state_basis)\n",
    "\n",
    "def expected(A, norm_psi):\n",
    "        \n",
    "    expectation = np.dot(np.conj(norm_psi).T, np.matmul(A, norm_psi) )\n",
    "    return expectation"
   ]
  },
  {
   "cell_type": "code",
   "execution_count": 3,
   "id": "b7a000c9",
   "metadata": {},
   "outputs": [],
   "source": [
    "\n",
    "#evolve the state vector itself, where sta_init is in the basis of the eigenstates, and all input states are np arrays. \n",
    "def evo_sta(sta_list, eng_list, t_end, t_step, sta_init, N):\n",
    "    num_step = int(t_end / t_step)\n",
    "    time = [0]\n",
    "    state = [transfer(sta_init, sta_list, eng_list, N).reshape(2**N,1)]\n",
    "    state_temp = copy.deepcopy(sta_init)\n",
    "    for i in range(num_step):\n",
    "        time.append(t_step*(i+1))\n",
    "        \n",
    "        for j in range(len(eng_list)):\n",
    "            op = np.exp(- 1j * eng_list[j] * t_step)\n",
    "            state_temp[j] = op * state_temp[j]\n",
    "            \n",
    "        state.append(transfer(state_temp, sta_list, eng_list, N).reshape(2**N,1))\n",
    "        \n",
    "    return time, state\n",
    "        \n",
    "    \n",
    "    \n",
    "#evolve the expectation value\n",
    "def evo_exp(time, state, obs):\n",
    "    obser = []\n",
    "    for i in range(len(time)):\n",
    "        obser.append(expected(obs,state[i])[0])\n",
    " \n",
    "    return obser\n",
    "        \n",
    "    "
   ]
  },
  {
   "cell_type": "code",
   "execution_count": 4,
   "id": "d0eb99b9",
   "metadata": {},
   "outputs": [],
   "source": [
    "#Make basis and get sz values\n",
    "def operatorCreation(N):\n",
    "    #operator definitionis\n",
    "    si = qeye(2)\n",
    "    sx = 0.5*sigmax()\n",
    "    sy = 0.5*sigmay()\n",
    "    sz = 0.5*sigmaz()\n",
    "    \n",
    "\n",
    "    sx_list = []\n",
    "    sy_list = []\n",
    "    sz_list = []\n",
    "    \n",
    "\n",
    "    for n in range(N):\n",
    "        op_list = []\n",
    "        for m in range(N):\n",
    "            op_list.append(si)\n",
    "\n",
    "        op_list[n] = sx\n",
    "        sx_list.append(tensor(op_list))\n",
    "\n",
    "        op_list[n] = sy\n",
    "        sy_list.append(tensor(op_list))\n",
    "\n",
    "        op_list[n] = sz\n",
    "        sz_list.append(tensor(op_list))\n",
    "        \n",
    "        op_list[n] = si\n",
    "    id = tensor(op_list)\n",
    "        \n",
    "    return sx_list, sy_list, sz_list,id\n",
    "\n",
    "def CSHam(N, B, Ak):\n",
    "    # Make graph with of length N with no periodic boundary conditions\n",
    "    g = nk.graph.Hypercube(length=N, n_dim=1, pbc=False)\n",
    "    # Spin based Hilbert Space\n",
    "    hilbertSpace = nk.hilbert.Spin(s=0.5, N=g.n_nodes)\n",
    "    # Define spin operators with \\hbar set to 1\n",
    "    sz = 0.5 * np.array([[1, 0], [0, -1]])\n",
    "    sx = 0.5 * np.array([[0, 1], [1, 0]])\n",
    "    sy = 0.5 * np.array([[0, -1j], [1j, 0]])\n",
    "    operators = []\n",
    "    sites = []\n",
    "    # Central spin term\n",
    "    operators.append((B * sz).tolist()) #array to list(ordered and changeable)\n",
    "    sites.append([0])\n",
    "    # Interaction term\n",
    "    itOp = np.kron(sz, sz) + np.kron(sx, sx) + np.kron(sy, sy) #kronecker product here\n",
    "    for i in range(N - 1):\n",
    "        operators.append((Ak[i] * itOp).tolist())\n",
    "        sites.append([0, (i+1)])  #pretty convoluted indexing, but ok\n",
    "    # Create hamiltonian\n",
    "    hamiltonian = nk.operator.LocalOperator(hilbertSpace, operators=operators, acting_on=sites, dtype=complex)\n",
    "    #acting_on specifier necessary as this is a central spin model\n",
    "    return hamiltonian, hilbertSpace\n",
    "\n",
    "def exactDiagonalization_full(hamiltonian):\n",
    "    # Changes Hamiltonian to matrix form\n",
    "    haMatrix = hamiltonian.to_dense()\n",
    "    # Gets eigenvalues and vectors\n",
    "    eigenValues, v = np.linalg.eigh(haMatrix)\n",
    "    # Orders from smallest to largest\n",
    "    eigenVectors = [v[:, i] for i in range(len(eigenValues))]\n",
    "    return eigenValues, eigenVectors\n",
    "\n",
    "#input_basis directly from output of exact_diagnolization, input_vec as np array object\n",
    "def basis_trans(input_vec, input_basis, N):\n",
    "    vec_new = np.linalg.inv(np.array(v).reshape(2**N, 2**N).T).dot(input_vec.reshape(2**N, 1))\n",
    "    return vec_new"
   ]
  },
  {
   "cell_type": "code",
   "execution_count": 5,
   "id": "326dde76",
   "metadata": {},
   "outputs": [],
   "source": [
    "N=3\n",
    "B=0.95\n",
    "A = N/2\n",
    "N0 = N/2\n",
    "\n",
    "Ak = []\n",
    "for i in range(N-1):\n",
    "        # Constant A\n",
    "    #Ak_i = 1\n",
    "        # Variable A\n",
    "    Ak_i = A / (N0) * np.exp(-i / N0)\n",
    "    Ak.append(Ak_i)\n",
    "\n",
    "sx_list, sy_list, sz_list,id = operatorCreation(N)\n",
    "\n",
    "obver = np.array(sz_list[0])\n",
    "\n",
    "# Define hamiltonian and hilbert space\n",
    "ha, hi = CSHam(N,B,Ak)\n",
    "\n",
    "#Exact Diagonalization\n",
    "e, v= exactDiagonalization_full(ha)\n",
    "#Ground state energy\n",
    "edEng = e[0]\n",
    "# Ground state\n",
    "edState = v[0]\n",
    "\n",
    "#Make initial State\n",
    "#psi0 = coherent(2**N,3)\n",
    "psi0 = basis_trans(np.array(coherent(2**N,3)), v, N)\n",
    "#shit = tensor(basis(2,1), basis(2,0), basis(2,1))\n",
    "\n",
    "\n"
   ]
  },
  {
   "cell_type": "code",
   "execution_count": 6,
   "id": "bd19ab3d",
   "metadata": {
    "scrolled": true
   },
   "outputs": [],
   "source": [
    "\n",
    "time, state = evo_sta(v[:5], e[:5], 30, 0.01, psi0, N )\n",
    "SZ = evo_exp(time, state, obver)\n",
    "\n",
    "\n",
    "time_ex, state_ex = evo_sta(v, e, 30, 0.01, psi0, N )\n",
    "SZ_ex = evo_exp(time_ex, state_ex, obver)\n"
   ]
  },
  {
   "cell_type": "code",
   "execution_count": 7,
   "id": "d129c525",
   "metadata": {},
   "outputs": [
    {
     "name": "stderr",
     "output_type": "stream",
     "text": [
      "/home/victor/.local/lib/python3.8/site-packages/numpy/core/_asarray.py:102: ComplexWarning: Casting complex values to real discards the imaginary part\n",
      "  return array(a, dtype, copy=False, order=order)\n"
     ]
    },
    {
     "data": {
      "image/png": "[encoded data removed]",
      "text/plain": [
       "<Figure size 576x396 with 1 Axes>"
      ]
     },
     "metadata": {},
     "output_type": "display_data"
    }
   ],
   "source": [
    "plt.plot(time, SZ, color='b', label = 'approx')\n",
    "plt.plot(time_ex, SZ_ex, color='g', label = 'exact')\n",
    "plt.legend()\n",
    "plt.show()\n"
   ]
  },
  {
   "cell_type": "code",
   "execution_count": 8,
   "id": "16e99952",
   "metadata": {},
   "outputs": [
    {
     "name": "stdout",
     "output_type": "stream",
     "text": [
      "[[ 0.08799955+0.j]\n",
      " [ 0.33214451+0.j]\n",
      " [ 0.32340216+0.j]\n",
      " [ 0.728862  +0.j]\n",
      " [-0.48952123+0.j]\n",
      " [-0.07684267+0.j]\n",
      " [-0.0238655 +0.j]\n",
      " [ 0.00139153+0.j]]\n"
     ]
    }
   ],
   "source": [
    "a = basis_trans(np.array(coherent(2**N,3)), v, N).reshape(8,1)\n",
    "print(a)"
   ]
  },
  {
   "cell_type": "code",
   "execution_count": 168,
   "id": "998c695e",
   "metadata": {},
   "outputs": [
    {
     "name": "stdout",
     "output_type": "stream",
     "text": [
      "[1, 1]\n",
      "[1, 1]\n"
     ]
    }
   ],
   "source": [
    "a_ = [0,1]\n",
    "def test(a):\n",
    "    b = a\n",
    "    b[0] = 1\n",
    "    return b\n",
    "c = test(a_)\n",
    "print(c)\n",
    "print(a_)"
   ]
  },
  {
   "cell_type": "code",
   "execution_count": 3,
   "id": "9e35b8ff",
   "metadata": {},
   "outputs": [
    {
     "name": "stdout",
     "output_type": "stream",
     "text": [
      "3.7416573867739413\n"
     ]
    }
   ],
   "source": [
    "a = np.array([[1],[2],[3]])\n",
    "print(np.linalg.norm(a))"
   ]
  },
  {
   "cell_type": "code",
   "execution_count": null,
   "id": "0a051d50",
   "metadata": {},
   "outputs": [],
   "source": []
  },
  {
   "cell_type": "code",
   "execution_count": null,
   "id": "63d28389",
   "metadata": {},
   "outputs": [],
   "source": []
  }
 ],
 "metadata": {
  "kernelspec": {
   "display_name": "Python 3",
   "language": "python",
   "name": "python3"
  },
  "language_info": {
   "codemirror_mode": {
    "name": "ipython",
    "version": 3
   },
   "file_extension": ".py",
   "mimetype": "text/x-python",
   "name": "python",
   "nbconvert_exporter": "python",
   "pygments_lexer": "ipython3",
   "version": "3.8.5"
  }
 },
 "nbformat": 4,
 "nbformat_minor": 5
}
