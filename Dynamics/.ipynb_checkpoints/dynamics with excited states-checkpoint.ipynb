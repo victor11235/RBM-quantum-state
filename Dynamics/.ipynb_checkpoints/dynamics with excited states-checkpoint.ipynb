{
 "cells": [
  {
   "cell_type": "code",
   "execution_count": 1,
   "id": "56eee696",
   "metadata": {},
   "outputs": [],
   "source": [
    "import multiprocessing as mp\n",
    "import netket as nk\n",
    "import os\n",
    "import json\n",
    "from qutip import *\n",
    "import numpy as np\n",
    "import scipy\n",
    "import cmath\n",
    "import matplotlib.pyplot as plt\n",
    "plt.style.use('seaborn')\n",
    "import itertools\n",
    "from numpy.random import seed\n",
    "from numpy.random import rand\n",
    "from itertools import product\n",
    "from scipy.misc import derivative\n",
    "from scipy import optimize\n",
    "from functools import wraps\n",
    "from functools import reduce\n",
    "from time import time\n",
    "from scipy.optimize import minimize\n",
    "from matplotlib import gridspec\n",
    "import copy\n",
    "import pickle\n",
    "import optax"
   ]
  },
  {
   "cell_type": "code",
   "execution_count": 2,
   "id": "19bbf9cb",
   "metadata": {},
   "outputs": [],
   "source": [
    "#functions for dynamics\n",
    "\n",
    "#basis transfer fuction, from a basis of eigenstates to a basis of \"basis states\"\n",
    "def transfer(state_eig, sta_list, eng_list, N):\n",
    "    state_basis = np.zeros(2**N, dtype= complex)\n",
    "    for i in range(len(eng_list)):\n",
    "        state_basis += state_eig[i] * sta_list[i]\n",
    "    return state_basis #/ np.linalg.norm(state_basis)\n",
    "\n",
    "def expected(A, norm_psi):\n",
    "        \n",
    "    expectation = np.dot(np.conj(norm_psi).T, np.matmul(A, norm_psi) )\n",
    "    return expectation\n",
    "\n",
    "#evolve the state vector itself, where sta_init is in the basis of the eigenstates, and all input states are np arrays. \n",
    "def evo_sta(sta_list, eng_list, t_end, t_step, sta_init, N):\n",
    "    num_step = int(t_end / t_step)\n",
    "    time = [0]\n",
    "    state = [transfer(sta_init, sta_list, eng_list, N).reshape(2**N,1)]\n",
    "    state_temp = copy.deepcopy(sta_init)\n",
    "    for i in range(num_step):\n",
    "        time.append(t_step*(i+1))\n",
    "        \n",
    "        for j in range(len(eng_list)):\n",
    "            op = np.exp(- 1j * eng_list[j] * t_step)\n",
    "            state_temp[j] = op * state_temp[j]\n",
    "            \n",
    "        state.append(transfer(state_temp, sta_list, eng_list, N).reshape(2**N,1))\n",
    "        \n",
    "    return time, state\n",
    "        \n",
    "    \n",
    "    \n",
    "#evolve the expectation value\n",
    "def evo_exp(time, state, obs):\n",
    "    obser = []\n",
    "    for i in range(len(time)):\n",
    "        obser.append(expected(obs,state[i])[0])\n",
    " \n",
    "    return obser\n",
    "\n",
    "#Make basis and get sz values\n",
    "def operatorCreation(N):\n",
    "    #operator definitionis\n",
    "    si = qeye(2)\n",
    "    sx = 0.5*sigmax()\n",
    "    sy = 0.5*sigmay()\n",
    "    sz = 0.5*sigmaz()\n",
    "    \n",
    "\n",
    "    sx_list = []\n",
    "    sy_list = []\n",
    "    sz_list = []\n",
    "    \n",
    "\n",
    "    for n in range(N):\n",
    "        op_list = []\n",
    "        for m in range(N):\n",
    "            op_list.append(si)\n",
    "\n",
    "        op_list[n] = sx\n",
    "        sx_list.append(tensor(op_list))\n",
    "\n",
    "        op_list[n] = sy\n",
    "        sy_list.append(tensor(op_list))\n",
    "\n",
    "        op_list[n] = sz\n",
    "        sz_list.append(tensor(op_list))\n",
    "        \n",
    "        op_list[n] = si\n",
    "    id = tensor(op_list)\n",
    "        \n",
    "    return sx_list, sy_list, sz_list,id\n",
    "\n",
    "def CSHam(N, B, Ak):\n",
    "    # Make graph with of length N with no periodic boundary conditions\n",
    "    g = nk.graph.Hypercube(length=N, n_dim=1, pbc=False)\n",
    "    # Spin based Hilbert Space\n",
    "    hilbertSpace = nk.hilbert.Spin(s=0.5, N=g.n_nodes)\n",
    "    # Define spin operators with \\hbar set to 1\n",
    "    sz = 0.5 * np.array([[1, 0], [0, -1]])\n",
    "    sx = 0.5 * np.array([[0, 1], [1, 0]])\n",
    "    sy = 0.5 * np.array([[0, -1j], [1j, 0]])\n",
    "    operators = []\n",
    "    sites = []\n",
    "    # Central spin term\n",
    "    operators.append((B * sz).tolist()) #array to list(ordered and changeable)\n",
    "    sites.append([0])\n",
    "    # Interaction term\n",
    "    itOp = np.kron(sz, sz) + np.kron(sx, sx) + np.kron(sy, sy) #kronecker product here\n",
    "    for i in range(N - 1):\n",
    "        operators.append((Ak[i] * itOp).tolist())\n",
    "        sites.append([0, (i+1)])  #pretty convoluted indexing, but ok\n",
    "    # Create hamiltonian\n",
    "    hamiltonian = nk.operator.LocalOperator(hilbertSpace, operators=operators, acting_on=sites, dtype=complex)\n",
    "    #acting_on specifier necessary as this is a central spin model\n",
    "    return hamiltonian, hilbertSpace\n",
    "\n",
    "def exactDiagonalization_full(hamiltonian):\n",
    "    # Changes Hamiltonian to matrix form\n",
    "    haMatrix = hamiltonian.to_dense()\n",
    "    # Gets eigenvalues and vectors\n",
    "    eigenValues, v = np.linalg.eigh(haMatrix)\n",
    "    # Orders from smallest to largest\n",
    "    eigenVectors = [v[:, i] for i in range(len(eigenValues))]\n",
    "    return eigenValues, eigenVectors\n",
    "\n",
    "#input_basis directly from output of exact_diagnolization, input_vec as np array object\n",
    "def basis_trans(input_vec, input_basis, N):\n",
    "    vec_new = np.linalg.inv(np.array(v).reshape(2**N, 2**N).T).dot(input_vec.reshape(2**N, 1))\n",
    "    return vec_new\n",
    "\n"
   ]
  },
  {
   "cell_type": "code",
   "execution_count": 3,
   "id": "2aed351c",
   "metadata": {},
   "outputs": [],
   "source": [
    "# functions for excited states\n",
    "\n",
    "def CSHam_ex(N, B, Ak, state_list, Filling):\n",
    "    # Make graph with of length N with no periodic boundary conditions\n",
    "    g = nk.graph.Hypercube(length=N, n_dim=1, pbc=False)\n",
    "    # Spin based Hilbert Space\n",
    "    hilbertSpace = nk.hilbert.Spin(s=0.5, N=g.n_nodes)\n",
    "    # Define spin operators with \\hbar set to 1\n",
    "    sz = 0.5 * np.array([[1, 0], [0, -1]])\n",
    "    sx = 0.5 * np.array([[0, 1], [1, 0]])\n",
    "    sy = 0.5 * np.array([[0, -1j], [1j, 0]])\n",
    "    operators = []\n",
    "    sites = []\n",
    "    # Central spin term\n",
    "    operators.append((B * sz).tolist()) #array to list(ordered and changeable)\n",
    "    sites.append([0])\n",
    "    # Interaction term\n",
    "    itOp = np.kron(sz, sz) + np.kron(sx, sx) + np.kron(sy, sy) #kronecker product here\n",
    "    for i in range(N - 1):\n",
    "        operators.append((Ak[i] * itOp).tolist())\n",
    "        sites.append([0, (i+1)])  #pretty convoluted indexing, but ok\n",
    "    # now we add the extra gap filler\n",
    "    fill_Op = np.zeros((2**N, 2**N), dtype = 'complex128')\n",
    "    for j in range(len(Filling)):\n",
    "        fill_Op += Filling[j] * np.outer(state_list[j], np.conj(state_list[j])) \n",
    "    \n",
    "    operators.append(fill_Op)\n",
    "    sites.append(np.arange(0,N).tolist())\n",
    "    # Create hamiltonian\n",
    "    hamiltonian = nk.operator.LocalOperator(hilbertSpace, operators=operators, acting_on=sites, dtype='complex128')\n",
    "    #acting_on specifier necessary as this is a central spin model\n",
    "    return hamiltonian, hilbertSpace\n",
    "\n",
    "# Error Calculation (Input: the found state, the state from exact diagonalization, the found energy, the energy from exact diagonalization)\n",
    "def err_sta(state, edState,N):\n",
    "    overlap = np.dot(state.conj().reshape(2**N, 1).T, edState.reshape(2**N, 1))\n",
    "    waveFunctionErr = 1 - (np.linalg.norm(overlap))**2\n",
    "    return waveFunctionErr\n",
    "\n",
    "# NetKet RBM with stochastic reconfiguration descent\n",
    "class RBM:\n",
    "    def __init__(self, N, hamiltonian, hilbertSpace, machine):\n",
    "        # Assign inputsv[:, i]\n",
    "        self.hamiltonian, self.hilbertSpace, self.machine, self.N = hamiltonian, hilbertSpace, machine, N\n",
    "        # Define sampler\n",
    "        self.sampler = nk.sampler.MetropolisLocal(hilbert=hilbertSpace)\n",
    "        # Define optimizer\n",
    "        #self.optimizer = nk.optimizer.Sgd(learning_rate=0.02,decay = 0.96)\n",
    "        #self.optimizer = nk.optimizer.AdaGrad(learning_rate=0.3, epscut = 10**-2, initial_accumulator_value = 0.005)\n",
    "        #self.optimizer = nk.optimizer.RmsProp(learning_rate=0.03, epscut = 10**-2, beta = 0.85)\n",
    "        #self.optimizer = nk.optimizer.Momentum(learning_rate=0.1, nesterov = False, beta = 0.8)\n",
    "        #self.optimizer = optax.adam(learning_rate=0.01, eps = 10**-2 ,b1=0.85,b2=0.99, eps_root=0.01)\n",
    "        #self.optimizer = optax.fromage(0.005,0.0005)\n",
    "        self.optimizer = optax.rmsprop(learning_rate = 0.01, decay = 0.95, eps = 10**-2, initial_scale = 0.01)\n",
    "        \n",
    "        # Define Stochastic reconfiguration\n",
    "        self.sr = nk.optimizer.SR(diag_shift=0.0001) #diagnol shift, its role as regularizer? seems to take a different form as \n",
    "        #compared to the version I have seen\n",
    "        # Variational state\n",
    "        self.vs = nk.variational.MCState(self.sampler, self.machine, n_samples=8000, n_discard=800) #discarded number of samples \n",
    "        #at the beginning of the MC chain\n",
    "\n",
    "    # Output is the name of the output file in which the descent data is stored\n",
    "    def __call__(self, output):\n",
    "        self.vs.init_parameters(nk.nn.initializers.normal(stddev=0.25))\n",
    "        gs = nk.VMC(hamiltonian=self.hamiltonian, optimizer=self.optimizer, variational_state=self.vs, precondioner=self.sr)\n",
    "        # Set the output files as well as number of iterations in the descent\n",
    "        gs.run(n_iter=10000, out=output)\n",
    "        # Import the data from log file\n",
    "        data = json.load(open(output + '.log'))\n",
    "        # Extract the relevant information\n",
    "        # iters = data[\"Energy\"][\"iters\"]\n",
    "        energy_RBM = data[\"Energy\"][\"Mean\"][\"real\"] #get the real part of the mean energy\n",
    "       \n",
    "        # finalEng = energy_RBM[-1]\n",
    "        finalEng = reduce(lambda x, y: x if y is None else y, energy_RBM)\n",
    "        # Get machine statethe state of the machine as an array\n",
    "        state = self.vs.to_array()\n",
    "        # Outputs the final energy, the final state, and the runtime\n",
    "        return finalEng, state\n",
    "\n",
    "\n",
    "def runDescentCS_ex(N,B,Ak,alpha,state_list, Filling, i):\n",
    "    np.random.seed()\n",
    "    # Define hamiltonian and hibert space (need to do this here cause can't use netket objects as input to use multiprocessing functions)\n",
    "    ha, hi = CSHam_ex(N,B,Ak,state_list, Filling)\n",
    "    # RBM Spin Machine\n",
    "    ma = nk.models.RBM(alpha=1, dtype='complex128',use_visible_bias=True, use_hidden_bias=True)\n",
    "    # Initialize RBM\n",
    "    rbm = RBM(N, ha, hi, ma) #an instance of class RBM\n",
    "    # Run RBM\n",
    "    eng, state = rbm(\"2021_summer_data/dynamics_ex_log/ex_con_Logs\"+str(N)+str(i)) #where _call_ will be invoked\n",
    "    return eng, state\n",
    "\n",
    "def combined(N,B,Ak,alpha):\n",
    "    eng = []\n",
    "    state = []\n",
    "    \n",
    "    zeros = np.zeros(2**N)\n",
    "    state_list_0 = [zeros, zeros, zeros, zeros]\n",
    "    Filling_0 = [0, 0, 0, 0]\n",
    "    \n",
    "    e_0, v_0 = runDescentCS_ex(N, B, Ak, alpha, state_list_0, Filling_0, 0)\n",
    "    fill = 2 * np.abs(e_0)\n",
    "    eng.append(e_0)\n",
    "    state.append(v_0)\n",
    "    \n",
    "    state_list_1 = [v_0, zeros, zeros, zeros]\n",
    "    Filling_1 = [fill, 0, 0, 0]\n",
    "    e_1, v_1 = runDescentCS_ex(N, B, Ak, alpha, state_list_1, Filling_1, 1)\n",
    "    eng.append(e_1)\n",
    "    state.append(v_1)\n",
    "    \n",
    "    state_list_2 = [v_0, v_1, zeros, zeros]\n",
    "    Filling_2 = [fill, fill, 0, 0]\n",
    "    e_2, v_2 = runDescentCS_ex(N, B, Ak, alpha, state_list_2, Filling_2, 2)\n",
    "    eng.append(e_2)\n",
    "    state.append(v_2)\n",
    "    \n",
    "    state_list_3 = [v_0, v_1, v_2, zeros]\n",
    "    Filling_3 = [fill, fill, fill, 0]\n",
    "    e_3, v_3 = runDescentCS_ex(N, B, Ak, alpha, state_list_3, Filling_3, 3)\n",
    "    eng.append(e_3)\n",
    "    state.append(v_3)\n",
    "    \n",
    "    state_list_4 = [v_0, v_1, v_2, v_3]\n",
    "    Filling_4 = [fill, fill, fill, fill]\n",
    "    e_4, v_4 = runDescentCS_ex(N, B, Ak, alpha, state_list_4, Filling_4, 4)\n",
    "    eng.append(e_4)\n",
    "    state.append(v_4)\n",
    "    \n",
    "    return eng, state\n",
    "\n",
    "def state_error(state_list, ex_state_list, N):\n",
    "    state_er = []\n",
    "    for i in range(len(state_list)):\n",
    "        state_er_temp = err_sta(state_list[i], ex_state_list[i], N)\n",
    "        state_er.append(state_er_temp)\n",
    "    return state_er\n",
    "\n",
    "def eng_error(eng_list, ex_energy):\n",
    "    eng_er = []\n",
    "    for i in range(len(eng_list)):\n",
    "        eng_er_temp = np.abs(eng_list[i] - ex_energy[i])\n",
    "        eng_er.append(eng_er_temp)\n",
    "    return eng_er"
   ]
  },
  {
   "cell_type": "code",
   "execution_count": 4,
   "id": "87f62109",
   "metadata": {},
   "outputs": [],
   "source": [
    "N = 6\n",
    "Ak = []\n",
    "\n",
    "alpha = 1   #density of RBM\n",
    "M = alpha*N\n",
    "# Constant A\n",
    "B = 0.95\n",
    "# Variable A\n",
    "A = N/2\n",
    "N0 = N/2\n",
    "for i in range(N-1):\n",
    "    # Constant A\n",
    "    #Ak_i = 1\n",
    "    # Variable A\n",
    "    Ak_i = A / (N0) * np.exp(-i / N0)\n",
    "    Ak.append(Ak_i)\n",
    "    \n",
    "# Define hamiltonian and hilbert space\n",
    "ha, hi = CSHam(N,B,Ak)\n",
    "\n",
    "\n",
    "#Exact Diagonalization\n",
    "e, v = exactDiagonalization_full(ha)\n",
    "\n",
    "#eng_list, state_list = combined(N,B,Ak,alpha)\n",
    "\n",
    "#print(state_error(state_list, v, N))\n",
    "#print(eng_error(eng_list, e))"
   ]
  },
  {
   "cell_type": "code",
   "execution_count": 5,
   "id": "bbfb81b4",
   "metadata": {},
   "outputs": [
    {
     "name": "stderr",
     "output_type": "stream",
     "text": [
      "WARNING:absl:No GPU/TPU found, falling back to CPU. (Set TF_CPP_MIN_LOG_LEVEL=0 and rerun for more info.)\n",
      "100%|██████████| 10000/10000 [20:42<00:00,  8.05it/s, Energy=-1.41497-0.00019j ± 0.00022 [σ²=0.00039, R̂=0.9995]]       \n"
     ]
    }
   ],
   "source": [
    "eng_list = []\n",
    "state_list = []\n",
    "\n",
    "zeros = np.zeros(2**N)\n",
    "state_list_0 = [zeros, zeros, zeros, zeros]\n",
    "Filling_0 = [0, 0, 0, 0]\n",
    "\n",
    "e_0, v_0 = runDescentCS_ex(N, B, Ak, alpha, state_list_0, Filling_0, 0)\n",
    "fill = 2 * np.abs(e_0)\n",
    "eng_list.append(e_0)\n",
    "state_list.append(v_0)\n",
    "\n"
   ]
  },
  {
   "cell_type": "code",
   "execution_count": 6,
   "id": "87b3cbd1",
   "metadata": {},
   "outputs": [
    {
     "name": "stdout",
     "output_type": "stream",
     "text": [
      "0.0010635853034460796\n",
      "0.00028307678391881197\n"
     ]
    }
   ],
   "source": [
    "\n",
    "print(err_sta(v_0,v[0],N))\n",
    "print(np.abs(e_0-e[0]))"
   ]
  },
  {
   "cell_type": "markdown",
   "id": "6b2f75e2",
   "metadata": {},
   "source": [
    "eng_list = []\n",
    "state_list = []\n",
    "\n",
    "eng_list.append(np.loadtxt(\"2021_summer_data/0.01%_error_excited_eng.json\"))\n",
    "state_list.append(np.loadtxt(\"2021_summer_data/0.01%_error_excited_state.json\", dtype = complex))\n",
    "v_0 = state_list[0].reshape(2**N,1)\n",
    "e_0 = eng_list[0]\n",
    "\n",
    "\n",
    "zeros = np.zeros(2**N)\n",
    "state_list_0 = [zeros, zeros, zeros, zeros]\n",
    "Filling_0 = [0, 0, 0, 0]\n",
    "fill = 2 * np.abs(e_0)\n",
    "\n",
    "\n",
    "print(err_sta(v_0,v[0],N))\n",
    "print(np.abs(e_0-e[0]))\n"
   ]
  },
  {
   "cell_type": "code",
   "execution_count": 139,
   "id": "4ec31f48",
   "metadata": {},
   "outputs": [
    {
     "name": "stderr",
     "output_type": "stream",
     "text": [
      "100%|██████████| 10000/10000 [1:02:32<00:00,  2.66it/s, Energy=-1.32601-0.00158j ± 0.00042 [σ²=0.00018, R̂=1.1479]]   \n"
     ]
    }
   ],
   "source": [
    "state_list_1 = [v_0, zeros, zeros, zeros]\n",
    "Filling_1 = [fill, 0, 0, 0]\n",
    "e_1, v_1 = runDescentCS_ex(N, B, Ak, alpha, state_list_1, Filling_1, 1)\n",
    "eng_list.append(e_1)\n",
    "state_list.append(v_1)\n",
    "\n"
   ]
  },
  {
   "cell_type": "code",
   "execution_count": 157,
   "id": "89d55f69",
   "metadata": {},
   "outputs": [
    {
     "name": "stdout",
     "output_type": "stream",
     "text": [
      "0.0010925203781916304\n",
      "0.0017011967070375\n"
     ]
    }
   ],
   "source": [
    "print(err_sta(v_1, v[1], N))\n",
    "print(e_1-e[1])"
   ]
  },
  {
   "cell_type": "code",
   "execution_count": 6,
   "id": "5463c15b",
   "metadata": {},
   "outputs": [],
   "source": [
    "eng_list = np.loadtxt(\"2021_summer_data/0.1%_error_excited_eng.json\")\n",
    "state_list = np.loadtxt(\"2021_summer_data/0.1%_error_excited_state.json\", dtype = complex)\n",
    "eng_list = eng_list.tolist()\n",
    "state_list = state_list.tolist()\n",
    "\n",
    "v_0, v_1 = state_list[0], state_list[1]\n",
    "e_0, e_1 = eng_list[0], eng_list[1]\n"
   ]
  },
  {
   "cell_type": "code",
   "execution_count": 12,
   "id": "4441bbb4",
   "metadata": {},
   "outputs": [
    {
     "name": "stderr",
     "output_type": "stream",
     "text": [
      "WARNING:absl:No GPU/TPU found, falling back to CPU. (Set TF_CPP_MIN_LOG_LEVEL=0 and rerun for more info.)\n",
      "100%|██████████| 10000/10000 [1:05:34<00:00,  2.54it/s, Energy=-1.27254-0.00010j ± 0.00032 [σ²=0.00052, R̂=1.0057]]   \n"
     ]
    }
   ],
   "source": [
    "zeros = np.zeros(2**N)\n",
    "fill = 2 * np.abs(e_0)\n",
    "\n",
    "state_list_2 = [v_0, v_1, zeros, zeros]\n",
    "Filling_2 = [fill, fill, 0, 0]\n",
    "e_2, v_2 = runDescentCS_ex(N, B, Ak, alpha, state_list_2, Filling_2, 2)\n",
    "eng_list.append(e_2)\n",
    "state_list.append(v_2)\n",
    "\n"
   ]
  },
  {
   "cell_type": "code",
   "execution_count": 14,
   "id": "39ab090d",
   "metadata": {},
   "outputs": [
    {
     "name": "stdout",
     "output_type": "stream",
     "text": [
      "0.0015128673799854608\n",
      "0.001087053358993062\n"
     ]
    }
   ],
   "source": [
    "print(err_sta(v_2, v[2],N))\n",
    "print(np.abs(e[2]-e_2))"
   ]
  },
  {
   "cell_type": "code",
   "execution_count": 31,
   "id": "11fe34d4",
   "metadata": {},
   "outputs": [
    {
     "name": "stderr",
     "output_type": "stream",
     "text": [
      "100%|██████████| 10000/10000 [1:06:09<00:00,  2.52it/s, Energy=-1.21990+0.00018j ± 0.00012 [σ²=0.00001, R̂=1.3894]]   \n"
     ]
    }
   ],
   "source": [
    "\n",
    "\n",
    "state_list_3 = [v_0, v_1, v_2, zeros]\n",
    "Filling_3 = [fill, fill, fill, 0]\n",
    "e_3, v_3 = runDescentCS_ex(N, B, Ak, alpha, state_list_3, Filling_3, 3)\n",
    "eng_list.append(e_3)\n",
    "state_list.append(v_3)\n",
    "\n"
   ]
  },
  {
   "cell_type": "code",
   "execution_count": 32,
   "id": "360fe0e2",
   "metadata": {},
   "outputs": [
    {
     "name": "stdout",
     "output_type": "stream",
     "text": [
      "0.0003799801002579706\n",
      "2.303256244973184e-05\n"
     ]
    }
   ],
   "source": [
    "print(err_sta(v_3, v[3],N))\n",
    "print(np.abs(e[3]-e_3))"
   ]
  },
  {
   "cell_type": "code",
   "execution_count": 42,
   "id": "f9e2fdcb",
   "metadata": {},
   "outputs": [
    {
     "name": "stderr",
     "output_type": "stream",
     "text": [
      "100%|██████████| 10000/10000 [1:05:52<00:00,  2.53it/s, Energy=-1.19887+0.00028j ± 0.00060 [σ²=0.00067, R̂=1.0161]]   \n"
     ]
    }
   ],
   "source": [
    "\n",
    "state_list_4 = [v_0, v_1, v_2, v_3]\n",
    "Filling_4 = [fill, fill, fill, fill]\n",
    "e_4, v_4 = runDescentCS_ex(N, B, Ak, alpha, state_list_4, Filling_4, 4)\n",
    "eng_list.append(e_4)\n",
    "state_list.append(v_4)\n"
   ]
  },
  {
   "cell_type": "code",
   "execution_count": 43,
   "id": "a722fc9e",
   "metadata": {},
   "outputs": [
    {
     "name": "stdout",
     "output_type": "stream",
     "text": [
      "0.001410167387553507\n",
      "0.00010702249924432472\n"
     ]
    }
   ],
   "source": [
    "print(err_sta(v_4, v[4],N))\n",
    "print(np.abs(e[4]-e_4))"
   ]
  },
  {
   "cell_type": "markdown",
   "id": "6020d504",
   "metadata": {},
   "source": [
    "eng_list = np.loadtxt(\"2021_summer_data/0.1%_error_excited_eng.json\")\n",
    "state_list = np.loadtxt(\"2021_summer_data/0.1%_error_excited_state.json\", dtype = complex)\n",
    "print(eng_list, state_list)"
   ]
  },
  {
   "cell_type": "markdown",
   "id": "0af55515",
   "metadata": {},
   "source": [
    "data = state_list\n",
    "fileName = \"2021_summer_data/0.15%_error_4th_excited_state.json\"\n",
    "np.savetxt(fileName, data)\n"
   ]
  },
  {
   "cell_type": "code",
   "execution_count": 7,
   "id": "c7c85a39",
   "metadata": {},
   "outputs": [
    {
     "name": "stdout",
     "output_type": "stream",
     "text": [
      "[-1.41525147 -1.32781556 -1.27152273 -1.21981863 -1.19888325]\n"
     ]
    }
   ],
   "source": [
    "eng_list = np.loadtxt(\"2021_summer_data/temp_data/eng_4.json\")\n",
    "state_list = np.loadtxt(\"2021_summer_data/temp_data/state_4.json\", dtype = complex)\n",
    "print(eng_list)\n"
   ]
  },
  {
   "cell_type": "code",
   "execution_count": 8,
   "id": "1d9d6992",
   "metadata": {},
   "outputs": [],
   "source": [
    "def phase_fix(rbm_list, exact_list, N):\n",
    "    fixed_rbm_list = []\n",
    "    for i in range(len(rbm_list)):\n",
    "        overlap = np.dot(rbm_list[i].conj().reshape(2**N, 1).T, exact_list[i].reshape(2**N, 1))\n",
    "        angle = np.angle(overlap)\n",
    "        fixed_rbm_list.append(np.exp(1j*np.angle(overlap))[0][0] * rbm_list[i])\n",
    "    return fixed_rbm_list\n",
    "\n",
    "\n",
    "\n",
    "state_list = phase_fix(state_list,v,N)\n",
    "eng_list[2] = -1.2714006551474926\n",
    "#eng_list[2] = -1.27254"
   ]
  },
  {
   "cell_type": "code",
   "execution_count": 12,
   "id": "f8a0f8de",
   "metadata": {},
   "outputs": [
    {
     "name": "stdout",
     "output_type": "stream",
     "text": [
      "(64, 1)\n"
     ]
    }
   ],
   "source": [
    "a = np.array([[1], [1],[1],[1],[1]], dtype = complex).tolist()\n",
    "for i in range(2**N-5):\n",
    "    a.append([0])\n",
    "psi0 = np.array(a, dtype = 'complex128')/ np.linalg.norm(a)\n",
    "#psi0 = np.array(a)\n",
    "print(psi0.shape)"
   ]
  },
  {
   "cell_type": "code",
   "execution_count": 23,
   "id": "6b8bbfb0",
   "metadata": {},
   "outputs": [],
   "source": [
    "#construct the S0+ operator of interest\n",
    "def S0_p(N):\n",
    "    S0_p = []\n",
    "    si = qeye(2)\n",
    "    op_list = []\n",
    "    for m in range(N):     \n",
    "        op_list.append(si)\n",
    "    op_list[0] = sigmap()\n",
    "    S0_p.append(tensor(op_list))\n",
    "    \n",
    "    return S0_p[0]\n",
    "\n",
    "sx_list, sy_list, sz_list,id = operatorCreation(N)\n",
    "\n",
    "obver = np.array(sz_list[0])\n",
    "obver_x = np.array(sx_list[0])\n",
    "obver_p = np.array(S0_p(N))\n",
    "\n",
    "time, state = evo_sta(state_list, eng_list, 200, 0.1, psi0, N )\n",
    "SX = evo_exp(time, state, obver_x)\n",
    "\n",
    "time_ex, state_ex = evo_sta(v, e, 200, 0.1, psi0, N )\n",
    "SX_ex = evo_exp(time_ex, state_ex, obver_x)\n"
   ]
  },
  {
   "cell_type": "code",
   "execution_count": 24,
   "id": "9e4fc8d2",
   "metadata": {},
   "outputs": [
    {
     "data": {
      "image/png": "[encoded data removed]",
      "text/plain": [
       "<Figure size 576x396 with 1 Axes>"
      ]
     },
     "metadata": {},
     "output_type": "display_data"
    }
   ],
   "source": [
    "plt.plot(time, np.real(SX), color='b', label = 'approx_real')\n",
    "plt.plot(time_ex, np.real(SX_ex), color='g', label = 'exact_real')\n",
    "#plt.ylim(-0.383,-0.3829)\n",
    "plt.legend()\n",
    "plt.show()"
   ]
  },
  {
   "cell_type": "code",
   "execution_count": 15,
   "id": "497773e6",
   "metadata": {},
   "outputs": [
    {
     "name": "stdout",
     "output_type": "stream",
     "text": [
      "exact energy -1.4152494317083466 -1.3277123197988363 -1.2714515823104722 -1.2198800483094718 -1.1987647801972157\n",
      "RBM energy -1.4152514732915125 -1.3278155640249427 -1.2714006551474926 -1.2198186307873775 -1.1988832538713954\n",
      "energy error [2.0415831658571193e-06, 0.0001032442261064137, 5.09271629796082e-05, 6.141752209432028e-05, 0.00011847367417971988]\n",
      "state error [0.00028318488520040486, 0.00039057150995580603, 0.00033294792020410746, 0.00013839812054539102, 0.00021353292493064835]\n"
     ]
    }
   ],
   "source": [
    "print('exact energy',e[0],e[1],e[2],e[3],e[4])\n",
    "print('RBM energy', eng_list[0], eng_list[1], eng_list[2], eng_list[3], eng_list[4])\n",
    "print('energy error', eng_error(eng_list, e))\n",
    "print('state error', state_error(state_list,v,N))\n"
   ]
  },
  {
   "cell_type": "code",
   "execution_count": 147,
   "id": "4c9e6a84",
   "metadata": {},
   "outputs": [
    {
     "name": "stdout",
     "output_type": "stream",
     "text": [
      "exact 00 (-1.4911936828011017e-17+0j)\n",
      "exact 11 (-5.5731188713183675e-18+0j)\n",
      "exact 01 (0.08439200862993684+0j)\n",
      "exact 10 (0.08439200862993684+0j)\n",
      "RBM 00 (-0.0137574828055094+4.336808689942018e-19j)\n",
      "RBM 11 (-0.0037275014497530276+4.336808689942018e-19j)\n",
      "RBM 01 (0.049762104886595965+0.0037864321750876316j)\n",
      "RBM 10 (0.04976210488659596-0.003786432175087631j)\n"
     ]
    }
   ],
   "source": [
    "print('exact 00', expected(obver_x, v[0]))\n",
    "print('exact 11', expected(obver_x, v[1]))\n",
    "print('exact 01', np.dot(np.conj(v[0]).T, np.matmul(obver_x, v[1]) ))\n",
    "print('exact 10', np.dot(np.conj(v[1]).T, np.matmul(obver_x, v[0]) ))\n",
    "print('RBM 00', expected(obver_x, state_list[0]))\n",
    "print('RBM 11', expected(obver_x, state_list[1]))\n",
    "print('RBM 01', np.dot(np.conj(state_list[0]).T, np.matmul(obver_x, state_list[1]) ))\n",
    "print('RBM 10', np.dot(np.conj(state_list[1]).T, np.matmul(obver_x, state_list[0]) ))"
   ]
  },
  {
   "cell_type": "code",
   "execution_count": 12,
   "id": "3b9df1cb",
   "metadata": {},
   "outputs": [
    {
     "name": "stdout",
     "output_type": "stream",
     "text": [
      "0.0008379447665987083\n"
     ]
    }
   ],
   "source": [
    "\n",
    "c = np.loadtxt('2021_summer_data/var_rmsprop_good_2nd_excited_state.json',dtype=complex)\n",
    "print(err_sta(c[2], v[2],N))"
   ]
  },
  {
   "cell_type": "code",
   "execution_count": 18,
   "id": "c3f67b9c",
   "metadata": {},
   "outputs": [
    {
     "name": "stdout",
     "output_type": "stream",
     "text": [
      "[-1.41524943 -1.32771232 -1.27145158 -1.21988005 -1.19876478 -1.11306153\n",
      " -1.11089347 -1.0858455  -1.07493451 -0.98756256 -0.93938085 -0.9338297\n",
      " -0.91135368 -0.90173021 -0.8935346  -0.8730331  -0.80315108 -0.69343838\n",
      " -0.62406881 -0.53438139 -0.50864167 -0.38721415 -0.36979703 -0.31053015\n",
      " -0.25413804 -0.18236887 -0.17478303 -0.09929506 -0.04515056  0.04131016\n",
      "  0.10087815  0.24035625  0.35185493  0.41431648  0.41522106  0.43187103\n",
      "  0.44636995  0.45165595  0.4549342   0.46446678  0.47988562  0.51981148\n",
      "  0.5259888   0.53022274  0.53638579  0.59887303  0.65252521  0.6527589\n",
      "  0.69325189  0.71139475  0.71240188  0.73158247  0.74761339  0.75153445\n",
      "  0.78431651  0.86470533  0.8726142   0.88383632  0.88996922  0.97406376\n",
      "  0.99132177  1.03767668  1.09885071  1.19035625]\n"
     ]
    }
   ],
   "source": [
    "print(e)\n",
    "\n"
   ]
  },
  {
   "cell_type": "code",
   "execution_count": null,
   "id": "091997ac",
   "metadata": {},
   "outputs": [],
   "source": []
  },
  {
   "cell_type": "code",
   "execution_count": null,
   "id": "2fe89026",
   "metadata": {},
   "outputs": [],
   "source": []
  },
  {
   "cell_type": "code",
   "execution_count": 9,
   "id": "20b35dde",
   "metadata": {},
   "outputs": [],
   "source": []
  },
  {
   "cell_type": "code",
   "execution_count": 10,
   "id": "0410a82b",
   "metadata": {},
   "outputs": [],
   "source": [
    "\n"
   ]
  },
  {
   "cell_type": "code",
   "execution_count": null,
   "id": "4a58ffdd",
   "metadata": {},
   "outputs": [],
   "source": []
  }
 ],
 "metadata": {
  "kernelspec": {
   "display_name": "Python 3",
   "language": "python",
   "name": "python3"
  },
  "language_info": {
   "codemirror_mode": {
    "name": "ipython",
    "version": 3
   },
   "file_extension": ".py",
   "mimetype": "text/x-python",
   "name": "python",
   "nbconvert_exporter": "python",
   "pygments_lexer": "ipython3",
   "version": "3.8.5"
  }
 },
 "nbformat": 4,
 "nbformat_minor": 5
}
