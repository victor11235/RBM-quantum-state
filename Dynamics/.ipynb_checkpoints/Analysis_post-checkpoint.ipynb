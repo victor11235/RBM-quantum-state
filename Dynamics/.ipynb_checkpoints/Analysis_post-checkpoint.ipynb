{
 "cells": [
  {
   "cell_type": "code",
   "execution_count": 2,
   "id": "70078243",
   "metadata": {},
   "outputs": [],
   "source": [
    "import multiprocessing as mp\n",
    "import netket as nk\n",
    "import os\n",
    "import json\n",
    "from qutip import *\n",
    "import numpy as np\n",
    "import scipy\n",
    "import cmath\n",
    "import matplotlib.pyplot as plt\n",
    "plt.style.use('seaborn')\n",
    "import itertools\n",
    "from numpy.random import seed\n",
    "from numpy.random import rand\n",
    "from itertools import product\n",
    "from scipy.misc import derivative\n",
    "from scipy import optimize\n",
    "from functools import wraps\n",
    "from functools import reduce\n",
    "from time import time\n",
    "from scipy.optimize import minimize\n",
    "from matplotlib import gridspec\n",
    "import copy\n",
    "import pickle\n",
    "import optax"
   ]
  },
  {
   "cell_type": "code",
   "execution_count": 9,
   "id": "f0957561",
   "metadata": {},
   "outputs": [],
   "source": [
    "eng_list = []\n",
    "state_list = []\n",
    "\n",
    "eng_list.append(np.loadtxt('2021_summer_data/ex_hist_var_post_0_excited_N6M6.json')[0][15])\n",
    "state_list.append(np.loadtxt('2021_summer_data/var_post_0_excited_states.json',dtype=complex)[15])\n",
    "\n",
    "eng_list.append(np.loadtxt('2021_summer_data/ex_hist_var_post_1_excited_N6M6.json')[0][3])\n",
    "state_list.append(np.loadtxt('2021_summer_data/var_post_1_excited_states.json',dtype=complex)[3])\n",
    "\n",
    "eng_list.append(np.loadtxt('2021_summer_data/ex_hist_var_post_2_excited_N6M6.json')[0][11])\n",
    "state_list.append(np.loadtxt('2021_summer_data/var_post_2_excited_states.json',dtype=complex)[11])\n",
    "\n",
    "eng_list.append(np.loadtxt('2021_summer_data/ex_hist_var_post_3_excited_N6M6.json')[0][4])\n",
    "state_list.append(np.loadtxt('2021_summer_data/var_post_3_excited_states.json',dtype=complex)[4])\n",
    "\n",
    "eng_list.append(np.loadtxt('2021_summer_data/ex_hist_var_post_4_excited_N6M6.json')[0][6])\n",
    "state_list.append(np.loadtxt('2021_summer_data/var_post_4_excited_states.json',dtype=complex)[6])"
   ]
  },
  {
   "cell_type": "code",
   "execution_count": 16,
   "id": "cff048a7",
   "metadata": {},
   "outputs": [],
   "source": [
    "data = eng_list\n",
    "fileName = \"2021_summer_data/temp_data/eng_4.json\"\n",
    "np.savetxt(fileName, data)"
   ]
  },
  {
   "cell_type": "code",
   "execution_count": 14,
   "id": "1923cc28",
   "metadata": {},
   "outputs": [
    {
     "name": "stdout",
     "output_type": "stream",
     "text": [
      "[-1.4152514732915125, -1.3278155640249427, -1.2715227314873638, -1.2198186307873775, -1.1988832538713954]\n"
     ]
    }
   ],
   "source": [
    "print(eng_list)"
   ]
  },
  {
   "cell_type": "code",
   "execution_count": 37,
   "id": "5dfcdea5",
   "metadata": {},
   "outputs": [],
   "source": [
    "eng = np.loadtxt(\"2021_summer_data/temp_data/eng_1.json\").tolist()\n",
    "state = np.loadtxt(\"2021_summer_data/temp_data/state_1.json\", dtype = complex).tolist()"
   ]
  },
  {
   "cell_type": "code",
   "execution_count": 5,
   "id": "88304c56",
   "metadata": {},
   "outputs": [],
   "source": [
    "sta = np.loadtxt('2021_summer_data/fail_var_post_5_excited_states.json',dtype=complex)[15]"
   ]
  },
  {
   "cell_type": "code",
   "execution_count": 3,
   "id": "2d380280",
   "metadata": {},
   "outputs": [],
   "source": [
    "def CSHam(N, B, Ak):\n",
    "    # Make graph with of length N with no periodic boundary conditions\n",
    "    g = nk.graph.Hypercube(length=N, n_dim=1, pbc=False)\n",
    "    # Spin based Hilbert Space\n",
    "    hilbertSpace = nk.hilbert.Spin(s=0.5, N=g.n_nodes)\n",
    "    # Define spin operators with \\hbar set to 1\n",
    "    sz = 0.5 * np.array([[1, 0], [0, -1]])\n",
    "    sx = 0.5 * np.array([[0, 1], [1, 0]])\n",
    "    sy = 0.5 * np.array([[0, -1j], [1j, 0]])\n",
    "    operators = []\n",
    "    sites = []\n",
    "    # Central spin term\n",
    "    operators.append((B * sz).tolist()) #array to list(ordered and changeable)\n",
    "    sites.append([0])\n",
    "    # Interaction term\n",
    "    itOp = np.kron(sz, sz) + np.kron(sx, sx) + np.kron(sy, sy) #kronecker product here\n",
    "    for i in range(N - 1):\n",
    "        operators.append((Ak[i] * itOp).tolist())\n",
    "        sites.append([0, (i+1)])  #pretty convoluted indexing, but ok\n",
    "    # Create hamiltonian\n",
    "    hamiltonian = nk.operator.LocalOperator(hilbertSpace, operators=operators, acting_on=sites, dtype=complex)\n",
    "    #acting_on specifier necessary as this is a central spin model\n",
    "    return hamiltonian, hilbertSpace\n",
    "\n",
    "def exactDiagonalization_full(hamiltonian):\n",
    "    # Changes Hamiltonian to matrix form\n",
    "    haMatrix = hamiltonian.to_dense()\n",
    "    # Gets eigenvalues and vectors\n",
    "    eigenValues, v = np.linalg.eigh(haMatrix)\n",
    "    # Orders from smallest to largest\n",
    "    eigenVectors = [v[:, i] for i in range(len(eigenValues))]\n",
    "    return eigenValues, eigenVectors\n",
    "\n",
    "#input_basis directly from output of exact_diagnolization, input_vec as np array object\n",
    "def basis_trans(input_vec, input_basis, N):\n",
    "    vec_new = np.linalg.inv(np.array(v).reshape(2**N, 2**N).T).dot(input_vec.reshape(2**N, 1))\n",
    "    return vec_new"
   ]
  },
  {
   "cell_type": "code",
   "execution_count": 4,
   "id": "9dafd376",
   "metadata": {},
   "outputs": [],
   "source": [
    "N = 6\n",
    "Ak = []\n",
    "\n",
    "alpha = 1   #density of RBM\n",
    "M = alpha*N\n",
    "# Constant A\n",
    "B = 0.95\n",
    "# Variable A\n",
    "A = N/2\n",
    "N0 = N/2\n",
    "for i in range(N-1):\n",
    "    # Constant A\n",
    "    #Ak_i = 1\n",
    "    # Variable A\n",
    "    Ak_i = A / (N0) * np.exp(-i / N0)\n",
    "    Ak.append(Ak_i)\n",
    "    \n",
    "# Define hamiltonian and hilbert space\n",
    "ha, hi = CSHam(N,B,Ak)\n",
    "\n",
    "\n",
    "#Exact Diagonalization\n",
    "e, v = exactDiagonalization_full(ha)"
   ]
  },
  {
   "cell_type": "code",
   "execution_count": 27,
   "id": "5f390f0b",
   "metadata": {},
   "outputs": [
    {
     "name": "stdout",
     "output_type": "stream",
     "text": [
      "norm of the fifth excited state entry is [0.97652656]\n",
      "norm of the sixth excited state entry is [0.21506551]\n"
     ]
    }
   ],
   "source": [
    "print('norm of the fifth excited state entry is ' + str(np.abs(basis_trans(sta, v, N)[5])))\n",
    "print('norm of the sixth excited state entry is ' + str(np.abs(basis_trans(sta, v, N)[6])))"
   ]
  },
  {
   "cell_type": "code",
   "execution_count": 35,
   "id": "1f58bea9",
   "metadata": {},
   "outputs": [
    {
     "name": "stdout",
     "output_type": "stream",
     "text": [
      "norm of the third excited state entry is [0.9999308]\n",
      "norm of the fourth excited state entry is [0.00060642]\n"
     ]
    }
   ],
   "source": [
    "print('norm of the third excited state entry is '+ str(np.abs(basis_trans(state_list[3],v,N)[3])))\n",
    "print('norm of the fourth excited state entry is '+ str(np.abs(basis_trans(state_list[3],v,N)[4])))"
   ]
  },
  {
   "cell_type": "code",
   "execution_count": null,
   "id": "22f55511",
   "metadata": {},
   "outputs": [],
   "source": []
  }
 ],
 "metadata": {
  "kernelspec": {
   "display_name": "Python 3",
   "language": "python",
   "name": "python3"
  },
  "language_info": {
   "codemirror_mode": {
    "name": "ipython",
    "version": 3
   },
   "file_extension": ".py",
   "mimetype": "text/x-python",
   "name": "python",
   "nbconvert_exporter": "python",
   "pygments_lexer": "ipython3",
   "version": "3.8.5"
  }
 },
 "nbformat": 4,
 "nbformat_minor": 5
}
