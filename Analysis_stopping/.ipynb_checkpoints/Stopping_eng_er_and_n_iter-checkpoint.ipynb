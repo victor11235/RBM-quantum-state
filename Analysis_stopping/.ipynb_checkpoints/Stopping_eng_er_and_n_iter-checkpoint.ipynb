{
 "cells": [
  {
   "cell_type": "code",
   "execution_count": 48,
   "id": "a5f89e9d",
   "metadata": {},
   "outputs": [],
   "source": [
    "import netket as nk\n",
    "import json\n",
    "from qutip import *\n",
    "import numpy as np\n",
    "import time\n",
    "import multiprocessing as mp\n",
    "from collections import OrderedDict\n",
    "from pickle import dump\n",
    "import os\n",
    "import matplotlib.pyplot as plt\n",
    "import scipy\n",
    "from matplotlib import gridspec\n",
    "from functools import reduce\n",
    "plt.style.use('seaborn')\n",
    "from scipy.stats import norm"
   ]
  },
  {
   "cell_type": "code",
   "execution_count": 49,
   "id": "dec303b7",
   "metadata": {},
   "outputs": [],
   "source": [
    "# Central Spin Hamiltonian and Hilbert space, inputs are Hamiltonian parameters\n",
    "def CSHam(N, B, Ak):\n",
    "    # Make graph with of length N with no periodic boundary conditions\n",
    "    g = nk.graph.Hypercube(length=N, n_dim=1, pbc=False)\n",
    "    # Spin based Hilbert Space\n",
    "    hilbertSpace = nk.hilbert.Spin(s=0.5, N=g.n_nodes)\n",
    "    # Define pauli matrices\n",
    "    pauliz = 0.5 * np.array([[1, 0], [0, -1]])\n",
    "    paulix = 0.5 * np.array([[0, 1], [1, 0]])\n",
    "    pauliy = 0.5 * np.array([[0, -1j], [1j, 0]])\n",
    "    operators = []\n",
    "    sites = []\n",
    "    # Central spin term\n",
    "    operators.append((B * pauliz).tolist())\n",
    "    sites.append([0])\n",
    "    # Interaction term\n",
    "    itOp = np.kron(pauliz, pauliz) + np.kron(paulix, paulix) + np.kron(pauliy, pauliy)\n",
    "    for i in range(N - 1):\n",
    "        operators.append((Ak[i] * itOp).tolist())\n",
    "        sites.append([0, (i + 1)])\n",
    "    # Create hamiltonian\n",
    "    hamiltonian = nk.operator.LocalOperator(hilbertSpace, operators=operators, acting_on=sites, dtype=complex)\n",
    "    return hamiltonian, hilbertSpace\n",
    "\n",
    "\n",
    "def exactDiagonalization(hamiltonian):\n",
    "    # Changes Hamiltonian to matrix form\n",
    "    haMatrix = hamiltonian.to_dense()\n",
    "    # Gets eigenvalues and vectors\n",
    "    eigenValues, v = np.linalg.eigh(haMatrix)\n",
    "    # Orders from smallest to largest\n",
    "    eigenVectors = [v[:, i] for i in range(len(eigenValues))]\n",
    "    return eigenValues, eigenVectors"
   ]
  },
  {
   "cell_type": "code",
   "execution_count": 4,
   "id": "8ab1c0b4",
   "metadata": {},
   "outputs": [
    {
     "name": "stdout",
     "output_type": "stream",
     "text": [
      "[0.714655711206686, 0.2706903510436629, 0.19700064430027164, 0.15809192733781918, 0.13310606325776964, 0.11541105590704248, 0.10210433090346216, 0.09167886461488539, 0.08326216241364426, 0.07630910833231175, 0.07045931893186008]\n",
      "[0.714655711206686, 0.18151865199806494, 0.12612412420872188, 0.1017429438325903, 0.0875371119095103, 0.07790872448001829, 0.07074383837386922, 0.06508035676313861, 0.0604203642052763, 0.05647886380102274, 0.053078701954828666]\n"
     ]
    }
   ],
   "source": [
    "gap_N_con = []\n",
    "gap_N_var = []\n",
    "\n",
    "for i in range(11):  #here put N-1 (maximum)\n",
    "    N = i+2\n",
    "    # Hamiltonian Parameters\n",
    "    B = 0.95\n",
    "    alpha = 1\n",
    "    # B = N/2\n",
    "    #A = N/2\n",
    "    #N0 = N / 2\n",
    "    M = alpha * N\n",
    "    # List of Ak\n",
    "    Ak = []\n",
    "    for i in range(N - 1):\n",
    "        #Ak_i = A / (N0) * np.exp(-i / N0)\n",
    "        Ak_i = 1\n",
    "        Ak.append(Ak_i)\n",
    "    # Define hamiltonian and hilbert space\n",
    "    ha, hi = CSHam(N, B, Ak)\n",
    "\n",
    "    # Exact Diagonalization\n",
    "    e, v = exactDiagonalization(ha)\n",
    "    # get the gap\n",
    "    gap = np.abs(e[0]-e[1])\n",
    "    gap_N_con.append(gap)\n",
    "    \n",
    "\n",
    "for i in range(11):  #here put N-1 (maximum)\n",
    "    N = i+2\n",
    "    # Hamiltonian Parameters\n",
    "    B = 0.95\n",
    "    alpha = 1\n",
    "    # B = N/2\n",
    "    A = N/2\n",
    "    N0 = N / 2\n",
    "    M = alpha * N\n",
    "    # List of Ak\n",
    "    Ak = []\n",
    "    for i in range(N - 1):\n",
    "        Ak_i = A / (N0) * np.exp(-i / N0)\n",
    "        #Ak_i = 1\n",
    "        Ak.append(Ak_i)\n",
    "    # Define hamiltonian and hilbert space\n",
    "    ha, hi = CSHam(N, B, Ak)\n",
    "\n",
    "    # Exact Diagonalization\n",
    "    e, v = exactDiagonalization(ha)\n",
    "    # get the gap\n",
    "    gap = np.abs(e[0]-e[1])\n",
    "    gap_N_var.append(gap)\n",
    "    \n",
    "    \n",
    "print(gap_N_con)\n",
    "print(gap_N_var)"
   ]
  },
  {
   "cell_type": "code",
   "execution_count": 3,
   "id": "d94cf8cb",
   "metadata": {},
   "outputs": [],
   "source": [
    "import os\n",
    "os.chdir('/home/victor')\n",
    "os.getcwd()\n",
    "\n",
    "gap_N_con = [0.714655711206686, 0.2706903510436629, 0.19700064430027164, 0.15809192733781918, 0.13310606325776964, 0.11541105590704248, 0.10210433090346216, 0.09167886461488539, 0.08326216241364426, 0.07630910833231175, 0.07045931893186008]\n",
    "gap_N_var = [0.714655711206686, 0.18151865199806494, 0.12612412420872188, 0.1017429438325903, 0.0875371119095103, 0.07790872448001829, 0.07074383837386922, 0.06508035676313861, 0.0604203642052763, 0.05647886380102274, 0.053078701954828666]"
   ]
  },
  {
   "cell_type": "code",
   "execution_count": 50,
   "id": "2e508a48",
   "metadata": {},
   "outputs": [
    {
     "name": "stdout",
     "output_type": "stream",
     "text": [
      "[50, 49, 50, 49, 50, 50, 48, 50, 49, 47, 47] [174.62, 333.9, 424.22, 471.28, 535.34, 598.78, 641.76, 650.08, 733.52, 744.46, 753.74]\n",
      "[49, 49, 50, 49, 47, 50, 47, 48, 48, 46, 45] [171.94, 412.5, 504.52, 614.94, 638.5, 778.66, 733.52, 845.08, 862.1, 857.02, 971.78]\n",
      "[5.987053379022547, 9.538675302714326, 10.715820461507617, 17.14778595811442, 22.331137042986708, 17.370237036202976, 21.60847452803116, 22.178604140762626, 28.112387276205247, 40.12901856029181, 36.42793063862185] [5.039388527856715, 16.465108439313944, 16.247103101281578, 19.98904618402136, 22.228392397369372, 29.319403758171717, 32.38257581364599, 42.97660341181381, 35.386971544652425, 44.134169186650816, 48.13271864419911]\n"
     ]
    }
   ],
   "source": [
    "#take half of the energy gap\n",
    "half_gap_con = []\n",
    "half_gap_var = []\n",
    "\n",
    "for i in gap_N_con:\n",
    "    half_gap_con.append(i/2)\n",
    "    \n",
    "\n",
    "for i in gap_N_var:\n",
    "    half_gap_var.append(i/2)\n",
    "    \n",
    "\n",
    "#define a function that counts the number of runs with small enough energy errors\n",
    "def count(eng_er_list, half_gap):\n",
    "    count = 0\n",
    "    for i in eng_er_list:\n",
    "        if i <= half_gap:\n",
    "            count += 1\n",
    "    return count\n",
    "\n",
    "\n",
    "#load energy error data\n",
    "eng_con = []\n",
    "eng_count_con = []\n",
    "iter_con = []\n",
    "se_con = []\n",
    "for i in range(2,13,1):\n",
    "    with open('2021_summer_data/stop_0.01_0.0003_50ep_10min/stop_con_'+'N'+str(i)+'M'+str(i)+'.json') as f:\n",
    "        for line in f:\n",
    "            eng_con.append(json.loads(line))\n",
    "    eng_count_con_temp = count(eng_con[4*(i-2)], half_gap_con[i-2])\n",
    "    eng_count_con.append(eng_count_con_temp)\n",
    "    iter_con.append(np.average(eng_con[3+4*(i-2)]))\n",
    "    se_con.append(scipy.stats.sem(eng_con[3+4*(i-2)]))\n",
    "print(eng_count_con, iter_con)\n",
    "\n",
    "eng_var = []\n",
    "eng_count_var = []\n",
    "iter_var = []\n",
    "se_var = []\n",
    "for i in range(2,13,1):\n",
    "    with open('2021_summer_data/stop_0.01_0.0003_50ep_10min/stop_var_'+'N'+str(i)+'M'+str(i)+'.json') as f:\n",
    "        for line in f:\n",
    "            eng_var.append(json.loads(line))\n",
    "    eng_count_var_temp = count(eng_var[4*(i-2)], half_gap_var[i-2])\n",
    "    eng_count_var.append(eng_count_var_temp)\n",
    "    iter_var.append(np.average(eng_var[3+4*(i-2)]))\n",
    "    se_var.append(scipy.stats.sem(eng_var[3+4*(i-2)]))\n",
    "print(eng_count_var, iter_var)\n",
    "print(se_con, se_var)"
   ]
  },
  {
   "cell_type": "code",
   "execution_count": 51,
   "id": "5f2fd6c7",
   "metadata": {},
   "outputs": [
    {
     "data": {
      "image/png": "[encoded data removed]",
      "text/plain": [
       "<Figure size 576x396 with 1 Axes>"
      ]
     },
     "metadata": {},
     "output_type": "display_data"
    }
   ],
   "source": [
    "N = [2,3,4,5,6,7,8,9,10,11,12]\n",
    "#plot the count\n",
    "plt.plot(N,eng_count_con,'g>',markersize=12,label='Constant A')\n",
    "plt.plot(N,eng_count_var,'b^',markersize=12,label='Varying A')\n",
    "plt.ylabel('# of runs with energy error smaller than half of the energy gap')\n",
    "plt.xlabel('N')\n",
    "plt.legend()\n",
    "plt.show()"
   ]
  },
  {
   "cell_type": "code",
   "execution_count": 52,
   "id": "8b866034",
   "metadata": {},
   "outputs": [
    {
     "data": {
      "image/png": "[encoded data removed]",
      "text/plain": [
       "<Figure size 576x396 with 1 Axes>"
      ]
     },
     "metadata": {},
     "output_type": "display_data"
    }
   ],
   "source": [
    "#plot the count\n",
    "plt.plot(N,iter_con,'g.',markersize=14,label='Constant A')\n",
    "plt.plot(N,iter_var,'b.',markersize=14,label='Varying A')\n",
    "plt.errorbar(N,iter_con,yerr = se_con, capsize=1, fmt='o')\n",
    "plt.errorbar(N,iter_var,yerr = se_var, capsize=1, fmt='o')\n",
    "plt.xlabel('N')\n",
    "plt.ylabel('Average number of iterations over 50 runs')\n",
    "plt.legend()\n",
    "plt.show()"
   ]
  },
  {
   "cell_type": "code",
   "execution_count": null,
   "id": "c3619403",
   "metadata": {},
   "outputs": [],
   "source": []
  },
  {
   "cell_type": "code",
   "execution_count": null,
   "id": "2d3a78ef",
   "metadata": {},
   "outputs": [],
   "source": []
  }
 ],
 "metadata": {
  "kernelspec": {
   "display_name": "Python 3",
   "language": "python",
   "name": "python3"
  },
  "language_info": {
   "codemirror_mode": {
    "name": "ipython",
    "version": 3
   },
   "file_extension": ".py",
   "mimetype": "text/x-python",
   "name": "python",
   "nbconvert_exporter": "python",
   "pygments_lexer": "ipython3",
   "version": "3.8.5"
  }
 },
 "nbformat": 4,
 "nbformat_minor": 5
}
