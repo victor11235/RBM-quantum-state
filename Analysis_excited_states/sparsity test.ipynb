{
 "cells": [
  {
   "cell_type": "code",
   "execution_count": 1,
   "id": "a10ac35b",
   "metadata": {},
   "outputs": [],
   "source": [
    "import netket as nk\n",
    "import json\n",
    "from qutip import *\n",
    "import numpy as np\n",
    "import time\n",
    "import multiprocessing as mp\n",
    "from collections import OrderedDict\n",
    "from pickle import dump\n",
    "import os\n",
    "import matplotlib.pyplot as plt\n",
    "import scipy\n",
    "from matplotlib import gridspec\n",
    "from functools import reduce\n",
    "plt.style.use('seaborn')\n",
    "from scipy.stats import norm"
   ]
  },
  {
   "cell_type": "code",
   "execution_count": 2,
   "id": "95f76a37",
   "metadata": {},
   "outputs": [],
   "source": [
    "def CSHam(N, B, Ak):\n",
    "    # Make graph with of length N with no periodic boundary conditions\n",
    "    g = nk.graph.Hypercube(length=N, n_dim=1, pbc=False)\n",
    "    # Spin based Hilbert Space\n",
    "    hilbertSpace = nk.hilbert.Spin(s=0.5, N=g.n_nodes)\n",
    "    # Define spin operators with \\hbar set to 1\n",
    "    sz = 0.5 * np.array([[1, 0], [0, -1]])\n",
    "    sx = 0.5 * np.array([[0, 1], [1, 0]])\n",
    "    sy = 0.5 * np.array([[0, -1j], [1j, 0]])\n",
    "    operators = []\n",
    "    sites = []\n",
    "    # Central spin term\n",
    "    operators.append((B * sz).tolist()) #array to list(ordered and changeable)\n",
    "    sites.append([0])\n",
    "    # Interaction term\n",
    "    itOp = np.kron(sz, sz) + np.kron(sx, sx) + np.kron(sy, sy) #kronecker product here\n",
    "    for i in range(N - 1):\n",
    "        operators.append((Ak[i] * itOp).tolist())\n",
    "        sites.append([0, (i+1)])  #pretty convoluted indexing, but ok\n",
    "    # Create hamiltonian\n",
    "    hamiltonian = nk.operator.LocalOperator(hilbertSpace, operators=operators, acting_on=sites, dtype=complex)\n",
    "    #acting_on specifier necessary as this is a central spin model\n",
    "    return hamiltonian, hilbertSpace\n",
    "\n",
    "\n",
    "def exactDiagonalization_full(hamiltonian):\n",
    "    # Changes Hamiltonian to matrix form\n",
    "    haMatrix = hamiltonian.to_dense()\n",
    "    # Gets eigenvalues and vectors\n",
    "    eigenValues, v = np.linalg.eigh(haMatrix)\n",
    "    # Orders from smallest to largest\n",
    "    eigenVectors = [v[:, i] for i in range(len(eigenValues))]\n",
    "    return eigenValues, eigenVectors\n"
   ]
  },
  {
   "cell_type": "code",
   "execution_count": 61,
   "id": "91544001",
   "metadata": {},
   "outputs": [
    {
     "name": "stdout",
     "output_type": "stream",
     "text": [
      "[ 0.        +0.j -0.08217567+0.j -0.08217567+0.j ...  0.        +0.j\n",
      "  0.        +0.j  0.        +0.j]\n"
     ]
    }
   ],
   "source": [
    "N = 11\n",
    "Ak = []\n",
    "\n",
    "alpha = 1   #density of RBM\n",
    "M = alpha*N\n",
    "# Constant A\n",
    "B = 0.95\n",
    "# Variable A\n",
    "A = N/2\n",
    "N0 = N/2\n",
    "for i in range(N-1):\n",
    "    # Constant A\n",
    "    Ak_i = 1\n",
    "    # Variable A\n",
    "    #Ak_i = A / (N0) * np.exp(-i / N0)\n",
    "    Ak.append(Ak_i)\n",
    "\n",
    "ha, hi = CSHam(N, B, Ak)\n",
    "\n",
    "e,v  = exactDiagonalization_full(ha)\n",
    "\n",
    "print(v[0])"
   ]
  },
  {
   "cell_type": "code",
   "execution_count": 62,
   "id": "bfc91039",
   "metadata": {},
   "outputs": [
    {
     "name": "stdout",
     "output_type": "stream",
     "text": [
      "462\n",
      "121\n"
     ]
    }
   ],
   "source": [
    "def count(state):\n",
    "    count = 0\n",
    "    for state_i in state:\n",
    "        if state_i != 0:\n",
    "            count += 1\n",
    "    return count\n",
    "\n",
    "def count_ma(matrix):\n",
    "    count = 0\n",
    "    for state_i in matrix:\n",
    "        for i in state_i:\n",
    "            if i != 0:\n",
    "                count += 1\n",
    "    return count\n",
    "\n",
    "count_list = []\n",
    "for v_i in v:\n",
    "    v_i_round = np.around(v_i, 10)\n",
    "    count_temp = count(v_i_round)\n",
    "    count_list.append(count_temp)\n",
    "print(np.amax(count_list))\n",
    "    \n",
    "        \n",
    "a = np.around(v[0], 10)\n",
    "print(count_ma(np.outer(a,np.conj(a))))"
   ]
  },
  {
   "cell_type": "code",
   "execution_count": null,
   "id": "7a9b24ce",
   "metadata": {},
   "outputs": [],
   "source": []
  }
 ],
 "metadata": {
  "kernelspec": {
   "display_name": "Python 3",
   "language": "python",
   "name": "python3"
  },
  "language_info": {
   "codemirror_mode": {
    "name": "ipython",
    "version": 3
   },
   "file_extension": ".py",
   "mimetype": "text/x-python",
   "name": "python",
   "nbconvert_exporter": "python",
   "pygments_lexer": "ipython3",
   "version": "3.8.5"
  }
 },
 "nbformat": 4,
 "nbformat_minor": 5
}
