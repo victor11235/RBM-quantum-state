{
 "cells": [
  {
   "cell_type": "code",
   "execution_count": 2,
   "id": "b8e48b06",
   "metadata": {},
   "outputs": [],
   "source": [
    "import netket as nk\n",
    "import json\n",
    "from qutip import *\n",
    "import numpy as np\n",
    "import time\n",
    "import multiprocessing as mp\n",
    "from collections import OrderedDict\n",
    "from pickle import dump\n",
    "import os\n",
    "import matplotlib.pyplot as plt\n",
    "import scipy\n",
    "from matplotlib import gridspec\n",
    "from functools import reduce\n",
    "from functools import wraps\n",
    "plt.style.use('seaborn')\n",
    "from scipy.stats import norm\n",
    "import matplotlib\n",
    "matplotlib.rcParams[\"figure.dpi\"] = 100"
   ]
  },
  {
   "cell_type": "code",
   "execution_count": 3,
   "id": "d4ad688b",
   "metadata": {},
   "outputs": [],
   "source": [
    "def CSHam(N, B, Ak):\n",
    "    # Make graph with of length N with no periodic boundary conditions\n",
    "    g = nk.graph.Hypercube(length=N, n_dim=1, pbc=False)\n",
    "    # Spin based Hilbert Space\n",
    "    hilbertSpace = nk.hilbert.Spin(s=0.5, N=g.n_nodes)\n",
    "    # Define spin operators with \\hbar set to 1\n",
    "    sz = 0.5 * np.array([[1, 0], [0, -1]])\n",
    "    sx = 0.5 * np.array([[0, 1], [1, 0]])\n",
    "    sy = 0.5 * np.array([[0, -1j], [1j, 0]])\n",
    "    operators = []\n",
    "    sites = []\n",
    "    # Central spin term\n",
    "    operators.append((B * sz).tolist()) #array to list(ordered and changeable)\n",
    "    sites.append([0])\n",
    "    # Interaction term\n",
    "    itOp = np.kron(sz, sz) + np.kron(sx, sx) + np.kron(sy, sy) #kronecker product here\n",
    "    for i in range(N - 1):\n",
    "        operators.append((Ak[i] * itOp).tolist())\n",
    "        sites.append([0, (i+1)])  #pretty convoluted indexing, but ok\n",
    "    # Create hamiltonian\n",
    "    hamiltonian = nk.operator.LocalOperator(hilbertSpace, operators=operators, acting_on=sites, dtype=complex)\n",
    "    #acting_on specifier necessary as this is a central spin model\n",
    "    return hamiltonian, hilbertSpace\n",
    "def exactDiagonalization_full(hamiltonian):\n",
    "    # Changes Hamiltonian to matrix form\n",
    "    haMatrix = hamiltonian.to_dense()\n",
    "    # Gets eigenvalues and vectors\n",
    "    eigenValues, v = np.linalg.eigh(haMatrix)\n",
    "    # Orders from smallest to largest\n",
    "    eigenVectors = [v[:, i] for i in range(len(eigenValues))]\n",
    "    return eigenValues, eigenVectors\n",
    "\n",
    "N = 6\n",
    "Ak = []\n",
    "\n",
    "alpha = 1   #density of RBM\n",
    "M = alpha*N\n",
    "# Constant A\n",
    "B = 0.95\n",
    "# Variable A\n",
    "A = N/2\n",
    "N0 = N/2\n",
    "for i in range(N-1):\n",
    "    # Constant A\n",
    "    #Ak_i = 1\n",
    "    # Variable A\n",
    "    Ak_i = A / (N0) * np.exp(-i / N0)\n",
    "    Ak.append(Ak_i)\n",
    "    \n",
    "# Define hamiltonian and hilbert space\n",
    "ha, hi = CSHam(N,B,Ak)\n",
    "\n",
    "#Exact Diagonalization\n",
    "e, v = exactDiagonalization_full(ha)"
   ]
  },
  {
   "cell_type": "code",
   "execution_count": 11,
   "id": "9f18e42f",
   "metadata": {},
   "outputs": [],
   "source": [
    "#load original data first\n",
    "N6_con = []\n",
    "with open('2021_summer_data/ex_hist_var_rmsprop_only_excited_N6M6.json') as f:\n",
    "    for line in f:\n",
    "        N6_con.append(json.loads(line))\n"
   ]
  },
  {
   "cell_type": "code",
   "execution_count": 12,
   "id": "52cb4d2e",
   "metadata": {},
   "outputs": [
    {
     "name": "stdout",
     "output_type": "stream",
     "text": [
      "[-1.4151653778530704, -1.4151653778530704, -1.4151653778530704, -1.4151653778530704, -1.4151653778530704, -1.4151653778530704, -1.4151653778530704, -1.4151653778530704, -1.4151653778530704, -1.4151653778530704, -1.4151653778530704, -1.4151653778530704, -1.4151653778530704, -1.4151653778530704, -1.4151653778530704, -1.4151653778530704, -1.4151653778530704, -1.4151653778530704, -1.4151653778530704, -1.4151653778530704, -1.4151653778530704, -1.4151653778530704, -1.4151653778530704, -1.4151653778530704, -1.4151653778530704, -1.4151653778530704, -1.4151653778530704, -1.4151653778530704, -1.4151653778530704, -1.4151653778530704]\n"
     ]
    }
   ],
   "source": [
    "#now get histogram data for energy\n",
    "eng_list0 = []\n",
    "eng_list1 = []\n",
    "eng_list2 = []\n",
    "eng_list3 = []\n",
    "eng_list4 = []\n",
    "\n",
    "eng_part = N6_con[0]\n",
    "for eng_list in eng_part:\n",
    "    eng_list0.append(eng_list[0])\n",
    "    eng_list1.append(eng_list[1])\n",
    "    eng_list2.append(eng_list[2])\n",
    "    eng_list3.append(eng_list[3])\n",
    "    eng_list4.append(eng_list[4])\n",
    "\n",
    "#similarly for state vector errors\n",
    "sta_list0 = []\n",
    "sta_list1 = []\n",
    "sta_list2 = []\n",
    "sta_list3 = []\n",
    "sta_list4 = []\n",
    "\n",
    "sta_part = N6_con[1]\n",
    "for sta_list in sta_part:\n",
    "    sta_list0.append(sta_list[0])\n",
    "    sta_list1.append(sta_list[1])\n",
    "    sta_list2.append(sta_list[2])\n",
    "    sta_list3.append(sta_list[3])\n",
    "    sta_list4.append(sta_list[4])\n",
    "print(eng_list0)"
   ]
  },
  {
   "cell_type": "code",
   "execution_count": 14,
   "id": "50ff3e0a",
   "metadata": {},
   "outputs": [
    {
     "data": {
      "image/png": "[encoded data removed]",
      "text/plain": [
       "<Figure size 576x396 with 1 Axes>"
      ]
     },
     "metadata": {},
     "output_type": "display_data"
    }
   ],
   "source": [
    "e_0 = np.array(eng_list0)\n",
    "e_1 = np.array(eng_list1)\n",
    "e_2 = np.array(eng_list2)\n",
    "e_3 = np.array(eng_list3)\n",
    "e_4 = np.array(eng_list4)\n",
    "\n",
    "del_e = np.stack((e_0, e_1, e_2, e_3, e_4),axis=1)\n",
    "colors = ['blue', 'green','red', 'black', 'yellow']\n",
    "\n",
    "bins = np.arange(-1.43, -1.15, 0.00902)\n",
    "#bins = np.arange(-1.84, -1.75, 0.003)\n",
    "plt.hist(del_e, bins=bins,color = colors, label = ['0','1','2','3', '4'])\n",
    "plt.vlines([e[0], e[1], e[2], e[3],e[4]], ymin = 0, ymax = 30, color = 'orange', linestyles = 'dotted')\n",
    "plt.xlabel('Energy')\n",
    "plt.legend()\n",
    "plt.show()\n"
   ]
  },
  {
   "cell_type": "code",
   "execution_count": 17,
   "id": "6661cbc7",
   "metadata": {},
   "outputs": [
    {
     "name": "stderr",
     "output_type": "stream",
     "text": [
      "WARNING:matplotlib.legend:No handles with labels found to put in legend.\n"
     ]
    },
    {
     "data": {
      "image/png": "[encoded data removed]",
      "text/plain": [
       "<Figure size 576x396 with 1 Axes>"
      ]
     },
     "metadata": {},
     "output_type": "display_data"
    }
   ],
   "source": [
    "sta0 = np.array(sta_list0)\n",
    "sta1 = np.array(sta_list1)\n",
    "sta2 = np.array(sta_list2)\n",
    "sta3 = np.array(sta_list3)\n",
    "bins = np.arange(0, 1, 0.01)\n",
    "plt.hist(sta3, bins=bins)\n",
    "\n",
    "plt.xlabel('State vector error')\n",
    "plt.legend()\n",
    "plt.show()\n"
   ]
  },
  {
   "cell_type": "code",
   "execution_count": 25,
   "id": "afa84759",
   "metadata": {},
   "outputs": [
    {
     "name": "stdout",
     "output_type": "stream",
     "text": [
      "[-1.4152494317083466]\n"
     ]
    }
   ],
   "source": [
    "print([e[0]])"
   ]
  },
  {
   "cell_type": "code",
   "execution_count": null,
   "id": "1462ef83",
   "metadata": {},
   "outputs": [],
   "source": []
  }
 ],
 "metadata": {
  "kernelspec": {
   "display_name": "Python 3 (ipykernel)",
   "language": "python",
   "name": "python3"
  },
  "language_info": {
   "codemirror_mode": {
    "name": "ipython",
    "version": 3
   },
   "file_extension": ".py",
   "mimetype": "text/x-python",
   "name": "python",
   "nbconvert_exporter": "python",
   "pygments_lexer": "ipython3",
   "version": "3.8.10"
  }
 },
 "nbformat": 4,
 "nbformat_minor": 5
}
