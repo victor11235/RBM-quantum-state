{
 "cells": [
  {
   "cell_type": "code",
   "execution_count": 1,
   "id": "8cc3dca9",
   "metadata": {},
   "outputs": [],
   "source": [
    "import netket as nk\n",
    "import json\n",
    "from qutip import *\n",
    "import numpy as np\n",
    "import time\n",
    "import multiprocessing as mp\n",
    "from collections import OrderedDict\n",
    "from pickle import dump\n",
    "import os\n",
    "import matplotlib.pyplot as plt\n",
    "import scipy\n",
    "from matplotlib import gridspec\n",
    "from functools import reduce\n",
    "plt.style.use('seaborn')\n",
    "from scipy.stats import norm\n",
    "import sys\n",
    "sys.path.append(\"/Users/victorwei/Research projects/Neural Network Quantum State/penalty excited states\")\n",
    "import expect_grad_ex\n",
    "import vmc_ex\n",
    "import jax\n",
    "import optax\n",
    "\n",
    "from typing import Callable, Optional\n",
    "from functools import partial\n",
    "\n",
    "import jax\n",
    "import jax.numpy as jnp\n",
    "\n",
    "from netket.utils.types import PyTree, Array\n",
    "import netket.jax as nkjax\n",
    "\n",
    "from netket.vqs.mc import (\n",
    "    kernels,\n",
    "    check_hilbert,\n",
    "    get_local_kernel_arguments,\n",
    "    get_local_kernel,\n",
    ")\n",
    "\n",
    "from netket.vqs.mc.mc_state.state import MCState\n",
    "\n",
    "from netket.operator import (\n",
    "    AbstractOperator,\n",
    "    DiscreteOperator,\n",
    "    Squared,\n",
    "    ContinuousOperator,\n",
    ")\n",
    "\n",
    "from netket.vqs.mc import (\n",
    "    get_local_kernel_arguments,\n",
    "    get_local_kernel,\n",
    ")\n",
    "from netket.stats import Stats, statistics\n",
    "import matplotlib\n",
    "matplotlib.rcParams[\"figure.dpi\"] = 100\n",
    "plt.rcParams['text.usetex'] = True"
   ]
  },
  {
   "cell_type": "code",
   "execution_count": 2,
   "id": "afc3b1fe",
   "metadata": {},
   "outputs": [],
   "source": [
    "#we define necessary functions here\n",
    "def batch_discrete_kernel(kernel):\n",
    "    \"\"\"\n",
    "    Batch a kernel that only works with 1 sample so that it works with a\n",
    "    batch of samples.\n",
    "    Works only for discrete-kernels who take two args as inputs\n",
    "    \"\"\"\n",
    "\n",
    "    def vmapped_kernel(logpsi_1, logpsi_2, pars1, pars2, σ, args):\n",
    "        \"\"\"\n",
    "        local_value kernel for MCState and generic operators\n",
    "        \"\"\"\n",
    "        σp, mels = args\n",
    "\n",
    "        if jnp.ndim(σp) != 3:\n",
    "            σp = σp.reshape((σ.shape[0], -1, σ.shape[-1]))\n",
    "            mels = mels.reshape(σp.shape[:-1])\n",
    "\n",
    "        vkernel = jax.vmap(kernel, in_axes=(None, None,None,None, 0, (0, 0)), out_axes=0)\n",
    "        return vkernel(logpsi_1, logpsi_2, pars1, pars2, σ, (σp, mels))\n",
    "\n",
    "    return vmapped_kernel\n",
    "\n",
    "#we first need to estabalish the kernel functions for evaluating expectation values\n",
    "@partial(jax.jit, static_argnums=(0, 1))\n",
    "@batch_discrete_kernel\n",
    "def corr_kernel(logpsi_1: Callable, logpsi_2: Callable, pars1: PyTree, pars2: PyTree, σ: Array, args: PyTree):\n",
    "    σp, mel = args\n",
    "\n",
    "\n",
    "    return jnp.sum(mel * jnp.exp(logpsi_1(pars1, σp) - logpsi_2(pars2, σ)))\n",
    "\n",
    "\n",
    "def get_local_kernel_arguments(vstate: MCState, Ô: DiscreteOperator):  # noqa: F811\n",
    "    check_hilbert(vstate.hilbert, Ô.hilbert)\n",
    "\n",
    "    σ = vstate.samples\n",
    "    σp, mels = Ô.get_conn_padded(σ)\n",
    "    \n",
    "    return σ, (σp, mels)"
   ]
  },
  {
   "cell_type": "code",
   "execution_count": 3,
   "id": "8b0c3c9c",
   "metadata": {},
   "outputs": [],
   "source": [
    "#here is the function for expectation value\n",
    "#input: operator, left_psi (rbm object, parameter finalized), right_psi (rbm object, parameter finalized)\n",
    "def expect(operator, left_psi, right_psi):\n",
    "    para1 = right_psi.parameters\n",
    "    para2 = left_psi.parameters\n",
    "    \n",
    "    logpsi_1 = right_psi._apply_fun\n",
    "    logpsi_2 = left_psi._apply_fun\n",
    "    \n",
    "    model_state1 = right_psi.model_state\n",
    "    model_state2 = left_psi.model_state\n",
    "    \n",
    "    σ, args = get_local_kernel_arguments(left_psi, operator)\n",
    "\n",
    "    σ_shape = σ.shape\n",
    "    if jnp.ndim(σ) != 2:\n",
    "        σ = σ.reshape((-1, σ_shape[-1]))\n",
    "\n",
    "    psi_loc = corr_kernel(\n",
    "            logpsi_1,\n",
    "            logpsi_2,\n",
    "            {\"params\": para1, **model_state1},\n",
    "            {\"params\": para2, **model_state2},\n",
    "            σ,\n",
    "            args,\n",
    "        )\n",
    "\n",
    "    psi = statistics(psi_loc)\n",
    "\n",
    "    return psi.mean"
   ]
  },
  {
   "cell_type": "code",
   "execution_count": 4,
   "id": "c1fed7d4",
   "metadata": {},
   "outputs": [],
   "source": [
    "def corr_test(t_obver, obver, sta_list, eng_list, n_samples):\n",
    "\n",
    "    initial_list = []\n",
    "    \n",
    "    #re-set the number of samples\n",
    "    for ii in range(len(eng_list)):\n",
    "        sta_list[ii].reset()\n",
    "        sta_list[ii].n_samples = n_samples\n",
    "    \n",
    "    for j in range(len(eng_list)):\n",
    "        np.random.seed()\n",
    "        initial_list.append(expect(t_obver, sta_list[0], sta_list[j]) * expect(obver, sta_list[j], sta_list[0]))\n",
    "\n",
    "    return sum(initial_list)"
   ]
  },
  {
   "cell_type": "code",
   "execution_count": 5,
   "id": "4bc5698a",
   "metadata": {},
   "outputs": [],
   "source": [
    "#below are standard functions we need for model setup\n",
    "#Make basis and get sz values\n",
    "def operatorCreation(N):\n",
    "    #operator definitionis\n",
    "    si = qeye(2)\n",
    "    sx = 0.5*sigmax()\n",
    "    sy = 0.5*sigmay()\n",
    "    sz = 0.5*sigmaz()\n",
    "    \n",
    "\n",
    "    sx_list = []\n",
    "    sy_list = []\n",
    "    sz_list = []\n",
    "    \n",
    "\n",
    "    for n in range(N):\n",
    "        op_list = []\n",
    "        for m in range(N):\n",
    "            op_list.append(si)\n",
    "\n",
    "        op_list[n] = sx\n",
    "        sx_list.append(tensor(op_list))\n",
    "\n",
    "        op_list[n] = sy\n",
    "        sy_list.append(tensor(op_list))\n",
    "\n",
    "        op_list[n] = sz\n",
    "        sz_list.append(tensor(op_list))\n",
    "        \n",
    "        op_list[n] = si\n",
    "    id = tensor(op_list)\n",
    "        \n",
    "    return sx_list, sy_list, sz_list,id\n",
    "\n",
    "def CSHam(N, B, Ak):\n",
    "    # Make graph with of length N with no periodic boundary conditions\n",
    "    g = nk.graph.Hypercube(length=N, n_dim=1, pbc=False)\n",
    "    # Spin based Hilbert Space\n",
    "    hilbertSpace = nk.hilbert.Spin(s=0.5, N=g.n_nodes)\n",
    "    # Define spin operators with \\hbar set to 1\n",
    "    sz = 0.5 * np.array([[1, 0], [0, -1]])\n",
    "    sx = 0.5 * np.array([[0, 1], [1, 0]])\n",
    "    sy = 0.5 * np.array([[0, -1j], [1j, 0]])\n",
    "    operators = []\n",
    "    sites = []\n",
    "    # Central spin term\n",
    "    operators.append((B * sz).tolist()) #array to list(ordered and changeable)\n",
    "    sites.append([0])\n",
    "    # Interaction term\n",
    "    itOp = np.kron(sz, sz) + np.kron(sx, sx) + np.kron(sy, sy) #kronecker product here\n",
    "    for i in range(N - 1):\n",
    "        operators.append((Ak[i] * itOp).tolist())\n",
    "        sites.append([0, (i+1)])  #pretty convoluted indexing, but ok\n",
    "    # Create hamiltonian\n",
    "    hamiltonian = nk.operator.LocalOperator(hilbertSpace, operators=operators, acting_on=sites, dtype=complex)\n",
    "    #acting_on specifier necessary as this is a central spin model\n",
    "    return hamiltonian, hilbertSpace\n",
    "\n",
    "def exactDiagonalization_full(hamiltonian):\n",
    "    # Changes Hamiltonian to matrix form\n",
    "    haMatrix = hamiltonian.to_dense()\n",
    "    # Gets eigenvalues and vectors\n",
    "    eigenValues, v = np.linalg.eigh(haMatrix)\n",
    "    # Orders from smallest to largest\n",
    "    eigenVectors = [v[:, i] for i in range(len(eigenValues))]\n",
    "    return eigenValues, eigenVectors\n",
    "\n",
    "def state_error(state_list, ex_state_list, N):\n",
    "    state_er = []\n",
    "    for i in range(len(state_list)):\n",
    "        state_er_temp = err_sta(state_list[i], ex_state_list[i], N)\n",
    "        state_er.append(state_er_temp)\n",
    "    return state_er\n",
    "\n",
    "# Error Calculation (Input: the found state, the state from exact diagonalization, the found energy, the energy from exact diagonalization)\n",
    "def err_sta(state, edState,N):\n",
    "    overlap = np.dot(state.conj().reshape(2**N, 1).T, edState.reshape(2**N, 1))\n",
    "    waveFunctionErr = 1 - (np.linalg.norm(overlap))**2\n",
    "    return waveFunctionErr\n",
    "\n",
    "def eng_error(eng_list, ex_energy):\n",
    "    eng_er = []\n",
    "    for i in range(len(eng_list)):\n",
    "        eng_er_temp = np.abs(eng_list[i] - ex_energy[i])\n",
    "        eng_er.append(eng_er_temp)\n",
    "    return eng_er"
   ]
  },
  {
   "cell_type": "code",
   "execution_count": 6,
   "id": "ea8f1eb1",
   "metadata": {},
   "outputs": [],
   "source": [
    "#now let's do some dynamics\n",
    "N = 6\n",
    "Ak = []\n",
    "\n",
    "alpha = 1   #density of RBM\n",
    "M = alpha*N\n",
    "# Constant A\n",
    "B = 0.95\n",
    "# Variable A\n",
    "A = N/2\n",
    "N0 = N/2\n",
    "for i in range(N-1):\n",
    "    # Constant A\n",
    "    #Ak_i = 1\n",
    "    # Variable A\n",
    "    Ak_i = A / (N0) * np.exp(-i / N0)\n",
    "    Ak.append(Ak_i)\n",
    "    \n",
    "# Define hamiltonian and hilbert space\n",
    "ha, hi = CSHam(N,B,Ak)\n",
    "\n",
    "\n",
    "#Exact Diagonalization\n",
    "e, v = exactDiagonalization_full(ha)"
   ]
  },
  {
   "cell_type": "code",
   "execution_count": 7,
   "id": "2ffd2868",
   "metadata": {},
   "outputs": [],
   "source": [
    "#we now need to create the plus and minus operator in netket local operator format\n",
    "g = nk.graph.Hypercube(length=N, n_dim=1, pbc=False)\n",
    "# Spin based Hilbert Space\n",
    "hilbertSpace = nk.hilbert.Spin(s=0.5, N=g.n_nodes)\n",
    "# Define spin operators with \\hbar set to 1\n",
    "sz = 0.5 * np.array([[1, 0], [0, -1]])\n",
    "sx = 0.5 * np.array([[0, 1], [1, 0]])\n",
    "sy = 0.5 * np.array([[0, -1j], [1j, 0]])\n",
    "operators_p = []\n",
    "operators_m = []\n",
    "sites_p = []\n",
    "sites_m = []\n",
    "\n",
    "# plus operator\n",
    "operators_p.append((sx + 1j * sy).tolist()) #array to list(ordered and changeable)\n",
    "sites_p.append([0])\n",
    "# Create plus operator\n",
    "S_plus = nk.operator.LocalOperator(hilbertSpace, operators=operators_p, acting_on=sites_p, dtype=complex)\n",
    "\n",
    "# minus operator\n",
    "operators_m.append((sx - 1j * sy).tolist()) #array to list(ordered and changeable)\n",
    "sites_m.append([0])\n",
    "# Create plus operator\n",
    "S_minus = nk.operator.LocalOperator(hilbertSpace, operators=operators_m, acting_on=sites_m, dtype=complex)"
   ]
  },
  {
   "cell_type": "code",
   "execution_count": 8,
   "id": "742d6c34",
   "metadata": {},
   "outputs": [
    {
     "name": "stderr",
     "output_type": "stream",
     "text": [
      "WARNING:absl:No GPU/TPU found, falling back to CPU. (Set TF_CPP_MIN_LOG_LEVEL=0 and rerun for more info.)\n"
     ]
    },
    {
     "name": "stdout",
     "output_type": "stream",
     "text": [
      "[DeviceArray(-1.41475664, dtype=float64), DeviceArray(-1.32724082, dtype=float64), DeviceArray(-1.27203681, dtype=float64), DeviceArray(-1.22009009, dtype=float64)]\n"
     ]
    }
   ],
   "source": [
    "n_samples_global = 500000\n",
    "#now we need the inexact eigenstates in rbm representation\n",
    "#we need to load the parameters first, then create a list of eigenstates\n",
    "#this shit loads the ground state parameters\n",
    "import pickle\n",
    "fileName_0 = \"eigenstate_data/parameter_N6i0j38_best-Copy1.json\"\n",
    "file_0 = open(fileName_0,'rb')\n",
    "a0 = pickle.load(file_0)\n",
    "\n",
    "fileName_1 = \"eigenstate_data/parameter_N6i1j41_best-Copy1.json\"\n",
    "file_1 = open(fileName_1,'rb')\n",
    "a1 = pickle.load(file_1)\n",
    "\n",
    "fileName_2 = \"eigenstate_data/parameter_N6i2j22_best-Copy1.json\"\n",
    "file_2 = open(fileName_2,'rb')\n",
    "a2 = pickle.load(file_2)\n",
    "\n",
    "fileName_3 = \"eigenstate_data/parameter_N6i3j10_best-Copy1.json\"\n",
    "file_3 = open(fileName_3,'rb')\n",
    "a3 = pickle.load(file_3)\n",
    "\n",
    "n_samples = n_samples_global\n",
    "alpha = 1\n",
    "ma = nk.models.RBM(alpha=alpha, dtype=complex,use_visible_bias=True, use_hidden_bias=True)\n",
    "sampler = nk.sampler.MetropolisLocal(hilbert=hi)\n",
    "\n",
    "vs_0 = nk.vqs.MCState(sampler, ma, n_samples=n_samples, n_discard_per_chain=n_samples/10)\n",
    "vs_0.parameters = a0\n",
    "eng_0 = np.real(vs_0.expect(ha).mean)\n",
    "vs_1 = nk.vqs.MCState(sampler, ma, n_samples=n_samples, n_discard_per_chain=n_samples/10)\n",
    "vs_1.parameters = a1\n",
    "eng_1 = np.real(vs_1.expect(ha).mean)\n",
    "vs_2 = nk.vqs.MCState(sampler, ma, n_samples=n_samples, n_discard_per_chain=n_samples/10)\n",
    "vs_2.parameters = a2\n",
    "eng_2 = np.real(vs_2.expect(ha).mean)\n",
    "vs_3 = nk.vqs.MCState(sampler, ma, n_samples=n_samples, n_discard_per_chain=n_samples/10)\n",
    "vs_3.parameters = a3\n",
    "eng_3 = np.real(vs_3.expect(ha).mean)\n",
    "\n",
    "state_list = [vs_0, vs_1, vs_2, vs_3]\n",
    "eng_list = [eng_0, eng_1, eng_2, eng_3]\n",
    "\n",
    "print(eng_list)"
   ]
  },
  {
   "cell_type": "code",
   "execution_count": 9,
   "id": "d4a1b5d7",
   "metadata": {},
   "outputs": [
    {
     "name": "stdout",
     "output_type": "stream",
     "text": [
      "0\n",
      "1\n"
     ]
    },
    {
     "ename": "KeyboardInterrupt",
     "evalue": "",
     "output_type": "error",
     "traceback": [
      "\u001b[0;31m---------------------------------------------------------------------------\u001b[0m",
      "\u001b[0;31mKeyboardInterrupt\u001b[0m                         Traceback (most recent call last)",
      "\u001b[0;32m/var/folders/bx/7c1x8cfn2yd7lc3x5qllnlth0000gn/T/ipykernel_844/337683905.py\u001b[0m in \u001b[0;36m<module>\u001b[0;34m\u001b[0m\n\u001b[1;32m      1\u001b[0m \u001b[0mvalues\u001b[0m \u001b[0;34m=\u001b[0m \u001b[0;34m[\u001b[0m\u001b[0;34m]\u001b[0m\u001b[0;34m\u001b[0m\u001b[0;34m\u001b[0m\u001b[0m\n\u001b[1;32m      2\u001b[0m \u001b[0;32mfor\u001b[0m \u001b[0mi\u001b[0m \u001b[0;32min\u001b[0m \u001b[0mrange\u001b[0m\u001b[0;34m(\u001b[0m\u001b[0;36m200\u001b[0m\u001b[0;34m)\u001b[0m\u001b[0;34m:\u001b[0m\u001b[0;34m\u001b[0m\u001b[0;34m\u001b[0m\u001b[0m\n\u001b[0;32m----> 3\u001b[0;31m     \u001b[0mvalues\u001b[0m\u001b[0;34m.\u001b[0m\u001b[0mappend\u001b[0m\u001b[0;34m(\u001b[0m\u001b[0mcorr_test\u001b[0m\u001b[0;34m(\u001b[0m\u001b[0mS_plus\u001b[0m\u001b[0;34m,\u001b[0m \u001b[0mS_minus\u001b[0m\u001b[0;34m,\u001b[0m \u001b[0mstate_list\u001b[0m\u001b[0;34m,\u001b[0m \u001b[0meng_list\u001b[0m\u001b[0;34m,\u001b[0m \u001b[0mn_samples_global\u001b[0m\u001b[0;34m)\u001b[0m\u001b[0;34m)\u001b[0m\u001b[0;34m\u001b[0m\u001b[0;34m\u001b[0m\u001b[0m\n\u001b[0m\u001b[1;32m      4\u001b[0m     \u001b[0mprint\u001b[0m\u001b[0;34m(\u001b[0m\u001b[0mi\u001b[0m\u001b[0;34m)\u001b[0m\u001b[0;34m\u001b[0m\u001b[0;34m\u001b[0m\u001b[0m\n",
      "\u001b[0;32m/var/folders/bx/7c1x8cfn2yd7lc3x5qllnlth0000gn/T/ipykernel_844/1681721847.py\u001b[0m in \u001b[0;36mcorr_test\u001b[0;34m(t_obver, obver, sta_list, eng_list, n_samples)\u001b[0m\n\u001b[1;32m     10\u001b[0m     \u001b[0;32mfor\u001b[0m \u001b[0mj\u001b[0m \u001b[0;32min\u001b[0m \u001b[0mrange\u001b[0m\u001b[0;34m(\u001b[0m\u001b[0mlen\u001b[0m\u001b[0;34m(\u001b[0m\u001b[0meng_list\u001b[0m\u001b[0;34m)\u001b[0m\u001b[0;34m)\u001b[0m\u001b[0;34m:\u001b[0m\u001b[0;34m\u001b[0m\u001b[0;34m\u001b[0m\u001b[0m\n\u001b[1;32m     11\u001b[0m         \u001b[0mnp\u001b[0m\u001b[0;34m.\u001b[0m\u001b[0mrandom\u001b[0m\u001b[0;34m.\u001b[0m\u001b[0mseed\u001b[0m\u001b[0;34m(\u001b[0m\u001b[0;34m)\u001b[0m\u001b[0;34m\u001b[0m\u001b[0;34m\u001b[0m\u001b[0m\n\u001b[0;32m---> 12\u001b[0;31m         \u001b[0minitial_list\u001b[0m\u001b[0;34m.\u001b[0m\u001b[0mappend\u001b[0m\u001b[0;34m(\u001b[0m\u001b[0mexpect\u001b[0m\u001b[0;34m(\u001b[0m\u001b[0mt_obver\u001b[0m\u001b[0;34m,\u001b[0m \u001b[0msta_list\u001b[0m\u001b[0;34m[\u001b[0m\u001b[0;36m0\u001b[0m\u001b[0;34m]\u001b[0m\u001b[0;34m,\u001b[0m \u001b[0msta_list\u001b[0m\u001b[0;34m[\u001b[0m\u001b[0mj\u001b[0m\u001b[0;34m]\u001b[0m\u001b[0;34m)\u001b[0m \u001b[0;34m*\u001b[0m \u001b[0mexpect\u001b[0m\u001b[0;34m(\u001b[0m\u001b[0mobver\u001b[0m\u001b[0;34m,\u001b[0m \u001b[0msta_list\u001b[0m\u001b[0;34m[\u001b[0m\u001b[0mj\u001b[0m\u001b[0;34m]\u001b[0m\u001b[0;34m,\u001b[0m \u001b[0msta_list\u001b[0m\u001b[0;34m[\u001b[0m\u001b[0;36m0\u001b[0m\u001b[0;34m]\u001b[0m\u001b[0;34m)\u001b[0m\u001b[0;34m)\u001b[0m\u001b[0;34m\u001b[0m\u001b[0;34m\u001b[0m\u001b[0m\n\u001b[0m\u001b[1;32m     13\u001b[0m \u001b[0;34m\u001b[0m\u001b[0m\n\u001b[1;32m     14\u001b[0m     \u001b[0;32mreturn\u001b[0m \u001b[0msum\u001b[0m\u001b[0;34m(\u001b[0m\u001b[0minitial_list\u001b[0m\u001b[0;34m)\u001b[0m\u001b[0;34m\u001b[0m\u001b[0;34m\u001b[0m\u001b[0m\n",
      "\u001b[0;32m/var/folders/bx/7c1x8cfn2yd7lc3x5qllnlth0000gn/T/ipykernel_844/1466204509.py\u001b[0m in \u001b[0;36mexpect\u001b[0;34m(operator, left_psi, right_psi)\u001b[0m\n\u001b[1;32m     11\u001b[0m     \u001b[0mmodel_state2\u001b[0m \u001b[0;34m=\u001b[0m \u001b[0mleft_psi\u001b[0m\u001b[0;34m.\u001b[0m\u001b[0mmodel_state\u001b[0m\u001b[0;34m\u001b[0m\u001b[0;34m\u001b[0m\u001b[0m\n\u001b[1;32m     12\u001b[0m \u001b[0;34m\u001b[0m\u001b[0m\n\u001b[0;32m---> 13\u001b[0;31m     \u001b[0mσ\u001b[0m\u001b[0;34m,\u001b[0m \u001b[0margs\u001b[0m \u001b[0;34m=\u001b[0m \u001b[0mget_local_kernel_arguments\u001b[0m\u001b[0;34m(\u001b[0m\u001b[0mleft_psi\u001b[0m\u001b[0;34m,\u001b[0m \u001b[0moperator\u001b[0m\u001b[0;34m)\u001b[0m\u001b[0;34m\u001b[0m\u001b[0;34m\u001b[0m\u001b[0m\n\u001b[0m\u001b[1;32m     14\u001b[0m \u001b[0;34m\u001b[0m\u001b[0m\n\u001b[1;32m     15\u001b[0m     \u001b[0mσ_shape\u001b[0m \u001b[0;34m=\u001b[0m \u001b[0mσ\u001b[0m\u001b[0;34m.\u001b[0m\u001b[0mshape\u001b[0m\u001b[0;34m\u001b[0m\u001b[0;34m\u001b[0m\u001b[0m\n",
      "\u001b[0;32m/var/folders/bx/7c1x8cfn2yd7lc3x5qllnlth0000gn/T/ipykernel_844/444605656.py\u001b[0m in \u001b[0;36mget_local_kernel_arguments\u001b[0;34m(vstate, Ô)\u001b[0m\n\u001b[1;32m     35\u001b[0m     \u001b[0mcheck_hilbert\u001b[0m\u001b[0;34m(\u001b[0m\u001b[0mvstate\u001b[0m\u001b[0;34m.\u001b[0m\u001b[0mhilbert\u001b[0m\u001b[0;34m,\u001b[0m \u001b[0mÔ\u001b[0m\u001b[0;34m.\u001b[0m\u001b[0mhilbert\u001b[0m\u001b[0;34m)\u001b[0m\u001b[0;34m\u001b[0m\u001b[0;34m\u001b[0m\u001b[0m\n\u001b[1;32m     36\u001b[0m \u001b[0;34m\u001b[0m\u001b[0m\n\u001b[0;32m---> 37\u001b[0;31m     \u001b[0mσ\u001b[0m \u001b[0;34m=\u001b[0m \u001b[0mvstate\u001b[0m\u001b[0;34m.\u001b[0m\u001b[0msamples\u001b[0m\u001b[0;34m\u001b[0m\u001b[0;34m\u001b[0m\u001b[0m\n\u001b[0m\u001b[1;32m     38\u001b[0m     \u001b[0mσp\u001b[0m\u001b[0;34m,\u001b[0m \u001b[0mmels\u001b[0m \u001b[0;34m=\u001b[0m \u001b[0mÔ\u001b[0m\u001b[0;34m.\u001b[0m\u001b[0mget_conn_padded\u001b[0m\u001b[0;34m(\u001b[0m\u001b[0mσ\u001b[0m\u001b[0;34m)\u001b[0m\u001b[0;34m\u001b[0m\u001b[0;34m\u001b[0m\u001b[0m\n\u001b[1;32m     39\u001b[0m \u001b[0;34m\u001b[0m\u001b[0m\n",
      "\u001b[0;32m~/opt/miniconda3/lib/python3.8/site-packages/netket/vqs/mc/mc_state/state.py\u001b[0m in \u001b[0;36msamples\u001b[0;34m(self)\u001b[0m\n\u001b[1;32m    533\u001b[0m         \"\"\"\n\u001b[1;32m    534\u001b[0m         \u001b[0;32mif\u001b[0m \u001b[0mself\u001b[0m\u001b[0;34m.\u001b[0m\u001b[0m_samples\u001b[0m \u001b[0;32mis\u001b[0m \u001b[0;32mNone\u001b[0m\u001b[0;34m:\u001b[0m\u001b[0;34m\u001b[0m\u001b[0;34m\u001b[0m\u001b[0m\n\u001b[0;32m--> 535\u001b[0;31m             \u001b[0mself\u001b[0m\u001b[0;34m.\u001b[0m\u001b[0msample\u001b[0m\u001b[0;34m(\u001b[0m\u001b[0;34m)\u001b[0m\u001b[0;34m\u001b[0m\u001b[0;34m\u001b[0m\u001b[0m\n\u001b[0m\u001b[1;32m    536\u001b[0m         \u001b[0;32mreturn\u001b[0m \u001b[0mself\u001b[0m\u001b[0;34m.\u001b[0m\u001b[0m_samples\u001b[0m\u001b[0;34m\u001b[0m\u001b[0;34m\u001b[0m\u001b[0m\n\u001b[1;32m    537\u001b[0m \u001b[0;34m\u001b[0m\u001b[0m\n",
      "\u001b[0;32m~/opt/miniconda3/lib/python3.8/site-packages/netket/vqs/mc/mc_state/state.py\u001b[0m in \u001b[0;36msample\u001b[0;34m(self, chain_length, n_samples, n_discard_per_chain)\u001b[0m\n\u001b[1;32m    513\u001b[0m             )\n\u001b[1;32m    514\u001b[0m \u001b[0;34m\u001b[0m\u001b[0m\n\u001b[0;32m--> 515\u001b[0;31m         self._samples, self.sampler_state = self.sampler.sample(\n\u001b[0m\u001b[1;32m    516\u001b[0m             \u001b[0mself\u001b[0m\u001b[0;34m.\u001b[0m\u001b[0mmodel\u001b[0m\u001b[0;34m,\u001b[0m\u001b[0;34m\u001b[0m\u001b[0;34m\u001b[0m\u001b[0m\n\u001b[1;32m    517\u001b[0m             \u001b[0mself\u001b[0m\u001b[0;34m.\u001b[0m\u001b[0mvariables\u001b[0m\u001b[0;34m,\u001b[0m\u001b[0;34m\u001b[0m\u001b[0;34m\u001b[0m\u001b[0m\n",
      "\u001b[0;32m~/opt/miniconda3/lib/python3.8/site-packages/netket/sampler/base.py\u001b[0m in \u001b[0;36msample\u001b[0;34m(sampler, machine, parameters, state, chain_length)\u001b[0m\n\u001b[1;32m    261\u001b[0m             \u001b[0mstate\u001b[0m \u001b[0;34m=\u001b[0m \u001b[0msampler\u001b[0m\u001b[0;34m.\u001b[0m\u001b[0mreset\u001b[0m\u001b[0;34m(\u001b[0m\u001b[0mmachine\u001b[0m\u001b[0;34m,\u001b[0m \u001b[0mparameters\u001b[0m\u001b[0;34m)\u001b[0m\u001b[0;34m\u001b[0m\u001b[0;34m\u001b[0m\u001b[0m\n\u001b[1;32m    262\u001b[0m \u001b[0;34m\u001b[0m\u001b[0m\n\u001b[0;32m--> 263\u001b[0;31m         return sampler._sample_chain(\n\u001b[0m\u001b[1;32m    264\u001b[0m             \u001b[0mwrap_afun\u001b[0m\u001b[0;34m(\u001b[0m\u001b[0mmachine\u001b[0m\u001b[0;34m)\u001b[0m\u001b[0;34m,\u001b[0m \u001b[0mparameters\u001b[0m\u001b[0;34m,\u001b[0m \u001b[0mstate\u001b[0m\u001b[0;34m,\u001b[0m \u001b[0mchain_length\u001b[0m\u001b[0;34m\u001b[0m\u001b[0;34m\u001b[0m\u001b[0m\n\u001b[1;32m    265\u001b[0m         )\n",
      "\u001b[0;32m~/opt/miniconda3/lib/python3.8/site-packages/netket/sampler/metropolis.py\u001b[0m in \u001b[0;36m_sample_chain\u001b[0;34m(sampler, machine, parameters, state, chain_length)\u001b[0m\n\u001b[1;32m    391\u001b[0m \u001b[0;34m\u001b[0m\u001b[0m\n\u001b[1;32m    392\u001b[0m     \u001b[0;32mdef\u001b[0m \u001b[0m_sample_chain\u001b[0m\u001b[0;34m(\u001b[0m\u001b[0msampler\u001b[0m\u001b[0;34m,\u001b[0m \u001b[0mmachine\u001b[0m\u001b[0;34m,\u001b[0m \u001b[0mparameters\u001b[0m\u001b[0;34m,\u001b[0m \u001b[0mstate\u001b[0m\u001b[0;34m,\u001b[0m \u001b[0mchain_length\u001b[0m\u001b[0;34m)\u001b[0m\u001b[0;34m:\u001b[0m\u001b[0;34m\u001b[0m\u001b[0;34m\u001b[0m\u001b[0m\n\u001b[0;32m--> 393\u001b[0;31m         \u001b[0;32mreturn\u001b[0m \u001b[0m_sample_chain\u001b[0m\u001b[0;34m(\u001b[0m\u001b[0msampler\u001b[0m\u001b[0;34m,\u001b[0m \u001b[0mmachine\u001b[0m\u001b[0;34m,\u001b[0m \u001b[0mparameters\u001b[0m\u001b[0;34m,\u001b[0m \u001b[0mstate\u001b[0m\u001b[0;34m,\u001b[0m \u001b[0mchain_length\u001b[0m\u001b[0;34m)\u001b[0m\u001b[0;34m\u001b[0m\u001b[0;34m\u001b[0m\u001b[0m\n\u001b[0m\u001b[1;32m    394\u001b[0m \u001b[0;34m\u001b[0m\u001b[0m\n\u001b[1;32m    395\u001b[0m     \u001b[0;32mdef\u001b[0m \u001b[0m__repr__\u001b[0m\u001b[0;34m(\u001b[0m\u001b[0msampler\u001b[0m\u001b[0;34m)\u001b[0m\u001b[0;34m:\u001b[0m\u001b[0;34m\u001b[0m\u001b[0;34m\u001b[0m\u001b[0m\n",
      "\u001b[0;32m~/opt/miniconda3/lib/python3.8/site-packages/netket/utils/struct/dataclass.py\u001b[0m in \u001b[0;36mclz_from_iterable\u001b[0;34m(meta, data)\u001b[0m\n\u001b[1;32m    446\u001b[0m         \u001b[0;32mreturn\u001b[0m \u001b[0mdata\u001b[0m\u001b[0;34m,\u001b[0m \u001b[0mmeta\u001b[0m\u001b[0;34m\u001b[0m\u001b[0;34m\u001b[0m\u001b[0m\n\u001b[1;32m    447\u001b[0m \u001b[0;34m\u001b[0m\u001b[0m\n\u001b[0;32m--> 448\u001b[0;31m     \u001b[0;32mdef\u001b[0m \u001b[0mclz_from_iterable\u001b[0m\u001b[0;34m(\u001b[0m\u001b[0mmeta\u001b[0m\u001b[0;34m,\u001b[0m \u001b[0mdata\u001b[0m\u001b[0;34m)\u001b[0m\u001b[0;34m:\u001b[0m\u001b[0;34m\u001b[0m\u001b[0;34m\u001b[0m\u001b[0m\n\u001b[0m\u001b[1;32m    449\u001b[0m         \u001b[0mmeta_args\u001b[0m \u001b[0;34m=\u001b[0m \u001b[0mtuple\u001b[0m\u001b[0;34m(\u001b[0m\u001b[0mzip\u001b[0m\u001b[0;34m(\u001b[0m\u001b[0mmeta_fields\u001b[0m\u001b[0;34m,\u001b[0m \u001b[0mmeta\u001b[0m\u001b[0;34m)\u001b[0m\u001b[0;34m)\u001b[0m\u001b[0;34m\u001b[0m\u001b[0;34m\u001b[0m\u001b[0m\n\u001b[1;32m    450\u001b[0m         \u001b[0mdata_args\u001b[0m \u001b[0;34m=\u001b[0m \u001b[0mtuple\u001b[0m\u001b[0;34m(\u001b[0m\u001b[0mzip\u001b[0m\u001b[0;34m(\u001b[0m\u001b[0mdata_fields\u001b[0m\u001b[0;34m,\u001b[0m \u001b[0mdata\u001b[0m\u001b[0;34m)\u001b[0m\u001b[0;34m)\u001b[0m\u001b[0;34m\u001b[0m\u001b[0;34m\u001b[0m\u001b[0m\n",
      "\u001b[0;31mKeyboardInterrupt\u001b[0m: "
     ]
    }
   ],
   "source": [
    "values = []\n",
    "for i in range(200):\n",
    "    values.append(corr_test(S_plus, S_minus, state_list, eng_list, n_samples_global))\n",
    "    print(i)"
   ]
  },
  {
   "cell_type": "code",
   "execution_count": 65,
   "id": "ede06967",
   "metadata": {},
   "outputs": [],
   "source": [
    "#let's get the exact value\n",
    "dense_sta = []\n",
    "for i in range(len(state_list)):\n",
    "    dense_sta.append(state_list[i].to_array())\n",
    "\n",
    "\n"
   ]
  },
  {
   "cell_type": "code",
   "execution_count": 66,
   "id": "2cedab9d",
   "metadata": {},
   "outputs": [],
   "source": [
    "def expected_2(A, bra, ket):\n",
    "        \n",
    "    expectation = np.dot(np.conj(bra).T, np.matmul(A, ket) )\n",
    "    return expectation\n",
    "\n",
    "#evolve correlation function\n",
    "def dense_corr_test(t_obver, obver, sta_list, eng_list, N):\n",
    "\n",
    "    sumed = 0.0\n",
    "    for j in range(len(eng_list)):\n",
    "        sumed += expected_2(t_obver, sta_list[0], sta_list[j]) * expected_2(obver, sta_list[j], sta_list[0])\n",
    "        \n",
    "            \n",
    "    return sumed\n",
    "\n",
    "#construct the S+0 and S-0 operators of interest\n",
    "def S0_p(N):\n",
    "    S0_p = []\n",
    "    si = qeye(2)\n",
    "    op_list = []\n",
    "    for m in range(N):     \n",
    "        op_list.append(si)\n",
    "    op_list[0] = sigmap()\n",
    "    S0_p.append(tensor(op_list))\n",
    "    \n",
    "    return S0_p[0]\n",
    "\n",
    "def S0_m(N):\n",
    "    S0_m = []\n",
    "    si = qeye(2)\n",
    "    op_list = []\n",
    "    for m in range(N):     \n",
    "        op_list.append(si)\n",
    "    op_list[0] = sigmam()\n",
    "    S0_m.append(tensor(op_list))\n",
    "    \n",
    "    return S0_m[0]\n",
    "\n",
    "obver_p = np.array(S0_p(N))\n",
    "obver_m = np.array(S0_m(N))\n",
    "\n",
    "dense_exact = dense_corr_test(obver_p, obver_m, dense_sta, eng_list,N)"
   ]
  },
  {
   "cell_type": "code",
   "execution_count": 12,
   "id": "1dd6669d",
   "metadata": {},
   "outputs": [
    {
     "name": "stdout",
     "output_type": "stream",
     "text": [
      "0.005281556424714902\n"
     ]
    }
   ],
   "source": [
    "sample_num = [10000, 50000, 80000, 200000, 500000, 1000000]\n",
    "std_list = [0.02751489, 0.01650319, 0.0145848969, 0.009985829, 0.0055581974, 0.003794121408788649]\n",
    "print(np.std(np.real(values), ddof=1))"
   ]
  },
  {
   "cell_type": "code",
   "execution_count": 70,
   "id": "7bfd51b9",
   "metadata": {},
   "outputs": [
    {
     "data": {
      "image/png": "[encoded data removed]",
      "text/plain": [
       "<Figure size 800x550 with 1 Axes>"
      ]
     },
     "metadata": {},
     "output_type": "display_data"
    }
   ],
   "source": [
    "mean = np.mean(np.real(values))\n",
    "bins = np.arange(0, 0.1, 0.005)\n",
    "plt.hist(np.real(values), bins=bins,label = 'RBM expectation values, 500000 samples')\n",
    "#plt.vlines(e[0], 0, 1100, color = 'r', label = 'Exact expectation value')\n",
    "plt.vlines(np.mean(np.real(values)), 0, 50, color = 'r', label = 'Mean rbm expectation value')\n",
    "plt.vlines(np.real(dense_exact), 0, 50, color = 'y', label = 'Exact(dense) expectation value')\n",
    "plt.vlines(mean + np.std(values, ddof=1), 0, 50, color = 'r', linestyle = 'dotted', label = 'Standard Deviation')\n",
    "plt.vlines(mean - np.std(values, ddof=1), 0, 50, color = 'r', linestyle = 'dotted')\n",
    "plt.xlabel('initial correlation function (real part)')\n",
    "plt.legend()\n",
    "plt.show()"
   ]
  },
  {
   "cell_type": "code",
   "execution_count": 71,
   "id": "354fa88b",
   "metadata": {},
   "outputs": [
    {
     "name": "stdout",
     "output_type": "stream",
     "text": [
      "(0.03886170704827956-2.4433867326048636e-06j)\n"
     ]
    }
   ],
   "source": [
    "print(np.mean(values))"
   ]
  },
  {
   "cell_type": "code",
   "execution_count": 72,
   "id": "dc388139",
   "metadata": {},
   "outputs": [
    {
     "name": "stdout",
     "output_type": "stream",
     "text": [
      "[0.0003396691521699857, 0.0002254213850574338, 0.00048063629406458475, 0.0008225409257508476]\n",
      "[0.0005399309121612017, 0.00026297600473013105, 0.0021841179126118604, 0.0007484355075053628]\n"
     ]
    }
   ],
   "source": [
    "#we benchmark the energy and state errors\n",
    "print(state_error(dense_sta, v,N))\n",
    "print(eng_error(eng_list, e))"
   ]
  },
  {
   "cell_type": "code",
   "execution_count": 14,
   "id": "8c6b3c41",
   "metadata": {},
   "outputs": [
    {
     "data": {
      "text/plain": [
       "Text(0, 0.5, 'standard deviation')"
      ]
     },
     "execution_count": 14,
     "metadata": {},
     "output_type": "execute_result"
    },
    {
     "data": {
      "image/png": "[encoded data removed]",
      "text/plain": [
       "<Figure size 800x550 with 1 Axes>"
      ]
     },
     "metadata": {},
     "output_type": "display_data"
    }
   ],
   "source": [
    "plt.plot(sample_num, std_list)\n",
    "plt.xlabel('number of samples')\n",
    "plt.ylabel('standard deviation')"
   ]
  },
  {
   "cell_type": "code",
   "execution_count": 30,
   "id": "08db4243",
   "metadata": {},
   "outputs": [],
   "source": [
    "def func(x, a, b,c):\n",
    "     return a * x**(-b)+c\n",
    "\n",
    "from scipy.optimize import curve_fit\n",
    "popt, pcov = curve_fit(func, sample_num, std_list, p0 = [3,0.5,0])"
   ]
  },
  {
   "cell_type": "code",
   "execution_count": 36,
   "id": "812b87d9",
   "metadata": {},
   "outputs": [
    {
     "name": "stdout",
     "output_type": "stream",
     "text": [
      "[ 0.22244908  0.17964185 -0.0150313 ] [[1.43999448e-03 1.13465938e-03 1.78491350e-04]\n",
      " [1.13465938e-03 9.08796392e-04 1.45315909e-04]\n",
      " [1.78491350e-04 1.45315909e-04 2.36356553e-05]]\n",
      "[0.03794726 0.03014625 0.00486165]\n"
     ]
    }
   ],
   "source": [
    "print(popt,pcov)\n",
    "perr = np.sqrt(np.diag(pcov))\n",
    "print(perr)"
   ]
  },
  {
   "cell_type": "code",
   "execution_count": 35,
   "id": "b529c9f0",
   "metadata": {},
   "outputs": [
    {
     "data": {
      "text/plain": [
       "<matplotlib.legend.Legend at 0x7fb25001e9d0>"
      ]
     },
     "execution_count": 35,
     "metadata": {},
     "output_type": "execute_result"
    },
    {
     "data": {
      "image/png": "[encoded data removed]",
      "text/plain": [
       "<Figure size 800x550 with 1 Axes>"
      ]
     },
     "metadata": {},
     "output_type": "display_data"
    }
   ],
   "source": [
    "xdata = np.linspace(10000, 10**6, 1000)\n",
    "plt.plot(xdata, func(xdata, *popt), label = 'best fit curve')\n",
    "plt.plot(sample_num, std_list,'r.', label = 'sample points')\n",
    "plt.hlines(0.004, 0, 10**6,'g', label = '10% relative error, 0.004')\n",
    "plt.xlabel('number of samples')\n",
    "plt.ylabel('standard deviation')\n",
    "plt.legend()"
   ]
  },
  {
   "cell_type": "code",
   "execution_count": null,
   "id": "9c2d30c4",
   "metadata": {},
   "outputs": [],
   "source": []
  }
 ],
 "metadata": {
  "kernelspec": {
   "display_name": "Python 3 (ipykernel)",
   "language": "python",
   "name": "python3"
  },
  "language_info": {
   "codemirror_mode": {
    "name": "ipython",
    "version": 3
   },
   "file_extension": ".py",
   "mimetype": "text/x-python",
   "name": "python",
   "nbconvert_exporter": "python",
   "pygments_lexer": "ipython3",
   "version": "3.8.10"
  }
 },
 "nbformat": 4,
 "nbformat_minor": 5
}
