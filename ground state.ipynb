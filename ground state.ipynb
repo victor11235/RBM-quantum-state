{
 "cells": [
  {
   "cell_type": "code",
   "execution_count": 1,
   "id": "d4adee6a",
   "metadata": {},
   "outputs": [],
   "source": [
    "import netket as nk\n",
    "import json\n",
    "from qutip import *\n",
    "import numpy as np\n",
    "import time\n",
    "import multiprocessing as mp\n",
    "from collections import OrderedDict\n",
    "from pickle import dump\n",
    "import os\n",
    "import matplotlib.pyplot as plt\n",
    "import scipy\n",
    "from matplotlib import gridspec\n",
    "from functools import reduce\n",
    "plt.style.use('seaborn')\n",
    "from scipy.stats import norm"
   ]
  },
  {
   "cell_type": "code",
   "execution_count": 2,
   "id": "f8ac0b40",
   "metadata": {},
   "outputs": [],
   "source": [
    "def CSHam(N, B, Ak):\n",
    "    # Make graph with of length N with no periodic boundary conditions\n",
    "    g = nk.graph.Hypercube(length=N, n_dim=1, pbc=False)\n",
    "    # Spin based Hilbert Space\n",
    "    hilbertSpace = nk.hilbert.Spin(s=0.5, N=g.n_nodes)\n",
    "    # Define spin operators with \\hbar set to 1\n",
    "    sz = 0.5 * np.array([[1, 0], [0, -1]])\n",
    "    sx = 0.5 * np.array([[0, 1], [1, 0]])\n",
    "    sy = 0.5 * np.array([[0, -1j], [1j, 0]])\n",
    "    operators = []\n",
    "    sites = []\n",
    "    # Central spin term\n",
    "    operators.append((B * sz).tolist()) #array to list(ordered and changeable)\n",
    "    sites.append([0])\n",
    "    # Interaction term\n",
    "    itOp = np.kron(sz, sz) + np.kron(sx, sx) + np.kron(sy, sy) #kronecker product here\n",
    "    for i in range(N - 1):\n",
    "        operators.append((Ak[i] * itOp).tolist())\n",
    "        sites.append([0, (i+1)])  #pretty convoluted indexing, but ok\n",
    "    # Create hamiltonian\n",
    "    hamiltonian = nk.operator.LocalOperator(hilbertSpace, operators=operators, acting_on=sites, dtype=complex)\n",
    "    #acting_on specifier necessary as this is a central spin model\n",
    "    return hamiltonian, hilbertSpace"
   ]
  },
  {
   "cell_type": "code",
   "execution_count": 3,
   "id": "12a0b126",
   "metadata": {},
   "outputs": [],
   "source": [
    "\n",
    "def exactDiagonalization(hamiltonian):\n",
    "    # Changes Hamiltonian to matrix form, where hamiltonian of interest is sparse in matrix form\n",
    "    #haMatrix = hamiltonian.to_sparse()\n",
    "    # Gets eigenvalues and vectors, where the built-in function uses \n",
    "    eigenValues, v = nk.exact.lanczos_ed(hamiltonian, compute_eigenvectors=True)\n",
    "\n",
    "    # Orders from smallest to largest\n",
    "    eigenVectors = [v[:, i] for i in range(len(eigenValues))]\n",
    "    return eigenValues, eigenVectors\n"
   ]
  },
  {
   "cell_type": "code",
   "execution_count": 4,
   "id": "c516acbd",
   "metadata": {},
   "outputs": [],
   "source": [
    "# NetKet RBM with stochastic reconfiguration descent\n",
    "class RBM:\n",
    "    def __init__(self, N, hamiltonian, hilbertSpace, machine):\n",
    "        # Assign inputsv[:, i]\n",
    "        self.hamiltonian, self.hilbertSpace, self.machine, self.N = hamiltonian, hilbertSpace, machine, N\n",
    "        # Define sampler\n",
    "        self.sampler = nk.sampler.MetropolisLocal(hilbert=hilbertSpace)\n",
    "        # Define optimizer\n",
    "        self.optimizer = nk.optimizer.Sgd(learning_rate=0.05)\n",
    "        # Define Stochastic reconfiguration\n",
    "        self.sr = nk.optimizer.SR(diag_shift=0.5) #diagnol shift, its role as regularizer? seems to take a different form as \n",
    "        #compared to the version I have seen\n",
    "        # Variational state\n",
    "        self.vs = nk.variational.MCState(self.sampler, self.machine, n_samples=1000, n_discard=100) #discarded number of samples \n",
    "        #at the beginning of the MC chain\n",
    "\n",
    "    # Output is the name of the output file in which the descent data is stored\n",
    "    def __call__(self, output):\n",
    "        self.vs.init_parameters(nk.nn.initializers.normal(stddev=0.25))\n",
    "        gs = nk.VMC(hamiltonian=self.hamiltonian, optimizer=self.optimizer, variational_state=self.vs, sr=self.sr)\n",
    "        # Start timing\n",
    "        start = time.time()\n",
    "        # Set the output files as well as number of iterations in the descent\n",
    "        gs.run(out=output, n_iter=1000)\n",
    "        end = time.time()\n",
    "        runTime = end - start\n",
    "        # Import the data from log file\n",
    "        data = json.load(open(output + '.log'))\n",
    "        # Extract the relevant information\n",
    "        # iters = data[\"Energy\"][\"iters\"]\n",
    "        energy_RBM = data[\"Energy\"][\"Mean\"][\"real\"] #get the real part of the mean energy\n",
    "       \n",
    "        # finalEng = energy_RBM[-1]\n",
    "        finalEng = reduce(lambda x, y: x if y is None else y, energy_RBM)\n",
    "        # Get machine statethe state of the machine as an array\n",
    "        state = self.vs.to_array()\n",
    "        # Outputs the final energy, the final state, and the runtime\n",
    "        return finalEng, state, runTime"
   ]
  },
  {
   "cell_type": "code",
   "execution_count": 5,
   "id": "3f18f593",
   "metadata": {},
   "outputs": [],
   "source": [
    "# Error Calculation (Input: the found state, the state from exact diagonalization, the found energy, the energy from exact diagonalization)\n",
    "def err(state, edState, eng, edEng,N):\n",
    "    engErr = np.abs(eng - edEng)\n",
    "    overlap = np.dot(state.conj().reshape(2**N, 1).T, edState.reshape(2**N, 1))\n",
    "    waveFunctionErr = 1 - (np.linalg.norm(overlap))**2\n",
    "    return engErr, waveFunctionErr\n",
    "\n",
    "\n",
    "# Combines all steps into a function to run on the cluster\n",
    "def runDescentCS(N,B,Ak,alpha):\n",
    "    # Define hamiltonian and hibert space (need to do this here cause can't use netket objects as input to use multiprocessing functions)\n",
    "    ha, hi = CSHam(N,B,Ak)\n",
    "    # RBM Spin Machine\n",
    "    ma = nk.models.RBM(alpha=1, dtype=complex,use_visible_bias=True, use_hidden_bias=True)\n",
    "    # Initialize RBM\n",
    "    rbm = RBM(N, ha, hi, ma) #an instance of class RBM\n",
    "    # Run RBM\n",
    "    eng, state, runTime = rbm(\"2021_summer_data/Logs\"+str(N)) #where _call_ will be invoked\n",
    "    return eng, state, runTime"
   ]
  },
  {
   "cell_type": "code",
   "execution_count": 29,
   "id": "b829dce4",
   "metadata": {},
   "outputs": [
    {
     "name": "stderr",
     "output_type": "stream",
     "text": [
      "100%|██████████| 1000/1000 [00:05<00:00, 168.29it/s, Energy=-9.397e-01+1.844e-08j ± 7.011e-09 [σ²=4.954e-14, R̂=1.4086]]   \n",
      "  3%|▎         | 28/1000 [00:00<00:03, 261.90it/s, Energy=-0.043+0.013j ± 0.018 [σ²=0.329, R̂=1.0011]]"
     ]
    },
    {
     "name": "stdout",
     "output_type": "stream",
     "text": [
      "Eng error  [9.198141359689771e-09]\n",
      "State error  [2.3946458225565515e-05]\n"
     ]
    },
    {
     "name": "stderr",
     "output_type": "stream",
     "text": [
      "100%|██████████| 1000/1000 [00:05<00:00, 168.87it/s, Energy=-0.93964801+0.00000548j ± 0.00000077 [σ²=0.00000000, R̂=1.4086]]\n",
      "  3%|▎         | 29/1000 [00:00<00:03, 285.00it/s, Energy=-0.535+0.003j ± 0.010 [σ²=0.104, R̂=0.9967]]    "
     ]
    },
    {
     "name": "stdout",
     "output_type": "stream",
     "text": [
      "Eng error  [9.198141359689771e-09, 7.699709383302e-06]\n",
      "State error  [2.3946458225565515e-05, 4.2001195967311666e-05]\n"
     ]
    },
    {
     "name": "stderr",
     "output_type": "stream",
     "text": [
      "100%|██████████| 1000/1000 [00:05<00:00, 171.26it/s, Energy=-9.397e-01-2.398e-07j ± 1.989e-08 [σ²=3.987e-13, R̂=1.4086]]   \n",
      "  3%|▎         | 29/1000 [00:00<00:03, 285.53it/s, Energy=-0.2802-0.0003j ± 0.0096 [σ²=0.0929, R̂=1.0018]]"
     ]
    },
    {
     "name": "stdout",
     "output_type": "stream",
     "text": [
      "Eng error  [9.198141359689771e-09, 7.699709383302e-06, 3.877954313225018e-08]\n",
      "State error  [2.3946458225565515e-05, 4.2001195967311666e-05, 3.5362229591329175e-05]\n"
     ]
    },
    {
     "name": "stderr",
     "output_type": "stream",
     "text": [
      "100%|██████████| 1000/1000 [00:05<00:00, 172.11it/s, Energy=-9.397e-01-1.699e-08j ± 2.102e-08 [σ²=4.453e-13, R̂=1.4086]]    \n",
      "  3%|▎         | 27/1000 [00:00<00:03, 259.34it/s, Energy=-0.608+0.001j ± 0.014 [σ²=0.184, R̂=1.0030]]"
     ]
    },
    {
     "name": "stdout",
     "output_type": "stream",
     "text": [
      "Eng error  [9.198141359689771e-09, 7.699709383302e-06, 3.877954313225018e-08, 5.177794881738862e-08]\n",
      "State error  [2.3946458225565515e-05, 4.2001195967311666e-05, 3.5362229591329175e-05, 7.479422061518193e-05]\n"
     ]
    },
    {
     "name": "stderr",
     "output_type": "stream",
     "text": [
      "100%|██████████| 1000/1000 [00:06<00:00, 164.66it/s, Energy=-9.397e-01+8.747e-08j ± 7.329e-09 [σ²=5.415e-14, R̂=1.4086]]   \n",
      "  2%|▏         | 17/1000 [00:00<00:05, 168.54it/s, Energy=-0.550-0.020j ± 0.023 [σ²=0.550, R̂=1.0033]]"
     ]
    },
    {
     "name": "stdout",
     "output_type": "stream",
     "text": [
      "Eng error  [9.198141359689771e-09, 7.699709383302e-06, 3.877954313225018e-08, 5.177794881738862e-08, 1.9041500043393e-08]\n",
      "State error  [2.3946458225565515e-05, 4.2001195967311666e-05, 3.5362229591329175e-05, 7.479422061518193e-05, 5.6820876029872736e-05]\n",
      "SAVED\n"
     ]
    },
    {
     "name": "stderr",
     "output_type": "stream",
     "text": [
      "100%|██████████| 1000/1000 [00:09<00:00, 104.04it/s, Energy=-1.26239-0.00003j ± 0.00032 [σ²=0.00010, R̂=1.0010]]           \n",
      "  2%|▏         | 18/1000 [00:00<00:06, 163.64it/s, Energy=-0.330-0.026j ± 0.021 [σ²=0.452, R̂=1.0038]]"
     ]
    },
    {
     "name": "stdout",
     "output_type": "stream",
     "text": [
      "Eng error  [0.0003383776446814757]\n",
      "State error  [0.0003852489630211675]\n"
     ]
    },
    {
     "name": "stderr",
     "output_type": "stream",
     "text": [
      "100%|██████████| 1000/1000 [00:08<00:00, 111.63it/s, Energy=-1.26115+0.00060j ± 0.00098 [σ²=0.00096, R̂=1.0040]]           \n",
      "  2%|▏         | 19/1000 [00:00<00:05, 182.24it/s, Energy=-0.130-0.049j ± 0.026 [σ²=0.663, R̂=0.9999]]"
     ]
    },
    {
     "name": "stdout",
     "output_type": "stream",
     "text": [
      "Eng error  [0.0003383776446814757, 0.0015849598514265928]\n",
      "State error  [0.0003852489630211675, 0.0002999298698016517]\n"
     ]
    },
    {
     "name": "stderr",
     "output_type": "stream",
     "text": [
      "100%|██████████| 1000/1000 [00:09<00:00, 109.92it/s, Energy=-1.2615+0.0000j ± 0.0013 [σ²=0.0016, R̂=0.9995]]               \n",
      "  2%|▏         | 17/1000 [00:00<00:05, 168.43it/s, Energy=-0.448-0.036j ± 0.029 [σ²=0.866, R̂=1.0028]]"
     ]
    },
    {
     "name": "stdout",
     "output_type": "stream",
     "text": [
      "Eng error  [0.0003383776446814757, 0.0015849598514265928, 0.0012764272499314888]\n",
      "State error  [0.0003852489630211675, 0.0002999298698016517, 0.0002684507926273838]\n"
     ]
    },
    {
     "name": "stderr",
     "output_type": "stream",
     "text": [
      "100%|██████████| 1000/1000 [00:08<00:00, 111.49it/s, Energy=-1.2627168-0.0000079j ± 0.0000093 [σ²=0.0000001, R̂=1.4086]]   \n",
      "  2%|▏         | 17/1000 [00:00<00:05, 164.66it/s, Energy=-0.046+0.002j ± 0.020 [σ²=0.397, R̂=1.0015]]"
     ]
    },
    {
     "name": "stdout",
     "output_type": "stream",
     "text": [
      "Eng error  [0.0003383776446814757, 0.0015849598514265928, 0.0012764272499314888, 1.464219132030209e-05]\n",
      "State error  [0.0003852489630211675, 0.0002999298698016517, 0.0002684507926273838, 0.00020074543146342272]\n"
     ]
    },
    {
     "name": "stderr",
     "output_type": "stream",
     "text": [
      "100%|██████████| 1000/1000 [00:09<00:00, 110.97it/s, Energy=-1.263e+00-1.079e-08j ± 1.437e-08 [σ²=2.081e-13, R̂=1.4086]]     \n"
     ]
    },
    {
     "name": "stdout",
     "output_type": "stream",
     "text": [
      "Eng error  [0.0003383776446814757, 0.0015849598514265928, 0.0012764272499314888, 1.464219132030209e-05, 1.444461306121525e-08]\n",
      "State error  [0.0003852489630211675, 0.0002999298698016517, 0.0002684507926273838, 0.00020074543146342272, 0.000169724228114565]\n",
      "SAVED\n"
     ]
    },
    {
     "name": "stderr",
     "output_type": "stream",
     "text": [
      "100%|██████████| 1000/1000 [00:14<00:00, 66.99it/s, Energy=-1.554e+00+2.473e-04j ± 1.399e-17 [σ²=1.972e-31, R̂=1.1109]]\n",
      "  1%|▏         | 13/1000 [00:00<00:07, 123.80it/s, Energy=-0.357+0.014j ± 0.017 [σ²=0.282, R̂=1.0035]]"
     ]
    },
    {
     "name": "stdout",
     "output_type": "stream",
     "text": [
      "Eng error  [1.3242834995708108e-05]\n",
      "State error  [0.0009432127189203943]\n"
     ]
    },
    {
     "name": "stderr",
     "output_type": "stream",
     "text": [
      "100%|██████████| 1000/1000 [00:13<00:00, 72.76it/s, Energy=-1.554033+0.000320j ± 0.000016 [σ²=0.000000, R̂=1.2096]]   \n",
      "  1%|▏         | 13/1000 [00:00<00:08, 122.10it/s, Energy=-0.647+0.032j ± 0.020 [σ²=0.422, R̂=0.9985]]"
     ]
    },
    {
     "name": "stdout",
     "output_type": "stream",
     "text": [
      "Eng error  [1.3242834995708108e-05, 4.75991052655278e-05]\n",
      "State error  [0.0009432127189203943, 0.0008716403642670123]\n"
     ]
    },
    {
     "name": "stderr",
     "output_type": "stream",
     "text": [
      "100%|██████████| 1000/1000 [00:12<00:00, 80.18it/s, Energy=-1.5485+0.0000j ± 0.0039 [σ²=0.0153, R̂=0.9994]]               \n",
      "  1%|          | 12/1000 [00:00<00:09, 109.07it/s, Energy=-0.205+0.007j ± 0.032 [σ²=1.035, R̂=1.0001]]"
     ]
    },
    {
     "name": "stdout",
     "output_type": "stream",
     "text": [
      "Eng error  [1.3242834995708108e-05, 4.75991052655278e-05, 0.005558570600768142]\n",
      "State error  [0.0009432127189203943, 0.0008716403642670123, 0.001570333351601727]\n"
     ]
    },
    {
     "name": "stderr",
     "output_type": "stream",
     "text": [
      "100%|██████████| 1000/1000 [00:12<00:00, 81.35it/s, Energy=-1.5513+0.0001j ± 0.0028 [σ²=0.0077, R̂=0.9994]]           \n",
      "  1%|▏         | 13/1000 [00:00<00:08, 122.13it/s, Energy=0.458-0.008j ± 0.022 [σ²=0.480, R̂=1.0000]]"
     ]
    },
    {
     "name": "stdout",
     "output_type": "stream",
     "text": [
      "Eng error  [1.3242834995708108e-05, 4.75991052655278e-05, 0.005558570600768142, 0.0028200796156505614]\n",
      "State error  [0.0009432127189203943, 0.0008716403642670123, 0.001570333351601727, 0.0004811939692257461]\n"
     ]
    },
    {
     "name": "stderr",
     "output_type": "stream",
     "text": [
      "100%|██████████| 1000/1000 [00:12<00:00, 77.11it/s, Energy=-1.5509-0.0000j ± 0.0028 [σ²=0.0077, R̂=0.9994]]           \n"
     ]
    },
    {
     "name": "stdout",
     "output_type": "stream",
     "text": [
      "Eng error  [1.3242834995708108e-05, 4.75991052655278e-05, 0.005558570600768142, 0.0028200796156505614, 0.0032051468830294194]\n",
      "State error  [0.0009432127189203943, 0.0008716403642670123, 0.001570333351601727, 0.0004811939692257461, 0.001439332264182136]\n",
      "SAVED\n"
     ]
    },
    {
     "name": "stderr",
     "output_type": "stream",
     "text": [
      "100%|██████████| 1000/1000 [00:21<00:00, 46.97it/s, Energy=-1.83134+0.00009j ± 0.00013 [σ²=0.00002, R̂=1.0075]]          \n",
      "  1%|          | 9/1000 [00:00<00:12, 79.46it/s, Energy=0.184+0.006j ± 0.039 [σ²=1.508, R̂=1.0042]]"
     ]
    },
    {
     "name": "stdout",
     "output_type": "stream",
     "text": [
      "Eng error  [6.116041895154467e-08]\n",
      "State error  [0.002362883365485291]\n"
     ]
    },
    {
     "name": "stderr",
     "output_type": "stream",
     "text": [
      "100%|██████████| 1000/1000 [00:18<00:00, 53.12it/s, Energy=-1.8312615-0.0000116j ± 0.0000036 [σ²=0.0000000, R̂=1.0143]]\n",
      "  1%|          | 9/1000 [00:00<00:12, 78.90it/s, Energy=-0.043+0.038j ± 0.037 [σ²=1.350, R̂=1.0050]]"
     ]
    },
    {
     "name": "stdout",
     "output_type": "stream",
     "text": [
      "Eng error  [6.116041895154467e-08, 7.497192625072202e-05]\n",
      "State error  [0.002362883365485291, 0.0015983381489752535]\n"
     ]
    },
    {
     "name": "stderr",
     "output_type": "stream",
     "text": [
      "100%|██████████| 1000/1000 [00:18<00:00, 52.99it/s, Energy=-1.831431-0.000035j ± 0.000017 [σ²=0.000000, R̂=1.3587]]   \n",
      "  1%|          | 8/1000 [00:00<00:14, 67.77it/s, Energy=0.358-0.004j ± 0.031 [σ²=0.961, R̂=1.0022]]"
     ]
    },
    {
     "name": "stdout",
     "output_type": "stream",
     "text": [
      "Eng error  [6.116041895154467e-08, 7.497192625072202e-05, 9.468542052437634e-05]\n",
      "State error  [0.002362883365485291, 0.0015983381489752535, 0.0011706730418393763]\n"
     ]
    },
    {
     "name": "stderr",
     "output_type": "stream",
     "text": [
      "100%|██████████| 1000/1000 [00:18<00:00, 54.57it/s, Energy=-1.83069-0.00057j ± 0.00021 [σ²=0.00005, R̂=1.3972]]          \n",
      "  1%|          | 8/1000 [00:00<00:14, 66.32it/s, Energy=0.243-0.013j ± 0.041 [σ²=1.730, R̂=0.9990]]"
     ]
    },
    {
     "name": "stdout",
     "output_type": "stream",
     "text": [
      "Eng error  [6.116041895154467e-08, 7.497192625072202e-05, 9.468542052437634e-05, 0.0006434342247931824]\n",
      "State error  [0.002362883365485291, 0.0015983381489752535, 0.0011706730418393763, 0.0006092097201111368]\n"
     ]
    },
    {
     "name": "stderr",
     "output_type": "stream",
     "text": [
      "100%|██████████| 1000/1000 [00:18<00:00, 52.84it/s, Energy=-1.831410-0.000051j ± 0.000063 [σ²=0.000004, R̂=1.2353]]   \n"
     ]
    },
    {
     "name": "stdout",
     "output_type": "stream",
     "text": [
      "Eng error  [6.116041895154467e-08, 7.497192625072202e-05, 9.468542052437634e-05, 0.0006434342247931824, 7.38157709732068e-05]\n",
      "State error  [0.002362883365485291, 0.0015983381489752535, 0.0011706730418393763, 0.0006092097201111368, 0.0014035999505582764]\n",
      "SAVED\n"
     ]
    },
    {
     "name": "stderr",
     "output_type": "stream",
     "text": [
      "100%|██████████| 1000/1000 [00:25<00:00, 39.02it/s, Energy=-2.0963-0.0003j ± 0.0038 [σ²=0.0146, R̂=1.0001]]           \n",
      "  1%|          | 7/1000 [00:00<00:16, 61.09it/s, Energy=0.737+0.037j ± 0.032 [σ²=1.051, R̂=0.9999]]"
     ]
    },
    {
     "name": "stdout",
     "output_type": "stream",
     "text": [
      "Eng error  [0.0045225648150784]\n",
      "State error  [0.0031902134139051297]\n"
     ]
    },
    {
     "name": "stderr",
     "output_type": "stream",
     "text": [
      "100%|██████████| 1000/1000 [00:23<00:00, 42.67it/s, Energy=-2.0979-0.0003j ± 0.0038 [σ²=0.0146, R̂=0.9993]]           \n",
      "  1%|          | 7/1000 [00:00<00:16, 61.34it/s, Energy=-0.659-0.062j ± 0.039 [σ²=1.508, R̂=1.0098]]"
     ]
    },
    {
     "name": "stdout",
     "output_type": "stream",
     "text": [
      "Eng error  [0.0045225648150784, 0.0029231275946335344]\n",
      "State error  [0.0031902134139051297, 0.002327183842404823]\n"
     ]
    },
    {
     "name": "stderr",
     "output_type": "stream",
     "text": [
      "100%|██████████| 1000/1000 [00:23<00:00, 43.45it/s, Energy=-2.0931+0.0001j ± 0.0054 [σ²=0.0290, R̂=0.9998]]           \n",
      "  1%|          | 7/1000 [00:00<00:15, 63.04it/s, Energy=0.694-0.013j ± 0.032 [σ²=1.055, R̂=0.9993]]"
     ]
    },
    {
     "name": "stdout",
     "output_type": "stream",
     "text": [
      "Eng error  [0.0045225648150784, 0.0029231275946335344, 0.007792956224127234]\n",
      "State error  [0.0031902134139051297, 0.002327183842404823, 0.002567722846769205]\n"
     ]
    },
    {
     "name": "stderr",
     "output_type": "stream",
     "text": [
      "100%|██████████| 1000/1000 [00:23<00:00, 42.78it/s, Energy=-2.0969-0.0001j ± 0.0038 [σ²=0.0145, R̂=1.0002]]           \n",
      "  1%|          | 7/1000 [00:00<00:16, 61.80it/s, Energy=0.280-0.036j ± 0.036 [σ²=1.314, R̂=1.0004]]"
     ]
    },
    {
     "name": "stdout",
     "output_type": "stream",
     "text": [
      "Eng error  [0.0045225648150784, 0.0029231275946335344, 0.007792956224127234, 0.003895017305979298]\n",
      "State error  [0.0031902134139051297, 0.002327183842404823, 0.002567722846769205, 0.001850315517862744]\n"
     ]
    },
    {
     "name": "stderr",
     "output_type": "stream",
     "text": [
      "100%|██████████| 1000/1000 [00:23<00:00, 41.95it/s, Energy=-2.100921-0.000047j ± 0.000087 [σ²=0.000008, R̂=0.9997]]   \n"
     ]
    },
    {
     "name": "stdout",
     "output_type": "stream",
     "text": [
      "Eng error  [0.0045225648150784, 0.0029231275946335344, 0.007792956224127234, 0.003895017305979298, 7.641917160183809e-05]\n",
      "State error  [0.0031902134139051297, 0.002327183842404823, 0.002567722846769205, 0.001850315517862744, 0.0026151202680009256]\n",
      "SAVED\n"
     ]
    }
   ],
   "source": [
    "for i in range(5):  #here put N-1 (maximum)\n",
    "    N = i+2\n",
    "    alpha = 1   #density of RBM\n",
    "    M = alpha*N\n",
    "    # Constant A\n",
    "    B = 0.95\n",
    "    # Variable A\n",
    "    #B=N/2\n",
    "    #A = N/2\n",
    "    #N0 = N/2\n",
    "    # List of Ak\n",
    "    Ak = []\n",
    "    for i in range(N - 1):\n",
    "        # Constant A\n",
    "        Ak_i = 1\n",
    "        # Variable A\n",
    "        #Ak_i = A / (N0) * np.exp(-i / N0)\n",
    "        Ak.append(Ak_i)\n",
    "    # Define hamiltonian and hilbert space\n",
    "    ha, hi = CSHam(N,B,Ak)\n",
    "\n",
    "    #Exact Diagonalization\n",
    "    e, v = exactDiagonalization(ha)\n",
    "    #Ground state energy\n",
    "    edEng = e[0]\n",
    "    # Ground state\n",
    "    edState = v[0]\n",
    "\n",
    "    #Lists for Histogram Data\n",
    "    numRuns = 5\n",
    "    hisIt = np.arange(numRuns)\n",
    "    engErr = []\n",
    "    stateErr = []\n",
    "    runTime = []\n",
    "\n",
    "    \n",
    "    \n",
    "    # Get errors for each run in histogram\n",
    "    for i in range(len(hisIt)):\n",
    "        engTemp, stateTemp, runTimeTemp = runDescentCS(N,B,Ak,alpha)\n",
    "        #engTemp, stateTemp, runTimeTemp = resultsSR[i]\n",
    "        runTime.append(runTimeTemp)\n",
    "        errSR = err(np.asmatrix(stateTemp), edState, engTemp, edEng,N) #make state vector as matrix data-type\n",
    "        engErr.append(errSR[0])\n",
    "        stateErr.append(errSR[1])\n",
    "        print('Eng error ', engErr)\n",
    "        print('State error ', stateErr)\n",
    "\n",
    "    #Save data to JSON file\n",
    "    data = [engErr, stateErr, runTime]\n",
    "    fileName = \"2021_summer_data/N\"+str(N)+\"M\" + str(M)+\".json\"\n",
    "    open(fileName, \"w\").close()\n",
    "    with open(fileName, 'a') as file:\n",
    "        for item in data:\n",
    "            line = json.dumps(item)\n",
    "            file.write(line + '\\n')\n",
    "    print('SAVED')\n"
   ]
  },
  {
   "cell_type": "code",
   "execution_count": 7,
   "id": "a1c70256",
   "metadata": {},
   "outputs": [
    {
     "name": "stderr",
     "output_type": "stream",
     "text": [
      "100%|██████████| 1000/1000 [02:45<00:00,  6.04it/s, Energy=-5.6781+0.0008j ± 0.0014 [σ²=0.0020, R̂=1.0044]]   \n",
      "  0%|          | 0/1000 [00:00<?, ?it/s]"
     ]
    },
    {
     "name": "stdout",
     "output_type": "stream",
     "text": [
      "Eng error  [0.003365291445956764]\n",
      "State error  [0.01679924751503392]\n"
     ]
    },
    {
     "name": "stderr",
     "output_type": "stream",
     "text": [
      "100%|██████████| 1000/1000 [02:34<00:00,  6.46it/s, Energy=-5.658-0.001j ± 0.015 [σ²=0.237, R̂=0.9998]]               \n",
      "  0%|          | 0/1000 [00:00<?, ?it/s]"
     ]
    },
    {
     "name": "stdout",
     "output_type": "stream",
     "text": [
      "Eng error  [0.003365291445956764, 0.02359841592311529]\n",
      "State error  [0.01679924751503392, 0.005405635166759737]\n"
     ]
    },
    {
     "name": "stderr",
     "output_type": "stream",
     "text": [
      "100%|██████████| 1000/1000 [02:26<00:00,  6.83it/s, Energy=-5.225e+00-6.708e-06j ± 5.595e-17 [σ²=3.155e-30, R̂=1.1109]]    \n"
     ]
    },
    {
     "name": "stdout",
     "output_type": "stream",
     "text": [
      "Eng error  [0.003365291445956764, 0.02359841592311529, 0.4564574043026779]\n",
      "State error  [0.01679924751503392, 0.005405635166759737, 0.04438484513739427]\n",
      "SAVED\n"
     ]
    }
   ],
   "source": [
    "#For N=10 only\n",
    "N = 5\n",
    "alpha = 1   #density of RBM\n",
    "M = alpha*N\n",
    "# Constant A\n",
    "B = 0.95\n",
    "# Variable A\n",
    "#B=N/2\n",
    "A = N/2\n",
    "N0 = N/2\n",
    "# List of Ak\n",
    "Ak = []\n",
    "for i in range(N - 1):\n",
    "    # Constant A\n",
    "    #Ak_i = 1\n",
    "    # Variable A\n",
    "    Ak_i = A / (N0) * np.exp(-i / N0)\n",
    "    Ak.append(Ak_i)\n",
    "# Define hamiltonian and hilbert space\n",
    "ha, hi = CSHam(N,B,Ak)\n",
    "\n",
    "#Exact Diagonalization\n",
    "e, v = exactDiagonalization(ha)\n",
    "#Ground state energy\n",
    "edEng = e[0]\n",
    "# Ground state\n",
    "edState = v[0]\n",
    "\n",
    "#Lists for Histogram Data\n",
    "numRuns = 50\n",
    "hisIt = np.arange(numRuns)\n",
    "engErr = []\n",
    "stateErr = []\n",
    "runTime = []\n",
    "\n",
    "# Get errors for each run in histogram\n",
    "for i in range(len(hisIt)):\n",
    "    engTemp, stateTemp, runTimeTemp = runDescentCS(N,B,Ak,alpha)\n",
    "    #engTemp, stateTemp, runTimeTemp = resultsSR[i]\n",
    "    runTime.append(runTimeTemp)\n",
    "    errSR = err(np.asmatrix(stateTemp), edState, engTemp, edEng,N) #make state vector as matrix data-type\n",
    "    engErr.append(errSR[0])\n",
    "    stateErr.append(errSR[1])\n",
    "    print('Eng error ', engErr)\n",
    "    print('State error ', stateErr)\n",
    "\n",
    "#Save data to JSON file\n",
    "data = [engErr, stateErr, runTime]\n",
    "fileName = \"2021_summer_data/N\"+str(N)+\"M\" + str(M)+\"_var_50runs_0605.json\"\n",
    "open(fileName, \"w\").close()\n",
    "with open(fileName, 'a') as file:\n",
    "    for item in data:\n",
    "        line = json.dumps(item)\n",
    "        file.write(line + '\\n')\n",
    "print('SAVED')"
   ]
  },
  {
   "cell_type": "code",
   "execution_count": 9,
   "id": "0001482b",
   "metadata": {},
   "outputs": [
    {
     "name": "stdout",
     "output_type": "stream",
     "text": [
      "LocalOperator(dim=3, acting_on=[[0], [0, 1], [0, 2]], constant=0, dtype=<class 'complex'>)\n"
     ]
    }
   ],
   "source": [
    "#For N=10 only\n",
    "N = 3\n",
    "alpha = 1   #density of RBM\n",
    "M = alpha*N\n",
    "# Constant A\n",
    "B = 1\n",
    "# Variable A\n",
    "#B=N/2\n",
    "A = N/2\n",
    "N0 = N/2\n",
    "# List of Ak\n",
    "Ak = []\n",
    "for i in range(N - 1):\n",
    "    # Constant A\n",
    "    #Ak_i = 1\n",
    "    # Variable A\n",
    "    Ak_i = A / (N0) * np.exp(-i / N0)\n",
    "    Ak.append(Ak_i)\n",
    "# Define hamiltonian and hilbert space\n",
    "ha, hi = CSHam(N,B,Ak)\n",
    "\n",
    "print(ha)"
   ]
  },
  {
   "cell_type": "code",
   "execution_count": null,
   "id": "7a122079",
   "metadata": {},
   "outputs": [],
   "source": []
  }
 ],
 "metadata": {
  "kernelspec": {
   "display_name": "Python 3 (ipykernel)",
   "language": "python",
   "name": "python3"
  },
  "language_info": {
   "codemirror_mode": {
    "name": "ipython",
    "version": 3
   },
   "file_extension": ".py",
   "mimetype": "text/x-python",
   "name": "python",
   "nbconvert_exporter": "python",
   "pygments_lexer": "ipython3",
   "version": "3.8.10"
  }
 },
 "nbformat": 4,
 "nbformat_minor": 5
}
