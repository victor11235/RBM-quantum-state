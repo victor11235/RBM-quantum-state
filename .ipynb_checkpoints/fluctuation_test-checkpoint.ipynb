{
 "cells": [
  {
   "cell_type": "code",
   "execution_count": 3,
   "id": "1be780c7",
   "metadata": {},
   "outputs": [],
   "source": [
    "import multiprocessing as mp\n",
    "import netket as nk\n",
    "import os\n",
    "import json\n",
    "from qutip import *\n",
    "import numpy as np\n",
    "import scipy\n",
    "import cmath\n",
    "import matplotlib.pyplot as plt\n",
    "plt.style.use('seaborn')\n",
    "import itertools\n",
    "from numpy.random import seed\n",
    "from numpy.random import rand\n",
    "from itertools import product\n",
    "from scipy.misc import derivative\n",
    "from scipy import optimize\n",
    "from functools import wraps\n",
    "from functools import reduce\n",
    "from time import time\n",
    "from scipy.optimize import minimize\n",
    "from matplotlib import gridspec\n",
    "import copy\n",
    "import pickle\n",
    "import optax"
   ]
  },
  {
   "cell_type": "code",
   "execution_count": 6,
   "id": "15abe8a7",
   "metadata": {},
   "outputs": [],
   "source": [
    "def CSHam(N, B, Ak):\n",
    "    # Make graph with of length N with no periodic boundary conditions\n",
    "    g = nk.graph.Hypercube(length=N, n_dim=1, pbc=False)\n",
    "    # Spin based Hilbert Space\n",
    "    hilbertSpace = nk.hilbert.Spin(s=0.5, N=g.n_nodes)\n",
    "    # Define spin operators with \\hbar set to 1\n",
    "    sz = 0.5 * np.array([[1, 0], [0, -1]])\n",
    "    sx = 0.5 * np.array([[0, 1], [1, 0]])\n",
    "    sy = 0.5 * np.array([[0, -1j], [1j, 0]])\n",
    "    operators = []\n",
    "    sites = []\n",
    "    # Central spin term\n",
    "    operators.append((B * sz).tolist()) #array to list(ordered and changeable)\n",
    "    sites.append([0])\n",
    "    # Interaction term\n",
    "    itOp = np.kron(sz, sz) + np.kron(sx, sx) + np.kron(sy, sy) #kronecker product here\n",
    "    for i in range(N - 1):\n",
    "        operators.append((Ak[i] * itOp).tolist())\n",
    "        sites.append([0, (i+1)])  #pretty convoluted indexing, but ok\n",
    "    # Create hamiltonian\n",
    "    hamiltonian = nk.operator.LocalOperator(hilbertSpace, operators=operators, acting_on=sites, dtype=complex)\n",
    "    #acting_on specifier necessary as this is a central spin model\n",
    "    return hamiltonian, hilbertSpace\n",
    "\n",
    "\n",
    "def exactDiagonalization(hamiltonian):\n",
    "    # Changes Hamiltonian to matrix form, where hamiltonian of interest is sparse in matrix form\n",
    "    #haMatrix = hamiltonian.to_sparse()\n",
    "    # Gets eigenvalues and vectors, where the built-in function uses \n",
    "    eigenValues, v = nk.exact.lanczos_ed(hamiltonian, compute_eigenvectors=True)\n",
    "\n",
    "    # Orders from smallest to largest\n",
    "    eigenVectors = [v[:, i] for i in range(len(eigenValues))]\n",
    "    return eigenValues, eigenVectors\n",
    "\n",
    "\n",
    "# NetKet RBM with stochastic reconfiguration descent\n",
    "class RBM:\n",
    "    def __init__(self, N, hamiltonian, hilbertSpace, machine):\n",
    "        # Assign inputsv[:, i]\n",
    "        self.hamiltonian, self.hilbertSpace, self.machine, self.N = hamiltonian, hilbertSpace, machine, N\n",
    "        # Define sampler\n",
    "        self.sampler = nk.sampler.MetropolisLocal(hilbert=hilbertSpace)\n",
    "        # Define optimizer\n",
    "        self.optimizer = nk.optimizer.Sgd(learning_rate=0.05)\n",
    "        # Define Stochastic reconfiguration\n",
    "        self.sr = nk.optimizer.SR(diag_shift=0.5) #diagnol shift, its role as regularizer? seems to take a different form as \n",
    "        #compared to the version I have seen\n",
    "        # Variational state\n",
    "        self.vs = nk.variational.MCState(self.sampler, self.machine, n_samples=1000, n_discard=100) #discarded number of samples \n",
    "        #at the beginning of the MC chain\n",
    "\n",
    "    # Output is the name of the output file in which the descent data is stored\n",
    "    def __call__(self, output):\n",
    "        self.vs.init_parameters(nk.nn.initializers.normal(stddev=0.25))\n",
    "        gs = nk.VMC(hamiltonian=self.hamiltonian, optimizer=self.optimizer, variational_state=self.vs, sr=self.sr)\n",
    "        # Set the output files as well as number of iterations in the descent\n",
    "        gs.run(out=output, n_iter=500)\n",
    "        # Import the data from log file\n",
    "        data = json.load(open(output + '.log'))\n",
    "        # Extract the relevant information\n",
    "        # iters = data[\"Energy\"][\"iters\"]\n",
    "        energy_RBM = data[\"Energy\"][\"Mean\"][\"real\"] #get the real part of the mean energy\n",
    "       \n",
    "        # finalEng = energy_RBM[-1]\n",
    "        finalEng = reduce(lambda x, y: x if y is None else y, energy_RBM)\n",
    "        # Get machine statethe state of the machine as an array\n",
    "        state = self.vs.to_array()\n",
    "        \n",
    "        parameters = self.vs.parameters\n",
    "        # Outputs the final energy, the final state, and the runtime\n",
    "        return finalEng, state, parameters\n",
    "    \n",
    "# Error Calculation (Input: the found state, the state from exact diagonalization, the found energy, the energy from exact diagonalization)\n",
    "def err(state, edState, eng, edEng,N):\n",
    "    engErr = np.abs(eng - edEng)\n",
    "    overlap = np.dot(state.conj().reshape(2**N, 1).T, edState.reshape(2**N, 1))\n",
    "    waveFunctionErr = 1 - (np.linalg.norm(overlap))**2\n",
    "    return engErr, waveFunctionErr\n",
    "\n",
    "\n",
    "# Combines all steps into a function to run on the cluster\n",
    "def runDescentCS(N,B,Ak,alpha):\n",
    "    # Define hamiltonian and hibert space (need to do this here cause can't use netket objects as input to use multiprocessing functions)\n",
    "    ha, hi = CSHam(N,B,Ak)\n",
    "    # RBM Spin Machine\n",
    "    ma = nk.models.RBM(alpha=1, dtype=complex,use_visible_bias=True, use_hidden_bias=True)\n",
    "    # Initialize RBM\n",
    "    rbm = RBM(N, ha, hi, ma) #an instance of class RBM\n",
    "    # Run RBM\n",
    "    eng, state, para = rbm(\"2021_summer_data/Logs_fluc\"+str(N)) #where _call_ will be invoked\n",
    "    return eng, state, para"
   ]
  },
  {
   "cell_type": "code",
   "execution_count": 42,
   "id": "ea49b3f0",
   "metadata": {
    "scrolled": true
   },
   "outputs": [
    {
     "name": "stderr",
     "output_type": "stream",
     "text": [
      "/var/folders/bx/7c1x8cfn2yd7lc3x5qllnlth0000gn/T/ipykernel_1534/1248972668.py:55: FutureWarning: Call to deprecated function 'normal' (`netket.nn.initializers` is deprecated. Use `jax.nn.initializers` instead.)\n",
      "  self.vs.init_parameters(nk.nn.initializers.normal(stddev=0.25))\n",
      "100%|█| 500/500 [00:13<00:00, 36.28it/s, Energy=-1.6912+0.0015j ± 0.0037 [σ²=0.0\n"
     ]
    },
    {
     "name": "stdout",
     "output_type": "stream",
     "text": [
      "Eng error  [0.06077247925725149]\n",
      "State error  [0.20982969235189786]\n",
      "parameters  FrozenDict({\n",
      "    Dense: {\n",
      "        bias: DeviceArray([-0.27714241+0.26895291j, -0.09709932+0.29958861j,\n",
      "                     -0.33348221+0.12841422j,  0.44750572+0.41904585j,\n",
      "                     -0.07111297-0.11727011j,  0.25058396+0.0022603j ,\n",
      "                      0.04428977+0.13687407j,  0.02661861-0.07733493j,\n",
      "                      0.16938346+0.14307972j], dtype=complex128),\n",
      "        kernel: DeviceArray([[ 0.22824512+0.52062763j,  0.36493437-0.37937796j,\n",
      "                       0.186727  -0.2370022j ,  0.10616513-0.08117437j,\n",
      "                       0.50840364-0.38701555j, -0.1739763 +0.11582133j,\n",
      "                      -0.29024524+0.01021626j, -0.19390182+0.18392479j,\n",
      "                       0.00400175+0.14982021j],\n",
      "                     [-0.07179822+0.31955124j,  0.19319241+0.12543599j,\n",
      "                       0.14621051+0.10635723j, -0.1422533 -0.02857596j,\n",
      "                      -0.28880794-0.31304943j, -0.1384348 +0.02908488j,\n",
      "                      -0.01074263-0.21320879j, -0.01615251-0.07783559j,\n",
      "                      -0.31960677+0.32620983j],\n",
      "                     [ 0.04122973+0.3770259j ,  0.21972807+0.37475422j,\n",
      "                       0.15727628-0.03144305j, -0.27171694+0.08856024j,\n",
      "                      -0.06476483-0.32823499j,  0.13864242-0.13436179j,\n",
      "                      -0.01438301-0.11346727j, -0.24870155+0.20866544j,\n",
      "                      -0.20120705+0.01737172j],\n",
      "                     [ 0.2292727 -0.35330522j,  0.52746369-0.56091174j,\n",
      "                       0.27235064-0.48650333j, -0.21587506+0.21578777j,\n",
      "                       0.1296487 -0.3608144j , -0.2951249 +0.71447639j,\n",
      "                      -0.14663631+0.1538055j , -0.54889262+0.03325737j,\n",
      "                       0.08148739-0.26945221j],\n",
      "                     [-0.07542605+0.035984j  ,  0.22175039+0.05136409j,\n",
      "                       0.20676633+0.24142812j, -0.20267869+0.20275335j,\n",
      "                      -0.13911798-0.21754402j,  0.05334908+0.04843348j,\n",
      "                       0.04318898-0.05349555j, -0.14076058-0.16850162j,\n",
      "                      -0.32287594+0.13203043j],\n",
      "                     [-0.03073241+0.20936046j,  0.07143658-0.03694164j,\n",
      "                       0.11857757-0.24718147j, -0.28615378-0.25522251j,\n",
      "                      -0.10232635-0.06421805j, -0.1267542 -0.04999095j,\n",
      "                      -0.12998848-0.02251967j, -0.36553728+0.12508316j,\n",
      "                      -0.21175405+0.19893712j],\n",
      "                     [-0.13026156+0.14555044j,  0.03393496-0.15211149j,\n",
      "                       0.18298959-0.12501219j, -0.19278454+0.02953895j,\n",
      "                      -0.08461834-0.08232248j, -0.21493682-0.24640432j,\n",
      "                      -0.01320145-0.19228984j, -0.16875874-0.00661961j,\n",
      "                      -0.11984994+0.12311437j],\n",
      "                     [ 0.17709817-0.09642691j,  0.13401363+0.00084725j,\n",
      "                       0.22673376-0.09763671j, -0.16216666-0.16078624j,\n",
      "                      -0.01387517+0.09543075j, -0.25752429-0.52894021j,\n",
      "                       0.00950026+0.53693929j, -0.10816679+0.06094647j,\n",
      "                      -0.16771458-0.20570313j],\n",
      "                     [ 0.19416721+0.20026009j, -0.03560656-0.29019621j,\n",
      "                      -0.15416867+0.41843414j, -0.17358849-0.16694536j,\n",
      "                      -0.00748846-0.01514648j, -0.24680937+0.21778018j,\n",
      "                       0.01146378+0.10032566j, -0.09191926+0.29219558j,\n",
      "                       0.12391525+0.11093034j]], dtype=complex128),\n",
      "    },\n",
      "    visible_bias: DeviceArray([ 0.37484357+0.2477135j , -0.23113672+0.30180622j,\n",
      "                 -0.12127286+0.20177848j, -0.41857796-0.09954876j,\n",
      "                 -0.22387176-0.06352294j,  0.08528716-0.09446123j,\n",
      "                 -0.28823729-0.07831602j, -0.33084272+0.41648218j,\n",
      "                 -0.15215236-0.19983002j], dtype=complex128),\n",
      "})\n"
     ]
    }
   ],
   "source": [
    "#For N=5 only\n",
    "N = 9\n",
    "alpha = 1   #density of RBM\n",
    "M = alpha*N\n",
    "# Constant A\n",
    "B = 0.95\n",
    "# Variable A\n",
    "#B=N/2\n",
    "A = N/2\n",
    "N0 = N/2\n",
    "# List of Ak\n",
    "Ak = []\n",
    "for i in range(N - 1):\n",
    "    # Constant A\n",
    "    #Ak_i = 1\n",
    "    # Variable A\n",
    "    Ak_i = A / (N0) * np.exp(-i / N0)\n",
    "    Ak.append(Ak_i)\n",
    "# Define hamiltonian and hilbert space\n",
    "ha, hi = CSHam(N,B,Ak)\n",
    "\n",
    "#Exact Diagonalization\n",
    "e, v = exactDiagonalization(ha)\n",
    "#Ground state energy\n",
    "edEng = e[0]\n",
    "# Ground state\n",
    "edState = v[0]\n",
    "\n",
    "#Lists for Histogram Data\n",
    "numRuns = 1\n",
    "hisIt = np.arange(numRuns)\n",
    "engErr = []\n",
    "stateErr = []\n",
    "\n",
    "# Get errors for each run in histogram\n",
    "for i in range(len(hisIt)):\n",
    "    engTemp, stateTemp, para_temp = runDescentCS(N,B,Ak,alpha)\n",
    "    #engTemp, stateTemp, runTimeTemp = resultsSR[i]\n",
    "    errSR = err(np.asmatrix(stateTemp), edState, engTemp, edEng,N) #make state vector as matrix data-type\n",
    "    engErr.append(errSR[0])\n",
    "    stateErr.append(errSR[1])\n",
    "    print('Eng error ', engErr)\n",
    "    print('State error ', stateErr)\n",
    "    print('parameters ', para_temp)\n",
    "\n"
   ]
  },
  {
   "cell_type": "code",
   "execution_count": 43,
   "id": "4278e8b6",
   "metadata": {},
   "outputs": [
    {
     "name": "stdout",
     "output_type": "stream",
     "text": [
      "0\n",
      "100\n",
      "200\n",
      "300\n",
      "400\n",
      "500\n",
      "600\n",
      "700\n",
      "800\n",
      "900\n",
      "1000\n",
      "1100\n",
      "1200\n",
      "1300\n",
      "1400\n",
      "1500\n",
      "1600\n",
      "1700\n",
      "1800\n",
      "1900\n"
     ]
    }
   ],
   "source": [
    "a = []\n",
    "for i in range(2000):\n",
    "    \n",
    "\n",
    "    sampler = nk.sampler.MetropolisLocal(hilbert=hi)\n",
    "    machine = nk.models.RBM(alpha=1, dtype=complex,use_visible_bias=True, use_hidden_bias=True)\n",
    "\n",
    "    vstate = nk.variational.MCState(sampler, machine, n_samples=5000, n_discard=500)\n",
    "    vstate.parameters = para_temp\n",
    "    \n",
    "    energy = np.real(vstate.expect(ha).mean)\n",
    "    a.append(float(energy))\n",
    "    if (i%100 == 0):\n",
    "        print(i)"
   ]
  },
  {
   "cell_type": "code",
   "execution_count": null,
   "id": "3da30514",
   "metadata": {},
   "outputs": [],
   "source": []
  },
  {
   "cell_type": "code",
   "execution_count": 44,
   "id": "bf38b125",
   "metadata": {},
   "outputs": [
    {
     "name": "stdout",
     "output_type": "stream",
     "text": [
      "-1.6948955279258822\n",
      "-1.6950075891548526\n",
      "0.003982825707602444\n"
     ]
    }
   ],
   "source": [
    "def expected_2(A, bra, ket):\n",
    "        \n",
    "    expectation = np.dot(np.conj(bra).T, np.matmul(A, ket) )\n",
    "    return expectation\n",
    "\n",
    "#get exact energy\n",
    "ex_sta = vstate.to_array()\n",
    "exact_energy = np.real(expected_2(ha.to_dense(),ex_sta, ex_sta))\n",
    "print(exact_energy)\n",
    "\n",
    "b = a-exact_energy\n",
    "print(np.mean(a))\n",
    "print(np.std(a))"
   ]
  },
  {
   "cell_type": "code",
   "execution_count": 90,
   "id": "2f6b9c92",
   "metadata": {},
   "outputs": [
    {
     "data": {
      "image/png": "[encoded data removed]",
      "text/plain": [
       "<Figure size 576x396 with 1 Axes>"
      ]
     },
     "metadata": {},
     "output_type": "display_data"
    }
   ],
   "source": [
    "\n",
    "\n",
    "bins = np.arange(-1.56, -1.54, 0.0005)\n",
    "plt.hist(a, bins=bins,label = 'Sampled rbm energy')\n",
    "plt.vlines(e[0], 0, 1100, color = 'r', label = 'Exact energy')\n",
    "plt.vlines(np.mean(a), 0, 1100, color = 'g', label = 'Mean sampled rbm energy')\n",
    "plt.vlines(engTemp, 0, 1100, color = 'y', label = 'Final rbm energy')\n",
    "plt.xlabel('Real part of Mean Energy')\n",
    "plt.legend()\n",
    "plt.show()"
   ]
  },
  {
   "cell_type": "code",
   "execution_count": 41,
   "id": "9930109e",
   "metadata": {},
   "outputs": [
    {
     "name": "stdout",
     "output_type": "stream",
     "text": [
      "0.0021578644910353576\n"
     ]
    }
   ],
   "source": [
    "print(np.std(a))"
   ]
  },
  {
   "cell_type": "code",
   "execution_count": 46,
   "id": "e87a6f50",
   "metadata": {},
   "outputs": [],
   "source": [
    "N = [3,4,5,6,7,8]\n",
    "exact = [-1.056248303,-1.170365326,-1.16985938,-1.181960390,-1.51414337714,-1.62678518042 ]\n",
    "mean = [-1.056250205,-1.170330107, -1.169861085, -1.1817094183, -1.51414073005,-1.6268864343]\n",
    "std = [0.001018723,0.0020661879,0.001716642578,0.0065695959710,0.0016882198834,0.00215786449103 ]"
   ]
  },
  {
   "cell_type": "code",
   "execution_count": 53,
   "id": "58e10468",
   "metadata": {},
   "outputs": [
    {
     "data": {
      "text/plain": [
       "Text(0.5, 1.0, 'Energy std based on 2000 runs')"
      ]
     },
     "execution_count": 53,
     "metadata": {},
     "output_type": "execute_result"
    },
    {
     "data": {
      "image/png": "[encoded data removed]",
      "text/plain": [
       "<Figure size 576x396 with 1 Axes>"
      ]
     },
     "metadata": {},
     "output_type": "display_data"
    }
   ],
   "source": [
    "plt.plot(N,std)\n",
    "plt.xlabel('System Size N')\n",
    "plt.ylabel('Energy Standard Deviation')\n",
    "plt.title('Energy std based on 2000 runs')"
   ]
  },
  {
   "cell_type": "code",
   "execution_count": null,
   "id": "d623cf26",
   "metadata": {},
   "outputs": [],
   "source": []
  }
 ],
 "metadata": {
  "kernelspec": {
   "display_name": "Python 3 (ipykernel)",
   "language": "python",
   "name": "python3"
  },
  "language_info": {
   "codemirror_mode": {
    "name": "ipython",
    "version": 3
   },
   "file_extension": ".py",
   "mimetype": "text/x-python",
   "name": "python",
   "nbconvert_exporter": "python",
   "pygments_lexer": "ipython3",
   "version": "3.8.10"
  }
 },
 "nbformat": 4,
 "nbformat_minor": 5
}
