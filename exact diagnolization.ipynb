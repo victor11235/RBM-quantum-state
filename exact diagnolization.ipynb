{
 "cells": [
  {
   "cell_type": "code",
   "execution_count": 1,
   "id": "3194059b",
   "metadata": {},
   "outputs": [],
   "source": [
    "import netket as nk\n",
    "import json\n",
    "#from qutip import *\n",
    "import numpy as np\n",
    "import time\n",
    "import multiprocessing as mp\n",
    "from collections import OrderedDict\n",
    "from pickle import dump\n",
    "import os\n",
    "import matplotlib.pyplot as plt\n",
    "import scipy\n",
    "from matplotlib import gridspec\n",
    "from functools import reduce\n",
    "plt.style.use('seaborn')\n",
    "from scipy.stats import norm\n",
    "import operator"
   ]
  },
  {
   "cell_type": "code",
   "execution_count": 2,
   "id": "54751178",
   "metadata": {},
   "outputs": [],
   "source": [
    "def CSHam(N, B, Ak):\n",
    "    # Make graph with of length N with no periodic boundary conditions\n",
    "    g = nk.graph.Hypercube(length=N, n_dim=1, pbc=False)\n",
    "    # Spin based Hilbert Space\n",
    "    hilbertSpace = nk.hilbert.Spin(s=0.5, N=g.n_nodes)\n",
    "    # Define spin operators with \\hbar set to 1\n",
    "    sz = 0.5 * np.array([[1, 0], [0, -1]])\n",
    "    sx = 0.5 * np.array([[0, 1], [1, 0]])\n",
    "    sy = 0.5 * np.array([[0, -1j], [1j, 0]])\n",
    "    operators = []\n",
    "    sites = []\n",
    "    # Central spin term\n",
    "    operators.append((B * sz).tolist()) #array to list(ordered and changeable)\n",
    "    sites.append([0])\n",
    "    # Interaction term\n",
    "    itOp = np.kron(sz, sz) + np.kron(sx, sx) + np.kron(sy, sy) #kronecker product here\n",
    "    for i in range(N - 1):\n",
    "        operators.append((Ak[i] * itOp).tolist())\n",
    "        sites.append([0, (i+1)])  #pretty convoluted indexing, but ok\n",
    "    # Create hamiltonian\n",
    "    hamiltonian = nk.operator.LocalOperator(hilbertSpace, operators=operators, acting_on=sites, dtype=complex)\n",
    "    #acting_on specifier necessary as this is a central spin model\n",
    "    return hamiltonian, hilbertSpace"
   ]
  },
  {
   "cell_type": "code",
   "execution_count": 3,
   "id": "89349adb",
   "metadata": {},
   "outputs": [],
   "source": [
    "def exactDiagonalization(hamiltonian):\n",
    "    # Changes Hamiltonian to matrix form, where hamiltonian of interest is sparse in matrix form\n",
    "    #haMatrix = hamiltonian.to_sparse()\n",
    "    # Gets eigenvalues and vectors, where the built-in function uses \n",
    "    eigenValues, v = nk.exact.lanczos_ed(hamiltonian, compute_eigenvectors=True)\n",
    "\n",
    "    # Orders from smallest to largest\n",
    "    eigenVectors = [v[:, i] for i in range(len(eigenValues))]\n",
    "    return eigenValues, eigenVectors\n"
   ]
  },
  {
   "cell_type": "code",
   "execution_count": 4,
   "id": "9c521339",
   "metadata": {},
   "outputs": [],
   "source": [
    "# Error Calculation (Input: the found state, the state from exact diagonalization, the found energy, the energy from exact diagonalization)\n",
    "def err(state, edState,N):\n",
    "    #engErr = np.abs(eng - edEng)\n",
    "    overlap = np.dot(state.conj().reshape(2**N, 1).T, edState.reshape(2**N, 1))\n",
    "    waveFunctionErr = 1 - np.linalg.norm(overlap)\n",
    "    return waveFunctionErr"
   ]
  },
  {
   "cell_type": "code",
   "execution_count": 7,
   "id": "16c6158b",
   "metadata": {},
   "outputs": [
    {
     "name": "stdout",
     "output_type": "stream",
     "text": [
      "-0.939655711206687 [-5.83729809e-17+7.17493793e-18j -3.74375101e-01+1.24372637e-01j\n",
      "  8.72036199e-01-2.89702604e-01j  2.51763501e-17+8.76660112e-18j]\n"
     ]
    }
   ],
   "source": [
    "#rough testing for a particular N = 3\n",
    "\n",
    "N = 2\n",
    "\n",
    "# Constant B\n",
    "B = 0.95\n",
    "    \n",
    "# List of Ak\n",
    "Ak = []\n",
    "for i in range(N - 1):\n",
    "    # Constant A\n",
    "    Ak_i = 1\n",
    "    Ak.append(Ak_i)\n",
    "    \n",
    "# Define hamiltonian and hilbert space\n",
    "ha, hi = CSHam(N,B,Ak)\n",
    "\n",
    "#Exact Diagonalization\n",
    "e, v= exactDiagonalization(ha)\n",
    "#Ground state energy\n",
    "edEng = e[0]\n",
    "# Ground state\n",
    "edState = v[0]\n",
    "\n",
    "print(edEng,edState)\n",
    "\n"
   ]
  },
  {
   "cell_type": "markdown",
   "id": "5a1ca2c5",
   "metadata": {},
   "source": [
    "So the numerical exact diagnolization method works, let's now try the analytic method"
   ]
  },
  {
   "cell_type": "code",
   "execution_count": 9,
   "id": "54c44b3d",
   "metadata": {},
   "outputs": [],
   "source": [
    "def u(ms,A,B):\n",
    "    u = 0.5*B+0.5*A*ms\n",
    "    return u\n",
    "\n",
    "def g(ms,A,B,s):\n",
    "    g = 0.5*A*np.sqrt(s*(s+1)-ms*(ms+1))\n",
    "    return g\n",
    "\n",
    "def analytic(N,A,B):\n",
    "    s = float((N-1)/2)\n",
    "    m_s = np.arange(-s,s+0.1,step=1)\n",
    "    ms=[]\n",
    "    for x in range(0,len(m_s)-1,1):\n",
    "        ms.append(m_s[x])\n",
    "    eigvec = []\n",
    "    eigval = []\n",
    "    for i in range(len(ms)):\n",
    "        matrix = np.array([[u(ms[i],A,B),g(ms[i],A,B,s)],[g(ms[i],A,B,s),-u(ms[i]+1,A,B)]])\n",
    "        val,vec = np.linalg.eigh(matrix)\n",
    "        #we want m_j immediately after the doublets\n",
    "        eigvec.append(vec)\n",
    "        eigvec.append(ms[i]+0.5)\n",
    "        eigval.append(val.tolist())\n",
    "        #eigval.append(ms[i]+0.5)\n",
    "    #in the end, we append the two trivial solutions\n",
    "    #eigvec.append([1],N/2,[-1],-N/2)\n",
    "    #eigval.append()\n",
    "    return eigvec, eigval\n",
    "\n",
    "    \n",
    "    \n",
    "        \n",
    "    \n",
    "    \n",
    "        \n",
    "        \n",
    "    "
   ]
  },
  {
   "cell_type": "code",
   "execution_count": 11,
   "id": "3984a7b9",
   "metadata": {},
   "outputs": [
    {
     "data": {
      "text/plain": [
       "([array([[-0.81649658, -0.57735027],\n",
       "         [ 0.57735027, -0.81649658]]),\n",
       "  -0.5,\n",
       "  array([[-0.57735027, -0.81649658],\n",
       "         [ 0.81649658, -0.57735027]]),\n",
       "  0.5],\n",
       " [[-1.0, 0.5000000000000001], [-1.0, 0.5000000000000001]])"
      ]
     },
     "execution_count": 11,
     "metadata": {},
     "output_type": "execute_result"
    }
   ],
   "source": [
    "analytic(3,1,B)"
   ]
  },
  {
   "cell_type": "code",
   "execution_count": 65,
   "id": "cffef854",
   "metadata": {},
   "outputs": [
    {
     "name": "stdout",
     "output_type": "stream",
     "text": [
      "[array([1.11022302e-16]), array([4.4408921e-16]), array([1.55431223e-15]), array([2.66453526e-15]), array([2.66453526e-15]), array([5.32907052e-15]), array([7.99360578e-15]), array([4.4408921e-15]), array([6.21724894e-15]), array([1.77635684e-15]), array([8.8817842e-15]), array([7.99360578e-15]), array([5.32907052e-15]), array([6.21724894e-15]), array([7.99360578e-15]), array([8.8817842e-15]), array([7.99360578e-15]), array([8.8817842e-16])] [2, 3, 4, 5, 6, 7, 8, 9, 10, 11, 12, 13, 14, 15, 16, 17, 18, 19]\n"
     ]
    },
    {
     "data": {
      "image/png": "[encoded data removed]",
      "text/plain": [
       "<Figure size 576x396 with 1 Axes>"
      ]
     },
     "metadata": {},
     "output_type": "display_data"
    }
   ],
   "source": [
    "NN = 20 #number of spins-1\n",
    "B=1\n",
    "del_eig = []\n",
    "N_list = []\n",
    "\n",
    "for i in range(2,NN,1):\n",
    "    #flatten the list of eigenvalues\n",
    "    list_flat = reduce(operator.iconcat, analytic(i,A,B)[1], []) \n",
    "    e_an = min(list_flat)\n",
    "    \n",
    "    #loop for Ak\n",
    "    Ak = []\n",
    "    for j in range(i):\n",
    "    # Constant A\n",
    "        Ak_j = 1\n",
    "        Ak.append(Ak_j)\n",
    "        \n",
    "    ha, hi = CSHam(i,B,Ak)\n",
    "    e_num =  exactDiagonalization(ha)[0]\n",
    "    #get the ground state energy difference\n",
    "    del_e = np.abs(e_num-e_an)\n",
    "    del_eig.append(del_e)\n",
    "    N_list.append(i)\n",
    "\n",
    "print(del_eig,N_list)\n",
    "\n",
    "plt.plot(N_list,del_eig)\n",
    "plt.xlabel('N (number of spins)')\n",
    "plt.ylabel('Delta_E (ground state energy difference)')\n",
    "plt.show()"
   ]
  },
  {
   "cell_type": "markdown",
   "id": "3b23eed5",
   "metadata": {},
   "source": [
    "Now let's do ground state vector, N=2,3,4"
   ]
  },
  {
   "cell_type": "code",
   "execution_count": null,
   "id": "6703187a",
   "metadata": {},
   "outputs": [],
   "source": []
  },
  {
   "cell_type": "code",
   "execution_count": 99,
   "id": "724a583f",
   "metadata": {},
   "outputs": [
    {
     "name": "stdout",
     "output_type": "stream",
     "text": [
      "1.6780317135811629e-09\n"
     ]
    }
   ],
   "source": [
    "err_state = []\n",
    "#N=2\n",
    "v2 = np.array(exactDiagonalization(ha)[1])\n",
    "v2_a = np.array([0, 0.70710678,-0.70710678,0])\n",
    "a = err(v2,v2_a,2)\n",
    "err_state.append(a)\n",
    "\n",
    "#N=3\n",
    "v3 = np.array(exactDiagonalization(ha)[1])\n",
    "v3_a = np.array([0, 0.70710678,-0.70710678,0])\n",
    "\n",
    "#incomplete as degeneracy comes up N=3, A=1, B=0"
   ]
  },
  {
   "cell_type": "code",
   "execution_count": null,
   "id": "429169be",
   "metadata": {},
   "outputs": [],
   "source": []
  }
 ],
 "metadata": {
  "kernelspec": {
   "display_name": "Python 3 (ipykernel)",
   "language": "python",
   "name": "python3"
  },
  "language_info": {
   "codemirror_mode": {
    "name": "ipython",
    "version": 3
   },
   "file_extension": ".py",
   "mimetype": "text/x-python",
   "name": "python",
   "nbconvert_exporter": "python",
   "pygments_lexer": "ipython3",
   "version": "3.8.10"
  }
 },
 "nbformat": 4,
 "nbformat_minor": 5
}
