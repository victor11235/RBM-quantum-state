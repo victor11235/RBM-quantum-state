{
 "cells": [
  {
   "cell_type": "code",
   "execution_count": 1,
   "id": "4565aa73",
   "metadata": {},
   "outputs": [],
   "source": [
    "import netket as nk\n",
    "import json\n",
    "from qutip import *\n",
    "import numpy as np\n",
    "import time\n",
    "import multiprocessing as mp\n",
    "from collections import OrderedDict\n",
    "from pickle import dump\n",
    "import os\n",
    "import matplotlib.pyplot as plt\n",
    "import scipy\n",
    "from matplotlib import gridspec\n",
    "from functools import reduce\n",
    "plt.style.use('seaborn')\n",
    "from scipy.stats import norm"
   ]
  },
  {
   "cell_type": "code",
   "execution_count": 2,
   "id": "6e860de8",
   "metadata": {},
   "outputs": [],
   "source": [
    "# Central Spin Hamiltonian and Hilbert space, inputs are Hamiltonian parameters\n",
    "def CSHam(N, B, Ak):\n",
    "    # Make graph with of length N with no periodic boundary conditions\n",
    "    g = nk.graph.Hypercube(length=N, n_dim=1, pbc=False)\n",
    "    # Spin based Hilbert Space\n",
    "    hilbertSpace = nk.hilbert.Spin(s=0.5, N=g.n_nodes)\n",
    "    # Define pauli matrices\n",
    "    pauliz = 0.5 * np.array([[1, 0], [0, -1]])\n",
    "    paulix = 0.5 * np.array([[0, 1], [1, 0]])\n",
    "    pauliy = 0.5 * np.array([[0, -1j], [1j, 0]])\n",
    "    operators = []\n",
    "    sites = []\n",
    "    # Central spin term\n",
    "    operators.append((B * pauliz).tolist())\n",
    "    sites.append([0])\n",
    "    # Interaction term\n",
    "    itOp = np.kron(pauliz, pauliz) + np.kron(paulix, paulix) + np.kron(pauliy, pauliy)\n",
    "    for i in range(N - 1):\n",
    "        operators.append((Ak[i] * itOp).tolist())\n",
    "        sites.append([0, (i + 1)])\n",
    "    # Create hamiltonian\n",
    "    hamiltonian = nk.operator.LocalOperator(hilbertSpace, operators=operators, acting_on=sites, dtype=complex)\n",
    "    return hamiltonian, hilbertSpace\n",
    "\n",
    "\n",
    "def exactDiagonalization(hamiltonian):\n",
    "    # Changes Hamiltonian to matrix form\n",
    "    haMatrix = hamiltonian.to_dense()\n",
    "    # Gets eigenvalues and vectors\n",
    "    eigenValues, v = np.linalg.eigh(haMatrix)\n",
    "    # Orders from smallest to largest\n",
    "    eigenVectors = [v[:, i] for i in range(len(eigenValues))]\n",
    "    return eigenValues, eigenVectors"
   ]
  },
  {
   "cell_type": "code",
   "execution_count": 3,
   "id": "c1fa36c2",
   "metadata": {},
   "outputs": [
    {
     "ename": "KeyboardInterrupt",
     "evalue": "",
     "output_type": "error",
     "traceback": [
      "\u001b[0;31m---------------------------------------------------------------------------\u001b[0m",
      "\u001b[0;31mKeyboardInterrupt\u001b[0m                         Traceback (most recent call last)",
      "\u001b[0;32m<ipython-input-3-938dd7060468>\u001b[0m in \u001b[0;36m<module>\u001b[0;34m\u001b[0m\n\u001b[1;32m     20\u001b[0m \u001b[0;34m\u001b[0m\u001b[0m\n\u001b[1;32m     21\u001b[0m     \u001b[0;31m# Exact Diagonalization\u001b[0m\u001b[0;34m\u001b[0m\u001b[0;34m\u001b[0m\u001b[0;34m\u001b[0m\u001b[0m\n\u001b[0;32m---> 22\u001b[0;31m     \u001b[0me\u001b[0m\u001b[0;34m,\u001b[0m \u001b[0mv\u001b[0m \u001b[0;34m=\u001b[0m \u001b[0mexactDiagonalization\u001b[0m\u001b[0;34m(\u001b[0m\u001b[0mha\u001b[0m\u001b[0;34m)\u001b[0m\u001b[0;34m\u001b[0m\u001b[0;34m\u001b[0m\u001b[0m\n\u001b[0m\u001b[1;32m     23\u001b[0m     \u001b[0;31m# get the gap\u001b[0m\u001b[0;34m\u001b[0m\u001b[0;34m\u001b[0m\u001b[0;34m\u001b[0m\u001b[0m\n\u001b[1;32m     24\u001b[0m     \u001b[0mgap\u001b[0m \u001b[0;34m=\u001b[0m \u001b[0mnp\u001b[0m\u001b[0;34m.\u001b[0m\u001b[0mabs\u001b[0m\u001b[0;34m(\u001b[0m\u001b[0me\u001b[0m\u001b[0;34m[\u001b[0m\u001b[0;36m0\u001b[0m\u001b[0;34m]\u001b[0m\u001b[0;34m-\u001b[0m\u001b[0me\u001b[0m\u001b[0;34m[\u001b[0m\u001b[0;36m1\u001b[0m\u001b[0;34m]\u001b[0m\u001b[0;34m)\u001b[0m\u001b[0;34m\u001b[0m\u001b[0;34m\u001b[0m\u001b[0m\n",
      "\u001b[0;32m<ipython-input-2-1fd275b464c0>\u001b[0m in \u001b[0;36mexactDiagonalization\u001b[0;34m(hamiltonian)\u001b[0m\n\u001b[1;32m     28\u001b[0m     \u001b[0mhaMatrix\u001b[0m \u001b[0;34m=\u001b[0m \u001b[0mhamiltonian\u001b[0m\u001b[0;34m.\u001b[0m\u001b[0mto_dense\u001b[0m\u001b[0;34m(\u001b[0m\u001b[0;34m)\u001b[0m\u001b[0;34m\u001b[0m\u001b[0;34m\u001b[0m\u001b[0m\n\u001b[1;32m     29\u001b[0m     \u001b[0;31m# Gets eigenvalues and vectors\u001b[0m\u001b[0;34m\u001b[0m\u001b[0;34m\u001b[0m\u001b[0;34m\u001b[0m\u001b[0m\n\u001b[0;32m---> 30\u001b[0;31m     \u001b[0meigenValues\u001b[0m\u001b[0;34m,\u001b[0m \u001b[0mv\u001b[0m \u001b[0;34m=\u001b[0m \u001b[0mnp\u001b[0m\u001b[0;34m.\u001b[0m\u001b[0mlinalg\u001b[0m\u001b[0;34m.\u001b[0m\u001b[0meigh\u001b[0m\u001b[0;34m(\u001b[0m\u001b[0mhaMatrix\u001b[0m\u001b[0;34m)\u001b[0m\u001b[0;34m\u001b[0m\u001b[0;34m\u001b[0m\u001b[0m\n\u001b[0m\u001b[1;32m     31\u001b[0m     \u001b[0;31m# Orders from smallest to largest\u001b[0m\u001b[0;34m\u001b[0m\u001b[0;34m\u001b[0m\u001b[0;34m\u001b[0m\u001b[0m\n\u001b[1;32m     32\u001b[0m     \u001b[0meigenVectors\u001b[0m \u001b[0;34m=\u001b[0m \u001b[0;34m[\u001b[0m\u001b[0mv\u001b[0m\u001b[0;34m[\u001b[0m\u001b[0;34m:\u001b[0m\u001b[0;34m,\u001b[0m \u001b[0mi\u001b[0m\u001b[0;34m]\u001b[0m \u001b[0;32mfor\u001b[0m \u001b[0mi\u001b[0m \u001b[0;32min\u001b[0m \u001b[0mrange\u001b[0m\u001b[0;34m(\u001b[0m\u001b[0mlen\u001b[0m\u001b[0;34m(\u001b[0m\u001b[0meigenValues\u001b[0m\u001b[0;34m)\u001b[0m\u001b[0;34m)\u001b[0m\u001b[0;34m]\u001b[0m\u001b[0;34m\u001b[0m\u001b[0;34m\u001b[0m\u001b[0m\n",
      "\u001b[0;32m<__array_function__ internals>\u001b[0m in \u001b[0;36meigh\u001b[0;34m(*args, **kwargs)\u001b[0m\n",
      "\u001b[0;32m~/.local/lib/python3.8/site-packages/numpy/linalg/linalg.py\u001b[0m in \u001b[0;36meigh\u001b[0;34m(a, UPLO)\u001b[0m\n\u001b[1;32m   1468\u001b[0m \u001b[0;34m\u001b[0m\u001b[0m\n\u001b[1;32m   1469\u001b[0m     \u001b[0msignature\u001b[0m \u001b[0;34m=\u001b[0m \u001b[0;34m'D->dD'\u001b[0m \u001b[0;32mif\u001b[0m \u001b[0misComplexType\u001b[0m\u001b[0;34m(\u001b[0m\u001b[0mt\u001b[0m\u001b[0;34m)\u001b[0m \u001b[0;32melse\u001b[0m \u001b[0;34m'd->dd'\u001b[0m\u001b[0;34m\u001b[0m\u001b[0;34m\u001b[0m\u001b[0m\n\u001b[0;32m-> 1470\u001b[0;31m     \u001b[0mw\u001b[0m\u001b[0;34m,\u001b[0m \u001b[0mvt\u001b[0m \u001b[0;34m=\u001b[0m \u001b[0mgufunc\u001b[0m\u001b[0;34m(\u001b[0m\u001b[0ma\u001b[0m\u001b[0;34m,\u001b[0m \u001b[0msignature\u001b[0m\u001b[0;34m=\u001b[0m\u001b[0msignature\u001b[0m\u001b[0;34m,\u001b[0m \u001b[0mextobj\u001b[0m\u001b[0;34m=\u001b[0m\u001b[0mextobj\u001b[0m\u001b[0;34m)\u001b[0m\u001b[0;34m\u001b[0m\u001b[0;34m\u001b[0m\u001b[0m\n\u001b[0m\u001b[1;32m   1471\u001b[0m     \u001b[0mw\u001b[0m \u001b[0;34m=\u001b[0m \u001b[0mw\u001b[0m\u001b[0;34m.\u001b[0m\u001b[0mastype\u001b[0m\u001b[0;34m(\u001b[0m\u001b[0m_realType\u001b[0m\u001b[0;34m(\u001b[0m\u001b[0mresult_t\u001b[0m\u001b[0;34m)\u001b[0m\u001b[0;34m,\u001b[0m \u001b[0mcopy\u001b[0m\u001b[0;34m=\u001b[0m\u001b[0;32mFalse\u001b[0m\u001b[0;34m)\u001b[0m\u001b[0;34m\u001b[0m\u001b[0;34m\u001b[0m\u001b[0m\n\u001b[1;32m   1472\u001b[0m     \u001b[0mvt\u001b[0m \u001b[0;34m=\u001b[0m \u001b[0mvt\u001b[0m\u001b[0;34m.\u001b[0m\u001b[0mastype\u001b[0m\u001b[0;34m(\u001b[0m\u001b[0mresult_t\u001b[0m\u001b[0;34m,\u001b[0m \u001b[0mcopy\u001b[0m\u001b[0;34m=\u001b[0m\u001b[0;32mFalse\u001b[0m\u001b[0;34m)\u001b[0m\u001b[0;34m\u001b[0m\u001b[0;34m\u001b[0m\u001b[0m\n",
      "\u001b[0;31mKeyboardInterrupt\u001b[0m: "
     ]
    }
   ],
   "source": [
    "gap_N = []\n",
    "\n",
    "for i in range(11):  #here put N-1 (maximum)\n",
    "    N = i+2\n",
    "    # Hamiltonian Parameters\n",
    "    B = 0.95\n",
    "    alpha = 1\n",
    "    # B = N/2\n",
    "    #A = N/2\n",
    "    #N0 = N / 2\n",
    "    M = alpha * N\n",
    "    # List of Ak\n",
    "    Ak = []\n",
    "    for i in range(N - 1):\n",
    "        #Ak_i = A / (N0) * np.exp(-i / N0)\n",
    "        Ak_i = 1\n",
    "        Ak.append(Ak_i)\n",
    "    # Define hamiltonian and hilbert space\n",
    "    ha, hi = CSHam(N, B, Ak)\n",
    "\n",
    "    # Exact Diagonalization\n",
    "    e, v = exactDiagonalization(ha)\n",
    "    # get the gap\n",
    "    gap = np.abs(e[0]-e[1])\n",
    "    gap_N.append(gap)\n",
    "print(gap_N)"
   ]
  },
  {
   "cell_type": "code",
   "execution_count": 7,
   "id": "f9a8f345",
   "metadata": {},
   "outputs": [
    {
     "name": "stdout",
     "output_type": "stream",
     "text": [
      "[49, 44, 44, 44, 44, 44, 44, 44, 44, 44, 44]\n"
     ]
    }
   ],
   "source": [
    "gap_N = [0.714655711206686, 0.2706903510436629, 0.19700064430027164, 0.15809192733781918, 0.13310606325776964, 0.11541105590704248, 0.10210433090346216, 0.09167886461488539, 0.08326216241364426, 0.07630910833231175, 0.07045931893186008]\n",
    "\n",
    "import os\n",
    "os.chdir('/home/victor')\n",
    "\n",
    "#take half of the energy gap\n",
    "half_gap = []\n",
    "for i in gap_N:\n",
    "    half_gap.append(i/2)\n",
    "\n",
    "#define a function that counts the number of runs with small enough energy errors\n",
    "def count(eng_er_list, half_gap):\n",
    "    count = 0\n",
    "    for i in eng_er_list:\n",
    "        if i <= half_gap:\n",
    "            count += 1\n",
    "    return count\n",
    "\n",
    "\n",
    "#load energy error data\n",
    "eng_con = []\n",
    "eng_count = []\n",
    "for i in range(2,13,1):\n",
    "    with open('2021_summer_data/con_'+'N'+str(i)+'M'+str(i)+'.json') as f:\n",
    "        for line in f:\n",
    "            eng_con.append(json.loads(line))\n",
    "    eng_count_temp = count(eng_con[0], half_gap[i-2])\n",
    "    eng_count.append(eng_count_temp)\n",
    "print(eng_count)"
   ]
  },
  {
   "cell_type": "code",
   "execution_count": 6,
   "id": "f1013922",
   "metadata": {},
   "outputs": [
    {
     "data": {
      "image/png": "[encoded data removed]",
      "text/plain": [
       "<Figure size 576x396 with 1 Axes>"
      ]
     },
     "metadata": {},
     "output_type": "display_data"
    }
   ],
   "source": [
    "N = [2,3,4,5,6,7,8,9,10,11,12]\n",
    "#plot the count\n",
    "plt.plot(N,eng_count,'g>',markersize=12,label='Constant A')\n",
    "plt.ylabel('# of runs with energy error smaller than half of the energy gap')\n",
    "plt.xlabel('N')\n",
    "plt.legend()\n",
    "plt.show()"
   ]
  },
  {
   "cell_type": "code",
   "execution_count": null,
   "id": "0e39037e",
   "metadata": {},
   "outputs": [],
   "source": []
  },
  {
   "cell_type": "code",
   "execution_count": null,
   "id": "ca66a131",
   "metadata": {},
   "outputs": [],
   "source": []
  }
 ],
 "metadata": {
  "kernelspec": {
   "display_name": "Python 3 (ipykernel)",
   "language": "python",
   "name": "python3"
  },
  "language_info": {
   "codemirror_mode": {
    "name": "ipython",
    "version": 3
   },
   "file_extension": ".py",
   "mimetype": "text/x-python",
   "name": "python",
   "nbconvert_exporter": "python",
   "pygments_lexer": "ipython3",
   "version": "3.8.10"
  }
 },
 "nbformat": 4,
 "nbformat_minor": 5
}
