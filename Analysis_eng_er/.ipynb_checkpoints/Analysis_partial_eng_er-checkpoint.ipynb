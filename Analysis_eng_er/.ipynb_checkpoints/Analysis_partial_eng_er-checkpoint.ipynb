{
 "cells": [
  {
   "cell_type": "code",
   "execution_count": 1,
   "id": "7960f1ab",
   "metadata": {},
   "outputs": [],
   "source": [
    "import netket as nk\n",
    "import json\n",
    "from qutip import *\n",
    "import numpy as np\n",
    "import time\n",
    "import multiprocessing as mp\n",
    "from collections import OrderedDict\n",
    "from pickle import dump\n",
    "import os\n",
    "import matplotlib.pyplot as plt\n",
    "import scipy\n",
    "from matplotlib import gridspec\n",
    "from functools import reduce\n",
    "plt.style.use('seaborn')\n",
    "from scipy.stats import norm"
   ]
  },
  {
   "cell_type": "code",
   "execution_count": 2,
   "id": "00787733",
   "metadata": {},
   "outputs": [],
   "source": [
    "# Central Spin Hamiltonian and Hilbert space, inputs are Hamiltonian parameters\n",
    "def CSHam(N, B, Ak):\n",
    "    # Make graph with of length N with no periodic boundary conditions\n",
    "    g = nk.graph.Hypercube(length=N, n_dim=1, pbc=False)\n",
    "    # Spin based Hilbert Space\n",
    "    hilbertSpace = nk.hilbert.Spin(s=0.5, N=g.n_nodes)\n",
    "    # Define pauli matrices\n",
    "    pauliz = 0.5 * np.array([[1, 0], [0, -1]])\n",
    "    paulix = 0.5 * np.array([[0, 1], [1, 0]])\n",
    "    pauliy = 0.5 * np.array([[0, -1j], [1j, 0]])\n",
    "    operators = []\n",
    "    sites = []\n",
    "    # Central spin term\n",
    "    operators.append((B * pauliz).tolist())\n",
    "    sites.append([0])\n",
    "    # Interaction term\n",
    "    itOp = np.kron(pauliz, pauliz) + np.kron(paulix, paulix) + np.kron(pauliy, pauliy)\n",
    "    for i in range(N - 1):\n",
    "        operators.append((Ak[i] * itOp).tolist())\n",
    "        sites.append([0, (i + 1)])\n",
    "    # Create hamiltonian\n",
    "    hamiltonian = nk.operator.LocalOperator(hilbertSpace, operators=operators, acting_on=sites, dtype=complex)\n",
    "    return hamiltonian, hilbertSpace\n",
    "\n",
    "\n",
    "def exactDiagonalization(hamiltonian):\n",
    "    # Changes Hamiltonian to matrix form\n",
    "    haMatrix = hamiltonian.to_dense()\n",
    "    # Gets eigenvalues and vectors\n",
    "    eigenValues, v = np.linalg.eigh(haMatrix)\n",
    "    # Orders from smallest to largest\n",
    "    eigenVectors = [v[:, i] for i in range(len(eigenValues))]\n",
    "    return eigenValues, eigenVectors"
   ]
  },
  {
   "cell_type": "code",
   "execution_count": 3,
   "id": "5611810c",
   "metadata": {},
   "outputs": [
    {
     "name": "stdout",
     "output_type": "stream",
     "text": [
      "[0.714655711206686, 0.18151865199806494, 0.12612412420872188, 0.1017429438325903, 0.0875371119095103, 0.07790872448001829, 0.07074383837386922]\n"
     ]
    }
   ],
   "source": [
    "gap_N = []\n",
    "\n",
    "for i in range(7):  #here put N-1 (maximum)\n",
    "    N = i+2\n",
    "    # Hamiltonian Parameters\n",
    "    B = 0.95\n",
    "    alpha = 1\n",
    "    # B = N/2\n",
    "    A = N/2\n",
    "    N0 = N / 2\n",
    "    M = alpha * N\n",
    "    # List of Ak\n",
    "    Ak = []\n",
    "    for i in range(N - 1):\n",
    "        Ak_i = A / (N0) * np.exp(-i / N0)\n",
    "        #Ak_i = 1\n",
    "        Ak.append(Ak_i)\n",
    "    # Define hamiltonian and hilbert space\n",
    "    ha, hi = CSHam(N, B, Ak)\n",
    "\n",
    "    # Exact Diagonalization\n",
    "    e, v = exactDiagonalization(ha)\n",
    "    # get the gap\n",
    "    gap = np.abs(e[0]-e[1])\n",
    "    gap_N.append(gap)\n",
    "print(gap_N)"
   ]
  },
  {
   "cell_type": "code",
   "execution_count": 9,
   "id": "209d59d8",
   "metadata": {},
   "outputs": [
    {
     "name": "stdout",
     "output_type": "stream",
     "text": [
      "[50, 44, 44, 44, 44, 44, 44]\n"
     ]
    }
   ],
   "source": [
    "#take half of the energy gap\n",
    "half_gap = []\n",
    "for i in gap_N:\n",
    "    half_gap.append(i/2)\n",
    "\n",
    "#define a function that counts the number of runs with small enough energy errors\n",
    "def count(eng_er_list, half_gap):\n",
    "    count = 0\n",
    "    for i in eng_er_list:\n",
    "        if i <= half_gap:\n",
    "            count += 1\n",
    "    return count\n",
    "\n",
    "\n",
    "#load energy error data\n",
    "eng_con = []\n",
    "eng_count = []\n",
    "for i in range(2,9,1):\n",
    "    with open('2021_summer_data/partial/var_'+'N'+str(i)+'M'+str(i)+'.json') as f:\n",
    "        for line in f:\n",
    "            eng_con.append(json.loads(line))\n",
    "    eng_count_temp = count(eng_con[0], half_gap[i-2])\n",
    "    eng_count.append(eng_count_temp)\n",
    "print(eng_count)"
   ]
  },
  {
   "cell_type": "code",
   "execution_count": 5,
   "id": "598d6d44",
   "metadata": {},
   "outputs": [
    {
     "data": {
      "image/png": "[encoded data removed]",
      "text/plain": [
       "<Figure size 576x396 with 1 Axes>"
      ]
     },
     "metadata": {},
     "output_type": "display_data"
    }
   ],
   "source": [
    "N = [2,3,4,5,6,7,8]\n",
    "#plot the count\n",
    "plt.plot(N,eng_count,'g>',markersize=12,label='Varying A')\n",
    "plt.ylabel('# of runs with energy error smaller than half of the energy gap')\n",
    "plt.xlabel('N')\n",
    "plt.legend()\n",
    "plt.show()"
   ]
  },
  {
   "cell_type": "code",
   "execution_count": null,
   "id": "9065e8cf",
   "metadata": {},
   "outputs": [],
   "source": []
  }
 ],
 "metadata": {
  "kernelspec": {
   "display_name": "Python 3",
   "language": "python",
   "name": "python3"
  },
  "language_info": {
   "codemirror_mode": {
    "name": "ipython",
    "version": 3
   },
   "file_extension": ".py",
   "mimetype": "text/x-python",
   "name": "python",
   "nbconvert_exporter": "python",
   "pygments_lexer": "ipython3",
   "version": "3.8.5"
  }
 },
 "nbformat": 4,
 "nbformat_minor": 5
}
