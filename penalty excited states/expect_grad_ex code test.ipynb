{
 "cells": [
  {
   "cell_type": "code",
   "execution_count": 3,
   "id": "deca1f9a",
   "metadata": {},
   "outputs": [],
   "source": [
    "import expect_grad_ex"
   ]
  },
  {
   "cell_type": "code",
   "execution_count": 2,
   "id": "31c794d0",
   "metadata": {},
   "outputs": [
    {
     "ename": "NameError",
     "evalue": "name 'self' is not defined",
     "output_type": "error",
     "traceback": [
      "\u001b[0;31m---------------------------------------------------------------------------\u001b[0m",
      "\u001b[0;31mNameError\u001b[0m                                 Traceback (most recent call last)",
      "\u001b[0;32m<ipython-input-2-005d0c291a08>\u001b[0m in \u001b[0;36m<module>\u001b[0;34m\u001b[0m\n\u001b[1;32m      1\u001b[0m expect_grad_ex.expect_and_grad_ex(            \n\u001b[0;32m----> 2\u001b[0;31m             \u001b[0mself\u001b[0m\u001b[0;34m.\u001b[0m\u001b[0mstate\u001b[0m\u001b[0;34m,\u001b[0m\u001b[0;34m\u001b[0m\u001b[0;34m\u001b[0m\u001b[0m\n\u001b[0m\u001b[1;32m      3\u001b[0m             \u001b[0mself\u001b[0m\u001b[0;34m.\u001b[0m\u001b[0m_ham\u001b[0m\u001b[0;34m,\u001b[0m\u001b[0;34m\u001b[0m\u001b[0;34m\u001b[0m\u001b[0m\n\u001b[1;32m      4\u001b[0m             \u001b[0;32mTrue\u001b[0m\u001b[0;34m,\u001b[0m\u001b[0;34m\u001b[0m\u001b[0;34m\u001b[0m\u001b[0m\n\u001b[1;32m      5\u001b[0m             \u001b[0mself\u001b[0m\u001b[0;34m.\u001b[0m\u001b[0mstate\u001b[0m\u001b[0;34m.\u001b[0m\u001b[0mchunk_size\u001b[0m\u001b[0;34m,\u001b[0m\u001b[0;34m\u001b[0m\u001b[0;34m\u001b[0m\u001b[0m\n",
      "\u001b[0;31mNameError\u001b[0m: name 'self' is not defined"
     ]
    }
   ],
   "source": [
    "expect_grad_ex.expect_and_grad_ex(            \n",
    "            self.state,\n",
    "            self._ham, \n",
    "            True,                             \n",
    "            self.state.chunk_size, \n",
    "            self.state.mutable, \n",
    "            self._state_list, \n",
    "            self._shift_list,\n",
    "        )\n"
   ]
  },
  {
   "cell_type": "code",
   "execution_count": 4,
   "id": "1bdd142b",
   "metadata": {},
   "outputs": [
    {
     "name": "stdout",
     "output_type": "stream",
     "text": [
      "def expect_and_grad_ex(  \n",
      "    vstate,\n",
      "    Ô,\n",
      "    use_covariance,\n",
      "    *,\n",
      "    mutable,\n",
      "    state_list,\n",
      "    shift_list,\n",
      ") -> Tuple[Stats, PyTree]:\n",
      "    σ, args = get_local_kernel_arguments(vstate, Ô)\n",
      "\n",
      "    local_estimator_fun = get_local_kernel(vstate, Ô)\n",
      "\n",
      "    Ō, Ō_grad, new_model_state = grad_expect_hermitian_ex(\n",
      "        local_estimator_fun,\n",
      "        vstate._apply_fun,\n",
      "        mutable,\n",
      "        vstate.parameters,\n",
      "        vstate.model_state,\n",
      "        σ,\n",
      "        args,\n",
      "        state_list,\n",
      "        shift_list,\n",
      "    )\n",
      "\n",
      "    if mutable is not False:\n",
      "        vstate.model_state = new_model_state\n",
      "\n",
      "    return Ō, Ō_grad\n",
      "\n"
     ]
    }
   ],
   "source": [
    "import inspect\n",
    "lines = inspect.getsource(expect_grad_ex.expect_and_grad_ex)\n",
    "print(lines)"
   ]
  },
  {
   "cell_type": "code",
   "execution_count": null,
   "id": "1cb6039c",
   "metadata": {},
   "outputs": [],
   "source": []
  }
 ],
 "metadata": {
  "kernelspec": {
   "display_name": "Python 3",
   "language": "python",
   "name": "python3"
  },
  "language_info": {
   "codemirror_mode": {
    "name": "ipython",
    "version": 3
   },
   "file_extension": ".py",
   "mimetype": "text/x-python",
   "name": "python",
   "nbconvert_exporter": "python",
   "pygments_lexer": "ipython3",
   "version": "3.8.5"
  }
 },
 "nbformat": 4,
 "nbformat_minor": 5
}
