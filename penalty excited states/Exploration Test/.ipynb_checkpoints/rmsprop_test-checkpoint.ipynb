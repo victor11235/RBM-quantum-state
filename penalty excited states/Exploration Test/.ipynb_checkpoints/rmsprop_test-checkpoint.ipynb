{
 "cells": [
  {
   "cell_type": "code",
   "execution_count": 5,
   "id": "353ae4f5",
   "metadata": {},
   "outputs": [],
   "source": [
    "import netket as nk\n",
    "import json\n",
    "from qutip import *\n",
    "import numpy as np\n",
    "import time\n",
    "import multiprocessing as mp\n",
    "from collections import OrderedDict\n",
    "from pickle import dump\n",
    "import os\n",
    "import matplotlib.pyplot as plt\n",
    "import scipy\n",
    "from matplotlib import gridspec\n",
    "from functools import reduce\n",
    "plt.style.use('seaborn')\n",
    "from scipy.stats import norm\n",
    "import sys\n",
    "sys.path.append(\"/Users/victorwei/Research projects/Neural Network Quantum State/penalty excited states\")\n",
    "import expect_grad_ex\n",
    "import vmc_ex\n",
    "import jax\n",
    "import optax"
   ]
  },
  {
   "cell_type": "code",
   "execution_count": 11,
   "id": "6db20e7a",
   "metadata": {},
   "outputs": [],
   "source": [
    "def CSHam(N, B, Ak):\n",
    "    # Make graph with of length N with no periodic boundary conditions\n",
    "    g = nk.graph.Hypercube(length=N, n_dim=1, pbc=False)\n",
    "    # Spin based Hilbert Space\n",
    "    hilbertSpace = nk.hilbert.Spin(s=0.5, N=g.n_nodes)\n",
    "    # Define spin operators with \\hbar set to 1\n",
    "    sz = 0.5 * np.array([[1, 0], [0, -1]])\n",
    "    sx = 0.5 * np.array([[0, 1], [1, 0]])\n",
    "    sy = 0.5 * np.array([[0, -1j], [1j, 0]])\n",
    "    operators = []\n",
    "    sites = []\n",
    "    # Central spin term\n",
    "    operators.append((B * sz).tolist()) #array to list(ordered and changeable)\n",
    "    sites.append([0])\n",
    "    # Interaction term\n",
    "    itOp = np.kron(sz, sz) + np.kron(sx, sx) + np.kron(sy, sy) #kronecker product here\n",
    "    for i in range(N - 1):\n",
    "        operators.append((Ak[i] * itOp).tolist())\n",
    "        sites.append([0, (i+1)])  #pretty convoluted indexing, but ok\n",
    "    # Create hamiltonian\n",
    "    hamiltonian = nk.operator.LocalOperator(hilbertSpace, operators=operators, acting_on=sites, dtype=complex)\n",
    "    #acting_on specifier necessary as this is a central spin model\n",
    "    return hamiltonian, hilbertSpace\n",
    "\n",
    "def exactDiagonalization(hamiltonian):\n",
    "    # Changes Hamiltonian to matrix form, where hamiltonian of interest is sparse in matrix form\n",
    "    #haMatrix = hamiltonian.to_sparse()\n",
    "    # Gets eigenvalues and vectors, where the built-in function uses \n",
    "    eigenValues, v = nk.exact.lanczos_ed(hamiltonian, compute_eigenvectors=True)\n",
    "\n",
    "    # Orders from smallest to largest\n",
    "    eigenVectors = [v[:, i] for i in range(len(eigenValues))]\n",
    "    return eigenValues, eigenVectors\n",
    "\n",
    "def exactDiagonalization_full(hamiltonian):\n",
    "    # Changes Hamiltonian to matrix form\n",
    "    haMatrix = hamiltonian.to_dense()\n",
    "    # Gets eigenvalues and vectors\n",
    "    eigenValues, v = np.linalg.eigh(haMatrix)\n",
    "    # Orders from smallest to largest\n",
    "    eigenVectors = [v[:, i] for i in range(len(eigenValues))]\n",
    "    return eigenValues, eigenVectors\n",
    "\n",
    "# NetKet RBM with stochastic reconfiguration descent\n",
    "class RBM:\n",
    "    def __init__(self, N, hamiltonian, hilbertSpace, machine):\n",
    "        # Assign inputsv[:, i]\n",
    "        self.hamiltonian, self.hilbertSpace, self.machine, self.N = hamiltonian, hilbertSpace, machine, N\n",
    "        # Define sampler\n",
    "        self.sampler = nk.sampler.MetropolisLocal(hilbert=hilbertSpace)\n",
    "        # Define optimizer\n",
    "        self.optimizer = optax.sgd(learning_rate=0.02)\n",
    "        # Define Stochastic reconfiguration\n",
    "        self.sr = nk.optimizer.SR(diag_shift=0.001) #diagnol shift, its role as regularizer? seems to take a different form as \n",
    "        #compared to the version I have seen\n",
    "        # Variational state\n",
    "        self.vs = nk.vqs.MCState(self.sampler, self.machine, n_samples=8000, n_discard_per_chain=800) #discarded number of samples \n",
    "        #at the beginning of the MC chain\n",
    "\n",
    "    # Output is the name of the output file in which the descent data is stored\n",
    "    def __call__(self, output, state_list, shift_list):\n",
    "        self.vs.init_parameters(jax.nn.initializers.normal(stddev=0.25))\n",
    "        gs = vmc_ex.VMC_ex(hamiltonian=self.hamiltonian, optimizer=self.optimizer, variational_state=self.vs, preconditioner=self.sr, \n",
    "                   state_list = state_list, shift_list = shift_list)\n",
    "        # Start timing\n",
    "        start = time.time()\n",
    "        # Set the output files as well as number of iterations in the descent\n",
    "        gs.run(out=output, n_iter=7000)\n",
    "        end = time.time()\n",
    "        runTime = end - start\n",
    "        # Import the data from log file\n",
    "        data = json.load(open(output + '.log'))\n",
    "        # Extract the relevant information\n",
    "        # iters = data[\"Energy\"][\"iters\"]\n",
    "        energy_RBM = data[\"Energy\"][\"Mean\"][\"real\"] #get the real part of the mean energy\n",
    "       \n",
    "        # finalEng = energy_RBM[-1]\n",
    "        finalEng = reduce(lambda x, y: x if y is None else y, energy_RBM)\n",
    "        # Get machine statethe state of the machine as an array\n",
    "        state = self.vs.to_array()\n",
    "        # Outputs the final energy, the final state, and the runtime\n",
    "        parameters = self.vs.parameters\n",
    "        # Outputs the final energy, the final state, and the runtime\n",
    "        return finalEng, state, self.vs\n",
    "    \n",
    "# Error Calculation (Input: the found state, the state from exact diagonalization, the found energy, the energy from exact diagonalization)\n",
    "def err(state, edState, eng, edEng,N):\n",
    "    engErr = np.abs(eng - edEng)\n",
    "    overlap = np.dot(state.conj().reshape(2**N, 1).T, edState.reshape(2**N, 1))\n",
    "    waveFunctionErr = 1 - (np.linalg.norm(overlap))**2\n",
    "    return engErr, waveFunctionErr\n",
    "\n",
    "\n",
    "# Combines all steps into a function to run on the cluster\n",
    "def runDescentCS(N,B,Ak,alpha, state_list, shift_list):\n",
    "    # Define hamiltonian and hibert space (need to do this here cause can't use netket objects as input to use multiprocessing functions)\n",
    "    ha, hi = CSHam(N,B,Ak)\n",
    "    # RBM Spin Machine\n",
    "    ma = nk.models.RBM(alpha=1, dtype=complex,use_visible_bias=True, use_hidden_bias=True)\n",
    "    # Initialize RBM\n",
    "    rbm = RBM(N, ha, hi, ma) #an instance of class RBM\n",
    "    # Run RBM\n",
    "    eng, state, vstate = rbm(\"2021_summer_data/Logs\"+str(N), state_list, shift_list) #where _call_ will be invoked\n",
    "    return eng, state, vstate"
   ]
  },
  {
   "cell_type": "code",
   "execution_count": 12,
   "id": "eeec1039",
   "metadata": {},
   "outputs": [
    {
     "name": "stderr",
     "output_type": "stream",
     "text": [
      "100%|█| 7000/7000 [20:58<00:00,  5.56it/s, Energy=-1.415269+0.000001j ± 0.000024\n"
     ]
    }
   ],
   "source": [
    "N = 6\n",
    "Ak = []\n",
    "\n",
    "alpha = 1   #density of RBM\n",
    "M = alpha*N\n",
    "# Constant A\n",
    "B = 0.95\n",
    "# Variable A\n",
    "A = N/2\n",
    "N0 = N/2\n",
    "for i in range(N-1):\n",
    "    # Constant A\n",
    "    #Ak_i = 1\n",
    "    # Variable A\n",
    "    Ak_i = A / (N0) * np.exp(-i / N0)\n",
    "    Ak.append(Ak_i)\n",
    "    \n",
    "# Define hamiltonian and hilbert space\n",
    "ha, hi = CSHam(N,B,Ak)\n",
    "\n",
    "\n",
    "#Exact Diagonalization¢\n",
    "e, v = exactDiagonalization_full(ha)\n",
    "\n",
    "ma = nk.models.RBM(alpha=1, dtype=complex,use_visible_bias=True, use_hidden_bias=True)\n",
    "sampler = nk.sampler.MetropolisLocal(hilbert=hi)\n",
    "vs1 = nk.vqs.MCState(sampler, ma, n_samples=8000, n_discard_per_chain=800)\n",
    "vs1.init_parameters(jax.nn.initializers.normal(stddev=0.25))\n",
    "state_list = [vs1]\n",
    "shift_list = [0]\n",
    "\n",
    "eng, state, gs = runDescentCS(N,B,Ak,alpha, state_list, shift_list)"
   ]
  },
  {
   "cell_type": "code",
   "execution_count": 13,
   "id": "378fdabe",
   "metadata": {},
   "outputs": [
    {
     "name": "stdout",
     "output_type": "stream",
     "text": [
      "[-1.41524943 -1.32771232 -1.27145158 -1.21988005 -1.19876478 -1.11306153\n",
      " -1.11089347 -1.0858455  -1.07493451 -0.98756256 -0.93938085 -0.9338297\n",
      " -0.91135368 -0.90173021 -0.8935346  -0.8730331  -0.80315108 -0.69343838\n",
      " -0.62406881 -0.53438139 -0.50864167 -0.38721415 -0.36979703 -0.31053015\n",
      " -0.25413804 -0.18236887 -0.17478303 -0.09929506 -0.04515056  0.04131016\n",
      "  0.10087815  0.24035625  0.35185493  0.41431648  0.41522106  0.43187103\n",
      "  0.44636995  0.45165595  0.4549342   0.46446678  0.47988562  0.51981148\n",
      "  0.5259888   0.53022274  0.53638579  0.59887303  0.65252521  0.6527589\n",
      "  0.69325189  0.71139475  0.71240188  0.73158247  0.74761339  0.75153445\n",
      "  0.78431651  0.86470533  0.8726142   0.88383632  0.88996922  0.97406376\n",
      "  0.99132177  1.03767668  1.09885071  1.19035625]\n"
     ]
    }
   ],
   "source": [
    "print(e)"
   ]
  },
  {
   "cell_type": "code",
   "execution_count": 14,
   "id": "9730bf22",
   "metadata": {},
   "outputs": [
    {
     "name": "stdout",
     "output_type": "stream",
     "text": [
      "0.00033709237287959937\n"
     ]
    }
   ],
   "source": [
    "overlap = np.dot(state1.conj().reshape(2**N, 1).T, v[0].reshape(2**N, 1))\n",
    "print(1 - (np.linalg.norm(overlap))**2)"
   ]
  },
  {
   "cell_type": "code",
   "execution_count": 27,
   "id": "d2dfb32a",
   "metadata": {},
   "outputs": [],
   "source": [
    "#this shit saves the ground state parameters\n",
    "import pickle\n",
    "fileName = \"2021_summer_data/0.035%_error_gs.json\"\n",
    "file = open(fileName,'wb')\n",
    "pickle.dump(gs.parameters, file)"
   ]
  },
  {
   "cell_type": "code",
   "execution_count": 32,
   "id": "0fdb6ee5",
   "metadata": {},
   "outputs": [
    {
     "name": "stderr",
     "output_type": "stream",
     "text": [
      "100%|█| 7000/7000 [22:51<00:00,  5.10it/s, Energy=-1.328282+0.000011j ± 0.000086\n"
     ]
    }
   ],
   "source": [
    "state_list1 = [gs]\n",
    "shift_list1 = [0.1]\n",
    "eng1, state1, st1 = runDescentCS(N,B,Ak,alpha, state_list1, shift_list1)"
   ]
  },
  {
   "cell_type": "code",
   "execution_count": 34,
   "id": "b8ca96ea",
   "metadata": {},
   "outputs": [
    {
     "name": "stderr",
     "output_type": "stream",
     "text": [
      "100%|█| 5000/5000 [14:37<00:00,  5.70it/s, Energy=-1.32786-0.00002j ± 0.00034 [σ\n"
     ]
    },
    {
     "data": {
      "text/plain": [
       "(JsonLog('2021_summer_data/Logs6', mode=write, autoflush_cost=0.005)\n",
       "   Runtime cost:\n",
       "   \tLog:    3.2936432361602783\n",
       "   \tParams: 0.03261756896972656,)"
      ]
     },
     "execution_count": 34,
     "metadata": {},
     "output_type": "execute_result"
    }
   ],
   "source": [
    "optimizer = optax.sgd(learning_rate=0.02)\n",
    "# Define Stochastic reconfiguration\n",
    "sr = nk.optimizer.SR(diag_shift=0.001)\n",
    "\n",
    "gta = vmc_ex.VMC_ex(hamiltonian=ha, optimizer=optimizer, variational_state=st1, preconditioner=sr, \n",
    "                   state_list = state_list1, shift_list = shift_list1)\n",
    "output = \"2021_summer_data/Logs\"+str(N)\n",
    "gta.run(out=output, n_iter=5000)"
   ]
  },
  {
   "cell_type": "code",
   "execution_count": 35,
   "id": "5d7c8c9c",
   "metadata": {},
   "outputs": [
    {
     "name": "stdout",
     "output_type": "stream",
     "text": [
      "0.0014630230312117076\n"
     ]
    }
   ],
   "source": [
    "sta_shit = st1.to_array()\n",
    "overlap = np.dot(sta_shit.conj().reshape(2**N, 1).T, v[1].reshape(2**N, 1))\n",
    "print(1 - (np.linalg.norm(overlap))**2)"
   ]
  },
  {
   "cell_type": "code",
   "execution_count": null,
   "id": "33fffa46",
   "metadata": {},
   "outputs": [],
   "source": []
  }
 ],
 "metadata": {
  "kernelspec": {
   "display_name": "Python 3 (ipykernel)",
   "language": "python",
   "name": "python3"
  },
  "language_info": {
   "codemirror_mode": {
    "name": "ipython",
    "version": 3
   },
   "file_extension": ".py",
   "mimetype": "text/x-python",
   "name": "python",
   "nbconvert_exporter": "python",
   "pygments_lexer": "ipython3",
   "version": "3.8.10"
  }
 },
 "nbformat": 4,
 "nbformat_minor": 5
}
