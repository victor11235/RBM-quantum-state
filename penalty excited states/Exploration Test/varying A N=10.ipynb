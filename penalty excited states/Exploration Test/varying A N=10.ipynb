{
 "cells": [
  {
   "cell_type": "code",
   "execution_count": 1,
   "id": "42d67e5e",
   "metadata": {},
   "outputs": [],
   "source": [
    "import netket as nk\n",
    "import json\n",
    "from qutip import *\n",
    "import numpy as np\n",
    "import time\n",
    "import multiprocessing as mp\n",
    "from collections import OrderedDict\n",
    "from pickle import dump\n",
    "import os\n",
    "import matplotlib.pyplot as plt\n",
    "import scipy\n",
    "from matplotlib import gridspec\n",
    "from functools import reduce\n",
    "plt.style.use('seaborn')\n",
    "from scipy.stats import norm\n",
    "import sys\n",
    "sys.path.append(\"/Users/victorwei/Research projects/Neural Network Quantum State/penalty excited states\")\n",
    "import expect_grad_ex\n",
    "import vmc_ex\n",
    "import jax\n",
    "import optax\n",
    "from mpi4py import MPI\n",
    "import mpi4jax\n",
    "#comm = MPI.COMM_WORLD\n",
    "#rank = comm.Get_rank()\n",
    "#print(rank)"
   ]
  },
  {
   "cell_type": "code",
   "execution_count": 7,
   "id": "5a743395",
   "metadata": {},
   "outputs": [],
   "source": [
    "def CSHam(N, B, Ak):\n",
    "    # Make graph with of length N with no periodic boundary conditions\n",
    "    g = nk.graph.Hypercube(length=N, n_dim=1, pbc=False)\n",
    "    # Spin based Hilbert Space\n",
    "    hilbertSpace = nk.hilbert.Spin(s=0.5, N=g.n_nodes)\n",
    "    # Define spin operators with \\hbar set to 1\n",
    "    sz = 0.5 * np.array([[1, 0], [0, -1]])\n",
    "    sx = 0.5 * np.array([[0, 1], [1, 0]])\n",
    "    sy = 0.5 * np.array([[0, -1j], [1j, 0]])\n",
    "    operators = []\n",
    "    sites = []\n",
    "    # Central spin term\n",
    "    operators.append((B * sz).tolist()) #array to list(ordered and changeable)\n",
    "    sites.append([0])\n",
    "    # Interaction term\n",
    "    itOp = np.kron(sz, sz) + np.kron(sx, sx) + np.kron(sy, sy) #kronecker product here\n",
    "    for i in range(N - 1):\n",
    "        operators.append((Ak[i] * itOp).tolist())\n",
    "        sites.append([0, (i+1)])  #pretty convoluted indexing, but ok\n",
    "    # Create hamiltonian\n",
    "    hamiltonian = nk.operator.LocalOperator(hilbertSpace, operators=operators, acting_on=sites, dtype=complex)\n",
    "    #acting_on specifier necessary as this is a central spin model\n",
    "    return hamiltonian, hilbertSpace\n",
    "\n",
    "def exactDiagonalization(hamiltonian):\n",
    "    # Changes Hamiltonian to matrix form, where hamiltonian of interest is sparse in matrix form\n",
    "    #haMatrix = hamiltonian.to_sparse()\n",
    "    # Gets eigenvalues and vectors, where the built-in function uses \n",
    "    eigenValues, v = nk.exact.lanczos_ed(hamiltonian, compute_eigenvectors=True)\n",
    "\n",
    "    # Orders from smallest to largest\n",
    "    eigenVectors = [v[:, i] for i in range(len(eigenValues))]\n",
    "    return eigenValues, eigenVectors\n",
    "\n",
    "def exactDiagonalization_full(hamiltonian):\n",
    "    # Changes Hamiltonian to matrix form\n",
    "    haMatrix = hamiltonian.to_dense()\n",
    "    # Gets eigenvalues and vectors\n",
    "    eigenValues, v = np.linalg.eigh(haMatrix)\n",
    "    # Orders from smallest to largest\n",
    "    eigenVectors = [v[:, i] for i in range(len(eigenValues))]\n",
    "    return eigenValues, eigenVectors\n",
    "\n",
    "# NetKet RBM with stochastic reconfiguration descent\n",
    "class RBM:\n",
    "    def __init__(self, N, hamiltonian, hilbertSpace, machine):\n",
    "        # Assign inputsv[:, i]\n",
    "        self.hamiltonian, self.hilbertSpace, self.machine, self.N = hamiltonian, hilbertSpace, machine, N\n",
    "        # Define sampler\n",
    "        self.sampler = nk.sampler.MetropolisLocal(hilbert=hilbertSpace)\n",
    "        # Define optimizer\n",
    "        self.optimizer = nk.optimizer.Sgd(learning_rate=0.01)\n",
    "        # Define Stochastic reconfiguration\n",
    "        self.sr = nk.optimizer.SR(diag_shift=0.01) #diagnol shift, its role as regularizer? seems to take a different form as \n",
    "        #compared to the version I have seen\n",
    "        # Variational state\n",
    "        self.vs = nk.vqs.MCState(self.sampler, self.machine, n_samples=3000, n_discard_per_chain=300) #discarded number of samples \n",
    "        #at the beginning of the MC chain\n",
    "\n",
    "    # Output is the name of the output file in which the descent data is stored\n",
    "    def __call__(self, output, state_list, shift_list):\n",
    "        self.vs.init_parameters(jax.nn.initializers.normal(stddev=0.25))\n",
    "        gs = vmc_ex.VMC_ex(hamiltonian=self.hamiltonian, optimizer=self.optimizer, variational_state=self.vs, preconditioner=self.sr, \n",
    "                   state_list = state_list, shift_list = shift_list)\n",
    "        # Start timing\n",
    "        start = time.time()\n",
    "        # Set the output files as well as number of iterations in the descent\n",
    "        gs.run(out=output, n_iter=100)\n",
    "        end = time.time()\n",
    "        runTime = end - start\n",
    "        # Import the data from log file\n",
    "        data = json.load(open(output + '.log'))\n",
    "        # Extract the relevant information\n",
    "        # iters = data[\"Energy\"][\"iters\"]\n",
    "        energy_RBM = data[\"Energy\"][\"Mean\"][\"real\"] #get the real part of the mean energy\n",
    "       \n",
    "        # finalEng = energy_RBM[-1]\n",
    "        finalEng = reduce(lambda x, y: x if y is None else y, energy_RBM)\n",
    "        # Get machine statethe state of the machine as an array\n",
    "        state = self.vs.to_array()\n",
    "        # Outputs the final energy, the final state, and the runtime\n",
    "        parameters = self.vs.parameters\n",
    "        # Outputs the final energy, the final state, and the runtime\n",
    "        return finalEng, state, self.vs\n",
    "    \n",
    "# Error Calculation (Input: the found state, the state from exact diagonalization, the found energy, the energy from exact diagonalization)\n",
    "def err(state, edState, eng, edEng,N):\n",
    "    engErr = np.abs(eng - edEng)\n",
    "    overlap = np.dot(state.conj().reshape(2**N, 1).T, edState.reshape(2**N, 1))\n",
    "    waveFunctionErr = 1 - (np.linalg.norm(overlap))**2\n",
    "    return engErr, waveFunctionErr\n",
    "\n",
    "\n",
    "# Combines all steps into a function to run on the cluster\n",
    "def runDescentCS(N,B,Ak,alpha, state_list, shift_list):\n",
    "    # Define hamiltonian and hibert space (need to do this here cause can't use netket objects as input to use multiprocessing functions)\n",
    "    ha, hi = CSHam(N,B,Ak)\n",
    "    # RBM Spin Machine\n",
    "    ma = nk.models.RBM(alpha=alpha, dtype=complex,use_visible_bias=True, use_hidden_bias=True)\n",
    "    # Initialize RBM\n",
    "    rbm = RBM(N, ha, hi, ma) #an instance of class RBM\n",
    "    # Run RBM\n",
    "    eng, state, vstate = rbm(\"2021_summer_data/ex1_var_N_10_alpha3_1_Logs_sta_er_test\"+str(N), state_list, shift_list) #where _call_ will be invoked\n",
    "    return eng, state, vstate"
   ]
  },
  {
   "cell_type": "code",
   "execution_count": 8,
   "id": "0e59c503",
   "metadata": {},
   "outputs": [
    {
     "name": "stderr",
     "output_type": "stream",
     "text": [
      "100%|█| 100/100 [00:08<00:00, 11.26it/s, Energy=-0.701-0.002j ± 0.011 [σ²=0.232,\n"
     ]
    }
   ],
   "source": [
    "N = 4\n",
    "Ak = []\n",
    "\n",
    "alpha = 3  #density of RBM\n",
    "M = alpha*N\n",
    "# Constant A\n",
    "B = 0.95\n",
    "# Variable A\n",
    "A = N/2\n",
    "N0 = N/2\n",
    "for i in range(N-1):\n",
    "    # Constant A\n",
    "    #Ak_i = 1\n",
    "    # Variable A\n",
    "    Ak_i = A / (N0) * np.exp(-i / N0)\n",
    "    Ak.append(Ak_i)\n",
    "    \n",
    "# Define hamiltonian and hilbert space\n",
    "ha, hi = CSHam(N,B,Ak)\n",
    "\n",
    "\n",
    "#Exact Diagonalization¢\n",
    "#e, v = exactDiagonalization_full(ha)\n",
    "\n",
    "ma = nk.models.RBM(alpha=3, dtype=complex,use_visible_bias=True, use_hidden_bias=True)\n",
    "sampler = nk.sampler.MetropolisLocal(hilbert=hi)\n",
    "vs1 = nk.vqs.MCState(sampler, ma, n_samples=3000, n_discard_per_chain=300)\n",
    "vs1.init_parameters(jax.nn.initializers.normal(stddev=0.25))\n",
    "state_list = [vs1]\n",
    "shift_list = [0]\n",
    "\n",
    "eng, state, gs = runDescentCS(N,B,Ak,alpha, state_list, shift_list)"
   ]
  },
  {
   "cell_type": "code",
   "execution_count": 103,
   "id": "62c94620",
   "metadata": {},
   "outputs": [
    {
     "name": "stderr",
     "output_type": "stream",
     "text": [
      "100%|█| 300/300 [02:06<00:00,  2.37it/s, Energy=-1.86310+0.00014j ± 0.00011 [σ²=\n"
     ]
    },
    {
     "data": {
      "text/plain": [
       "(JsonLog('2021_summer_data/var_N_10_alpha3_4_Logs10', mode=write, autoflush_cost=0.005)\n",
       "   Runtime cost:\n",
       "   \tLog:    0.1296858787536621\n",
       "   \tParams: 0.0020046234130859375,)"
      ]
     },
     "execution_count": 103,
     "metadata": {},
     "output_type": "execute_result"
    }
   ],
   "source": [
    "#keep running for a while\n",
    "optimizer = optax.sgd(learning_rate=0.005)\n",
    "# Define Stochastic reconfiguration\n",
    "sr = nk.optimizer.SR(diag_shift=0.001)\n",
    "\n",
    "gta = vmc_ex.VMC_ex(hamiltonian=ha, optimizer=optimizer, variational_state=gs, preconditioner=sr, \n",
    "                   state_list = state_list, shift_list = shift_list)\n",
    "output = \"2021_summer_data/var_N_10_alpha3_4_Logs\"+str(N)\n",
    "gta.run(out=output, n_iter=300)"
   ]
  },
  {
   "cell_type": "code",
   "execution_count": 107,
   "id": "77edb33e",
   "metadata": {},
   "outputs": [
    {
     "data": {
      "text/plain": [
       "-1.86235-0.00003j ± 0.00028 [σ²=0.00346, R̂=1.0001]"
      ]
     },
     "execution_count": 107,
     "metadata": {},
     "output_type": "execute_result"
    }
   ],
   "source": [
    "gs.n_samples = 80000\n",
    "gs.expect(ha)\n"
   ]
  },
  {
   "cell_type": "code",
   "execution_count": 121,
   "id": "cacd7829",
   "metadata": {},
   "outputs": [],
   "source": [
    "#this shit saves the ground state parameters\n",
    "import pickle\n",
    "fileName = \"2021_summer_data/0.063%_N10_error_gs.json\"\n",
    "file = open(fileName,'wb')\n",
    "pickle.dump(gs.parameters, file)"
   ]
  },
  {
   "cell_type": "code",
   "execution_count": 104,
   "id": "de2b4445",
   "metadata": {},
   "outputs": [],
   "source": [
    "c = gs.to_array()\n"
   ]
  },
  {
   "cell_type": "code",
   "execution_count": 4,
   "id": "20e9a8f7",
   "metadata": {},
   "outputs": [
    {
     "ename": "NameError",
     "evalue": "name 'ha' is not defined",
     "output_type": "error",
     "traceback": [
      "\u001b[0;31m---------------------------------------------------------------------------\u001b[0m",
      "\u001b[0;31mNameError\u001b[0m                                 Traceback (most recent call last)",
      "\u001b[0;32m/var/folders/bx/7c1x8cfn2yd7lc3x5qllnlth0000gn/T/ipykernel_1206/369934665.py\u001b[0m in \u001b[0;36m<module>\u001b[0;34m\u001b[0m\n\u001b[0;32m----> 1\u001b[0;31m \u001b[0me\u001b[0m\u001b[0;34m,\u001b[0m \u001b[0mv\u001b[0m \u001b[0;34m=\u001b[0m \u001b[0mexactDiagonalization_full\u001b[0m\u001b[0;34m(\u001b[0m\u001b[0mha\u001b[0m\u001b[0;34m)\u001b[0m\u001b[0;34m\u001b[0m\u001b[0;34m\u001b[0m\u001b[0m\n\u001b[0m",
      "\u001b[0;31mNameError\u001b[0m: name 'ha' is not defined"
     ]
    }
   ],
   "source": [
    "e, v = exactDiagonalization_full(ha)"
   ]
  },
  {
   "cell_type": "code",
   "execution_count": 139,
   "id": "e600a0f0",
   "metadata": {},
   "outputs": [
    {
     "name": "stdout",
     "output_type": "stream",
     "text": [
      "0.0006298737753793748\n"
     ]
    }
   ],
   "source": [
    "overlap = np.dot(c.conj().reshape(2**N, 1).T, v[0].reshape(2**N, 1))\n",
    "Err = 1 - (np.linalg.norm(overlap))**2\n",
    "print(Err)"
   ]
  },
  {
   "cell_type": "code",
   "execution_count": 120,
   "id": "fe3143d5",
   "metadata": {},
   "outputs": [
    {
     "name": "stdout",
     "output_type": "stream",
     "text": [
      "[0.        +0.j 0.02871584+0.j 0.03530649+0.j ... 0.        +0.j\n",
      " 0.        +0.j 0.        +0.j]\n"
     ]
    }
   ],
   "source": [
    "print(v[0])\n"
   ]
  },
  {
   "cell_type": "code",
   "execution_count": 9,
   "id": "4341e7f5",
   "metadata": {},
   "outputs": [],
   "source": [
    "#this shit loads the ground state parameters\n",
    "import pickle\n",
    "fileName = \"2021_summer_data/0.063%_N10_error_gs.json\"\n",
    "file = open(fileName,'rb')\n",
    "a = pickle.load(file)\n",
    "gs.parameters = a"
   ]
  },
  {
   "cell_type": "code",
   "execution_count": 12,
   "id": "c35e98d3",
   "metadata": {},
   "outputs": [],
   "source": [
    "#we now calculate the excited states\n",
    "N = 10\n",
    "Ak = []\n",
    "\n",
    "alpha = 3  #density of RBM\n",
    "M = alpha*N\n",
    "# Constant A\n",
    "B = 0.95\n",
    "# Variable A\n",
    "A = N/2\n",
    "N0 = N/2\n",
    "for i in range(N-1):\n",
    "    # Constant A\n",
    "    #Ak_i = 1\n",
    "    # Variable A\n",
    "    Ak_i = A / (N0) * np.exp(-i / N0)\n",
    "    Ak.append(Ak_i)\n",
    "    \n",
    "# Define hamiltonian and hilbert space\n",
    "ha, hi = CSHam(N,B,Ak)\n",
    "\n",
    "\n",
    "#Exact Diagonalization¢\n",
    "e, v = exactDiagonalization_full(ha)\n",
    "\n",
    "\n"
   ]
  },
  {
   "cell_type": "code",
   "execution_count": 14,
   "id": "c478e688",
   "metadata": {},
   "outputs": [
    {
     "name": "stderr",
     "output_type": "stream",
     "text": [
      "WARNING:absl:No GPU/TPU found, falling back to CPU. (Set TF_CPP_MIN_LOG_LEVEL=0 and rerun for more info.)\n",
      "/Users/victorwei/opt/miniconda3/lib/python3.8/site-packages/netket/vqs/mc/mc_state/state.py:58: UserWarning: n_samples=3000 (3000 per MPI rank) does not divide n_chains=16, increased to 3008 (3008 per MPI rank)\n",
      "  warnings.warn(\n",
      "100%|█| 1000/1000 [09:21<00:00,  1.78it/s, Energy=-1.6945+0.0014j ± 0.0021 [σ²=0\n"
     ]
    }
   ],
   "source": [
    "ma = nk.models.RBM(alpha=3, dtype=complex,use_visible_bias=True, use_hidden_bias=True)\n",
    "sampler = nk.sampler.MetropolisLocal(hilbert=hi)\n",
    "gs = nk.vqs.MCState(sampler, ma, n_samples=3000, n_discard_per_chain=300)\n",
    "#this shit loads the ground state parameters\n",
    "import pickle\n",
    "fileName = \"2021_summer_data/0.063%_N10_error_gs.json\"\n",
    "file = open(fileName,'rb')\n",
    "a = pickle.load(file)\n",
    "gs.parameters = a\n",
    "#gs.init_parameters(jax.nn.initializers.normal(stddev=0.25))\n",
    "state_list1 = [gs]\n",
    "shift_list1 = [0.08]\n",
    "\n",
    "eng1, state1, ex_1 = runDescentCS(N,B,Ak,alpha, state_list1, shift_list1)"
   ]
  },
  {
   "cell_type": "code",
   "execution_count": 37,
   "id": "78b280e6",
   "metadata": {},
   "outputs": [
    {
     "name": "stderr",
     "output_type": "stream",
     "text": [
      "100%|█| 1000/1000 [07:05<00:00,  2.35it/s, Energy=-1.77626+0.00057j ± 0.00017 [σ\n"
     ]
    },
    {
     "data": {
      "text/plain": [
       "(JsonLog('2021_summer_data/ex1_var_N_10_alpha3_pen0.8_Logs10_4_sta_er', mode=write, autoflush_cost=0.005)\n",
       "   Runtime cost:\n",
       "   \tLog:    0.5901055335998535\n",
       "   \tParams: 0.0052301883697509766,)"
      ]
     },
     "execution_count": 37,
     "metadata": {},
     "output_type": "execute_result"
    }
   ],
   "source": [
    "#keep running for a while\n",
    "optimizer = optax.sgd(learning_rate=0.1)\n",
    "# Define Stochastic reconfiguration\n",
    "sr = nk.optimizer.SR(diag_shift=0.01)\n",
    "\n",
    "#adjust number of samples\n",
    "ex_1.n_samples = 3000\n",
    "gs.n_samples = 3000\n",
    "state_list1 = [gs]\n",
    "shift_list1 = [0.08]\n",
    "\n",
    "gta = vmc_ex.VMC_ex(hamiltonian=ha, optimizer=optimizer, variational_state=ex_1, preconditioner=sr, \n",
    "                   state_list = state_list1, shift_list = shift_list1)\n",
    "output = \"2021_summer_data/ex1_var_N_10_alpha3_pen0.8_Logs\"+str(N)+\"_4_sta_er\"\n",
    "gta.run(out=output, n_iter=1000)"
   ]
  },
  {
   "cell_type": "code",
   "execution_count": 39,
   "id": "23f44a50",
   "metadata": {},
   "outputs": [
    {
     "name": "stdout",
     "output_type": "stream",
     "text": [
      "0.032263524574199065\n"
     ]
    }
   ],
   "source": [
    "ex1 = ex_1.to_array()\n",
    "overlap1 = np.dot(ex1.conj().reshape(2**N, 1).T, v[0].reshape(2**N, 1))\n",
    "#Err1 = 1 - (np.linalg.norm(overlap1))**2\n",
    "print(np.linalg.norm(overlap1))"
   ]
  },
  {
   "cell_type": "code",
   "execution_count": 11,
   "id": "bf654ee6",
   "metadata": {},
   "outputs": [
    {
     "ename": "AttributeError",
     "evalue": "'MCState' object has no attribute 'dtype'",
     "output_type": "error",
     "traceback": [
      "\u001b[0;31m---------------------------------------------------------------------------\u001b[0m",
      "\u001b[0;31mAttributeError\u001b[0m                            Traceback (most recent call last)",
      "\u001b[0;32m/var/folders/bx/7c1x8cfn2yd7lc3x5qllnlth0000gn/T/ipykernel_1203/1312602768.py\u001b[0m in \u001b[0;36m<module>\u001b[0;34m\u001b[0m\n\u001b[0;32m----> 1\u001b[0;31m \u001b[0mprint\u001b[0m\u001b[0;34m(\u001b[0m\u001b[0mgs\u001b[0m\u001b[0;34m.\u001b[0m\u001b[0mdtype\u001b[0m\u001b[0;34m)\u001b[0m\u001b[0;34m\u001b[0m\u001b[0;34m\u001b[0m\u001b[0m\n\u001b[0m",
      "\u001b[0;31mAttributeError\u001b[0m: 'MCState' object has no attribute 'dtype'"
     ]
    }
   ],
   "source": [
    "print(gs)"
   ]
  },
  {
   "cell_type": "code",
   "execution_count": null,
   "id": "0e20ac46",
   "metadata": {},
   "outputs": [],
   "source": []
  }
 ],
 "metadata": {
  "kernelspec": {
   "display_name": "Python 3 (ipykernel)",
   "language": "python",
   "name": "python3"
  },
  "language_info": {
   "codemirror_mode": {
    "name": "ipython",
    "version": 3
   },
   "file_extension": ".py",
   "mimetype": "text/x-python",
   "name": "python",
   "nbconvert_exporter": "python",
   "pygments_lexer": "ipython3",
   "version": "3.8.10"
  }
 },
 "nbformat": 4,
 "nbformat_minor": 5
}
