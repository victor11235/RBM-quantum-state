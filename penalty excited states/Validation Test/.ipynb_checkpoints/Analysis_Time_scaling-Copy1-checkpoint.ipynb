{
 "cells": [
  {
   "cell_type": "code",
   "execution_count": 10,
   "id": "93e1d562",
   "metadata": {},
   "outputs": [],
   "source": [
    "import netket as nk\n",
    "import json\n",
    "from qutip import *\n",
    "import numpy as np\n",
    "import time\n",
    "import multiprocessing as mp\n",
    "from collections import OrderedDict\n",
    "from pickle import dump\n",
    "import os\n",
    "import matplotlib.pyplot as plt\n",
    "import scipy\n",
    "from matplotlib import gridspec\n",
    "from functools import reduce\n",
    "plt.style.use('seaborn')\n",
    "from scipy.stats import norm\n",
    "import sys\n",
    "sys.path.append(\"/Users/victorwei/Research projects/Neural Network Quantum State/penalty excited states\")\n",
    "import expect_grad_ex\n",
    "import vmc_ex\n",
    "import jax\n",
    "\n"
   ]
  },
  {
   "cell_type": "code",
   "execution_count": 11,
   "id": "20d1ce4c",
   "metadata": {},
   "outputs": [],
   "source": [
    "def CSHam(N, B, Ak):\n",
    "    # Make graph with of length N with no periodic boundary conditions\n",
    "    g = nk.graph.Hypercube(length=N, n_dim=1, pbc=False)\n",
    "    # Spin based Hilbert Space\n",
    "    hilbertSpace = nk.hilbert.Spin(s=0.5, N=g.n_nodes)\n",
    "    # Define spin operators with \\hbar set to 1\n",
    "    sz = 0.5 * np.array([[1, 0], [0, -1]])\n",
    "    sx = 0.5 * np.array([[0, 1], [1, 0]])\n",
    "    sy = 0.5 * np.array([[0, -1j], [1j, 0]])\n",
    "    operators = []\n",
    "    sites = []\n",
    "    # Central spin term\n",
    "    operators.append((B * sz).tolist()) #array to list(ordered and changeable)\n",
    "    sites.append([0])\n",
    "    # Interaction term\n",
    "    itOp = np.kron(sz, sz) + np.kron(sx, sx) + np.kron(sy, sy) #kronecker product here\n",
    "    for i in range(N - 1):\n",
    "        operators.append((Ak[i] * itOp).tolist())\n",
    "        sites.append([0, (i+1)])  #pretty convoluted indexing, but ok\n",
    "    # Create hamiltonian\n",
    "    hamiltonian = nk.operator.LocalOperator(hilbertSpace, operators=operators, acting_on=sites, dtype=complex)\n",
    "    #acting_on specifier necessary as this is a central spin model\n",
    "    return hamiltonian, hilbertSpace\n",
    "\n",
    "def exactDiagonalization(hamiltonian):\n",
    "    # Changes Hamiltonian to matrix form, where hamiltonian of interest is sparse in matrix form\n",
    "    #haMatrix = hamiltonian.to_sparse()\n",
    "    # Gets eigenvalues and vectors, where the built-in function uses \n",
    "    eigenValues, v = nk.exact.lanczos_ed(hamiltonian, compute_eigenvectors=True)\n",
    "\n",
    "    # Orders from smallest to largest\n",
    "    eigenVectors = [v[:, i] for i in range(len(eigenValues))]\n",
    "    return eigenValues, eigenVectors\n",
    "\n",
    "def exactDiagonalization_full(hamiltonian):\n",
    "    # Changes Hamiltonian to matrix form\n",
    "    haMatrix = hamiltonian.to_dense()\n",
    "    # Gets eigenvalues and vectors\n",
    "    eigenValues, v = np.linalg.eigh(haMatrix)\n",
    "    # Orders from smallest to largest\n",
    "    eigenVectors = [v[:, i] for i in range(len(eigenValues))]\n",
    "    return eigenValues, eigenVectors\n",
    "\n",
    "# NetKet RBM with stochastic reconfiguration descent\n",
    "class RBM:\n",
    "    def __init__(self, N, hamiltonian, hilbertSpace, machine):\n",
    "        # Assign inputsv[:, i]\n",
    "        self.hamiltonian, self.hilbertSpace, self.machine, self.N = hamiltonian, hilbertSpace, machine, N\n",
    "        # Define sampler\n",
    "        self.sampler = nk.sampler.MetropolisLocal(hilbert=hilbertSpace)\n",
    "        # Define optimizer\n",
    "        self.optimizer = nk.optimizer.Sgd(learning_rate=0.05)\n",
    "        # Define Stochastic reconfiguration\n",
    "        self.sr = nk.optimizer.SR(diag_shift=0.05) #diagnol shift, its role as regularizer? seems to take a different form as \n",
    "        #compared to the version I have seen\n",
    "        # Variational state\n",
    "        self.vs = nk.vqs.MCState(self.sampler, self.machine, n_samples=2000, n_discard_per_chain=200) #discarded number of samples \n",
    "        #at the beginning of the MC chain\n",
    "\n",
    "    # Output is the name of the output file in which the descent data is stored\n",
    "    def __call__(self, output, state_list, shift_list):\n",
    "        self.vs.init_parameters(jax.nn.initializers.normal(stddev=0.25))\n",
    "        gs = vmc_ex.VMC_ex(hamiltonian=self.hamiltonian, optimizer=self.optimizer, variational_state=self.vs, preconditioner=self.sr, \n",
    "                   state_list = state_list, shift_list = shift_list)\n",
    "        # Start timing\n",
    "        start = time.time()\n",
    "        # Set the output files as well as number of iterations in the descent\n",
    "        gs.run(out=output, n_iter=500)\n",
    "        end = time.time()\n",
    "        runTime = end - start\n",
    "        # Import the data from log file\n",
    "        data = json.load(open(output + '.log'))\n",
    "        # Extract the relevant information\n",
    "        # iters = data[\"Energy\"][\"iters\"]\n",
    "        energy_RBM = data[\"Energy\"][\"Mean\"][\"real\"] #get the real part of the mean energy\n",
    "       \n",
    "        # finalEng = energy_RBM[-1]\n",
    "        finalEng = reduce(lambda x, y: x if y is None else y, energy_RBM)\n",
    "        # Get machine statethe state of the machine as an array\n",
    "        #state = self.vs.to_array()\n",
    "        # Outputs the final energy, the final state, and the runtime\n",
    "        #parameters = self.vs.parameters\n",
    "        # Outputs the final energy, the final state, and the runtime\n",
    "        return finalEng, runTime\n",
    "    \n",
    "# Error Calculation (Input: the found state, the state from exact diagonalization, the found energy, the energy from exact diagonalization)\n",
    "def err(state, edState, eng, edEng,N):\n",
    "    engErr = np.abs(eng - edEng)\n",
    "    overlap = np.dot(state.conj().reshape(2**N, 1).T, edState.reshape(2**N, 1))\n",
    "    waveFunctionErr = 1 - (np.linalg.norm(overlap))**2\n",
    "    return engErr, waveFunctionErr\n",
    "\n",
    "\n",
    "# Combines all steps into a function to run on the cluster\n",
    "def runDescentCS(N,B,Ak,alpha, state_list, shift_list):\n",
    "    # Define hamiltonian and hibert space (need to do this here cause can't use netket objects as input to use multiprocessing functions)\n",
    "    ha, hi = CSHam(N,B,Ak)\n",
    "    # RBM Spin Machine\n",
    "    ma = nk.models.RBM(alpha=1, dtype=complex,use_visible_bias=True, use_hidden_bias=True)\n",
    "    # Initialize RBM\n",
    "    rbm = RBM(N, ha, hi, ma) #an instance of class RBM\n",
    "    # Run RBM\n",
    "    eng, runTime = rbm(\"2021_summer_data/Logs\"+str(N), state_list, shift_list) #where _call_ will be invoked\n",
    "    return eng, runTime\n"
   ]
  },
  {
   "cell_type": "code",
   "execution_count": 12,
   "id": "6cf81d95",
   "metadata": {},
   "outputs": [
    {
     "name": "stderr",
     "output_type": "stream",
     "text": [
      "100%|█| 500/500 [00:05<00:00, 99.74it/s, Energy=-0.93929-0.00002j ± 0.00036 [σ²=\n",
      "100%|█| 500/500 [00:12<00:00, 38.49it/s, Energy=-1.55266-0.00003j ± 0.00049 [σ²=\n",
      "100%|█| 500/500 [00:22<00:00, 22.30it/s, Energy=-2.0965+0.0001j ± 0.0027 [σ²=0.0\n",
      "100%|█| 500/500 [00:38<00:00, 12.89it/s, Energy=-2.6164+0.0001j ± 0.0043 [σ²=0.0\n",
      "100%|█| 500/500 [01:00<00:00,  8.31it/s, Energy=-3.1325+0.0000j ± 0.0052 [σ²=0.0\n",
      "100%|█| 500/500 [01:27<00:00,  5.69it/s, Energy=-3.6355+0.0004j ± 0.0037 [σ²=0.0\n",
      "100%|█| 500/500 [01:49<00:00,  4.57it/s, Energy=-4.1464-0.0012j ± 0.0098 [σ²=0.1\n",
      "100%|█| 500/500 [02:27<00:00,  3.38it/s, Energy=-4.5856+0.0002j ± 0.0016 [σ²=0.0\n",
      "100%|█| 500/500 [03:17<00:00,  2.54it/s, Energy=-5.1024-0.0001j ± 0.0014 [σ²=0.0\n",
      "100%|█| 500/500 [03:26<00:00,  2.42it/s, Energy=-5.6786+0.0006j ± 0.0013 [σ²=0.0\n",
      "100%|█| 500/500 [04:01<00:00,  2.07it/s, Energy=-6.166-0.000j ± 0.010 [σ²=0.213,\n",
      "100%|█| 500/500 [05:25<00:00,  1.54it/s, Energy=-6.2244-0.0010j ± 0.0014 [σ²=0.0\n",
      "100%|█| 500/500 [05:51<00:00,  1.42it/s, Energy=-5.7635-0.0041j ± 0.0039 [σ²=0.0\n"
     ]
    }
   ],
   "source": [
    "#Data extraction for exact_full, exact_lan, and SR\n",
    "N = [2,4,6,8,10,12,14,16,18,20,22,24,26]\n",
    "Time_list = []\n",
    "for N_i in N:\n",
    "    \n",
    "    Ak = []\n",
    "\n",
    "    alpha = 1   #density of RBM\n",
    "    M = alpha*N_i\n",
    "    # Constant A\n",
    "    B = 0.95\n",
    "    # Variable A\n",
    "    A = N_i/2\n",
    "    N0 = N_i/2\n",
    "    for i in range(N_i-1):\n",
    "        # Constant A\n",
    "        Ak_i = 1\n",
    "        # Variable A\n",
    "        #Ak_i = A / (N0) * np.exp(-i / N0)\n",
    "        Ak.append(Ak_i)\n",
    "\n",
    "    # Define hamiltonian and hilbert space\n",
    "    ha, hi = CSHam(N_i,B,Ak)\n",
    "\n",
    "\n",
    "    #Exact Diagonalization\n",
    "    #e, v = exactDiagonalization_full(ha)\n",
    "\n",
    "    ma = nk.models.RBM(alpha=1, dtype=complex,use_visible_bias=True, use_hidden_bias=True)\n",
    "    sampler = nk.sampler.MetropolisLocal(hilbert=hi)\n",
    "    vs1 = nk.vqs.MCState(sampler, ma, n_samples=2000, n_discard_per_chain=200)\n",
    "    vs1.init_parameters(jax.nn.initializers.normal(stddev=0.25))\n",
    "    state_list = [vs1]\n",
    "    shift_list = [0]\n",
    "    \n",
    "    eng, runTime = runDescentCS(N_i,B,Ak,alpha, state_list, shift_list)\n",
    "    Time_list.append(runTime)\n"
   ]
  },
  {
   "cell_type": "code",
   "execution_count": 13,
   "id": "0478512f",
   "metadata": {},
   "outputs": [
    {
     "name": "stdout",
     "output_type": "stream",
     "text": [
      "Saved\n"
     ]
    }
   ],
   "source": [
    "#save the file of Time_list\n",
    "fileName = \"Time_data.json\"\n",
    "open(fileName, \"w\").close()\n",
    "with open(fileName, 'a') as file:\n",
    "    file.write(json.dumps(Time_list))\n",
    "print('Saved')"
   ]
  },
  {
   "cell_type": "code",
   "execution_count": 16,
   "id": "46f264b0",
   "metadata": {},
   "outputs": [
    {
     "data": {
      "image/png": "[encoded data removed]",
      "text/plain": [
       "<Figure size 576x396 with 1 Axes>"
      ]
     },
     "metadata": {},
     "output_type": "display_data"
    }
   ],
   "source": [
    "#plot all of them together, log-scale\n",
    "plt.plot(N,Time_list,'g>',markersize=8,label='Constant A, SR')\n",
    "#plt.plot(N,exact_full, 'b^',markersize=8,label='Constant A, ED_full ')\n",
    "#plt.plot(N,exact_lan, 'r^',markersize=8,label='Constant A, ED_lan ')\n",
    "#plt.yscale('log')\n",
    "plt.ylabel('Average Runtime [s]')\n",
    "plt.xlabel('N')\n",
    "plt.legend()\n",
    "plt.show()"
   ]
  },
  {
   "cell_type": "code",
   "execution_count": 17,
   "id": "898a489b",
   "metadata": {},
   "outputs": [
    {
     "name": "stdout",
     "output_type": "stream",
     "text": [
      "[ 0.44381128  2.3806596  -0.04648034] \n",
      " [[ 3.90421046e-03 -1.09318238e-01  5.46588474e-01]\n",
      " [-1.09318238e-01  3.23272239e+00 -1.77097514e+01]\n",
      " [ 5.46588474e-01 -1.77097514e+01  1.19815742e+02]]\n",
      "\n",
      "\n",
      "[ 14.80737541 -62.18005953] \n",
      " [[  0.94405086 -13.21671214]\n",
      " [-13.21671214 237.90082378]]\n"
     ]
    }
   ],
   "source": [
    "def quadratic(x,a,b,c):\n",
    "    y = a*x**2+b*x+c\n",
    "    return y\n",
    "\n",
    "def linear(x,a,b):\n",
    "    y = a*x+b\n",
    "    return y\n",
    "\n",
    "op_2, cov_2 = scipy.optimize.curve_fit(quadratic, N, Time_list, p0 = [0.3,7,-18])\n",
    "op_1, cov_1 = scipy.optimize.curve_fit(linear, N, Time_list, p0 = [10,2])\n",
    "print(op_2,'\\n', cov_2)\n",
    "print('\\n')\n",
    "print(op_1,'\\n', cov_1)"
   ]
  },
  {
   "cell_type": "code",
   "execution_count": 19,
   "id": "25233676",
   "metadata": {},
   "outputs": [
    {
     "data": {
      "image/png": "[encoded data removed]",
      "text/plain": [
       "<Figure size 576x396 with 1 Axes>"
      ]
     },
     "metadata": {},
     "output_type": "display_data"
    }
   ],
   "source": [
    "plt.plot(N,Time_list,'g>',markersize=8,label='Constant A, SR')\n",
    "plt.plot(N, quadratic(np.array(N),*op_2))\n",
    "#plt.plot(N, linear(np.array(N),*op_1))\n",
    "plt.ylabel('Average Runtime [s]')\n",
    "plt.xlabel('N')\n",
    "plt.legend()\n",
    "plt.show()"
   ]
  },
  {
   "cell_type": "code",
   "execution_count": null,
   "id": "840047b1",
   "metadata": {},
   "outputs": [],
   "source": []
  },
  {
   "cell_type": "code",
   "execution_count": null,
   "id": "9676267a",
   "metadata": {},
   "outputs": [],
   "source": []
  }
 ],
 "metadata": {
  "kernelspec": {
   "display_name": "Python 3 (ipykernel)",
   "language": "python",
   "name": "python3"
  },
  "language_info": {
   "codemirror_mode": {
    "name": "ipython",
    "version": 3
   },
   "file_extension": ".py",
   "mimetype": "text/x-python",
   "name": "python",
   "nbconvert_exporter": "python",
   "pygments_lexer": "ipython3",
   "version": "3.8.10"
  }
 },
 "nbformat": 4,
 "nbformat_minor": 5
}
